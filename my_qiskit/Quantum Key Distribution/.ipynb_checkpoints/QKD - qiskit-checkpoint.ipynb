{
 "cells": [
  {
   "cell_type": "markdown",
   "metadata": {},
   "source": [
    "## Quantum Key Distribution for a Channel\n",
    "- **OBJECTIVES** : Generating random keys and sending it over through simulation"
   ]
  },
  {
   "cell_type": "code",
   "execution_count": 1,
   "metadata": {},
   "outputs": [],
   "source": [
    "import numpy as np \n",
    "from qiskit import * \n",
    "import random"
   ]
  },
  {
   "cell_type": "markdown",
   "metadata": {},
   "source": [
    "- **KEY** : It is important for the sender and reciever to communicate through a KEY, something secret that is only known to them. KEY is used for encoding and decoding messages that are sent\n",
    "\n",
    "- QKD allows us to establish a shared key which is RANDOM.\n",
    "- Both have the same sequence of **0s and 1s**\n",
    "- Alice and Bob **DON'T HAVE TO MEET EACH OTHER EVEN ONCE**\n",
    "- This key is STILL TRANSFERRED SECRETLY.\n",
    "\n",
    "### GOAL \n",
    "- To **ESTABLISH A CONNECTION WITH A SECRET and RANDOM KEY**\n",
    "- This is a **symmetric key distribution**\n",
    "\n",
    "### - This is a 100% secure key distribution technique\n",
    "- It employs quantum mechanics to get the knowledge about whether your key was tampered with or not\n",
    "- Note : the information being transferred is just **CLASSICAL** but **KEY BEING TRANSFERRED IS TRANSFERRED THROUGH A QUANTUM CHANNEL**"
   ]
  },
  {
   "cell_type": "markdown",
   "metadata": {},
   "source": [
    "# STEPS"
   ]
  },
  {
   "cell_type": "code",
   "execution_count": 1,
   "metadata": {
    "ExecuteTime": {
     "end_time": "2021-03-26T17:11:16.764396Z",
     "start_time": "2021-03-26T17:11:11.836271Z"
    }
   },
   "outputs": [],
   "source": [
    "from qiskit import * \n",
    "from random import getrandbits"
   ]
  },
  {
   "cell_type": "markdown",
   "metadata": {},
   "source": [
    "### Pre - Knowledge \n",
    "- **You need to establish the length of the KEY**\n",
    "- Here -> **KEY : 600 bits**\n",
    "- Also we have a quantum and a classical channel"
   ]
  },
  {
   "cell_type": "code",
   "execution_count": 2,
   "metadata": {
    "ExecuteTime": {
     "end_time": "2021-03-26T17:11:18.379524Z",
     "start_time": "2021-03-26T17:11:18.375570Z"
    }
   },
   "outputs": [],
   "source": [
    "length_key = 600\n",
    "q_channel = []\n",
    "c_channel = []\n"
   ]
  },
  {
   "cell_type": "markdown",
   "metadata": {},
   "source": [
    "## Step1 : Alice selects bit-string and bases\n",
    "- Generate 600 bits that are random \n",
    "- Then generate another 600 bits to specify the **basis**"
   ]
  },
  {
   "cell_type": "code",
   "execution_count": 3,
   "metadata": {
    "ExecuteTime": {
     "end_time": "2021-03-26T17:11:20.155320Z",
     "start_time": "2021-03-26T17:11:20.150293Z"
    }
   },
   "outputs": [],
   "source": [
    "def select_encoding(length):\n",
    "    # To store the random 0 / 1\n",
    "    alice_bits = \"\"\n",
    "    # to store the random vertical or diagonal bases \n",
    "    alice_bases = \"\"\n",
    "    \n",
    "    for _ in range(length):\n",
    "        # just use randbits and append to the end of the string\n",
    "        alice_bits += str(getrandbits(1))\n",
    "        alice_bases += str(getrandbits(1))\n",
    "        \n",
    "    return alice_bits, alice_bases"
   ]
  },
  {
   "cell_type": "code",
   "execution_count": 4,
   "metadata": {
    "ExecuteTime": {
     "end_time": "2021-03-26T17:11:20.398654Z",
     "start_time": "2021-03-26T17:11:20.391807Z"
    }
   },
   "outputs": [
    {
     "name": "stdout",
     "output_type": "stream",
     "text": [
      "Alice's bits : 11010101001111011101 \n",
      "\n",
      "Alice's basis string : 11101101000001100001\n"
     ]
    }
   ],
   "source": [
    "alice_bits, alice_bases = select_encoding(length_key)\n",
    "print(\"Alice's bits :\",alice_bits[:20],\"\\n\")\n",
    "print(\"Alice's basis string :\",alice_bases[:20])"
   ]
  },
  {
   "cell_type": "markdown",
   "metadata": {},
   "source": [
    "## Step2 : Bob selects bases\n",
    "- BOB NEEDS TO SELECT **only bases**\n",
    "- Why? **BOB ONLY SELECTS THE BASES IN WHICH HE NEEDS TO MEASURE**"
   ]
  },
  {
   "cell_type": "code",
   "execution_count": 5,
   "metadata": {
    "ExecuteTime": {
     "end_time": "2021-03-26T17:11:20.813346Z",
     "start_time": "2021-03-26T17:11:20.809381Z"
    }
   },
   "outputs": [],
   "source": [
    "def select_bob_measurement(length):\n",
    "    bob_bases = \"\"\n",
    "    # bob selects the bases in which he wants to measure\n",
    "    for _ in range(length):\n",
    "        bob_bases += str(getrandbits(1))\n",
    "        \n",
    "    return bob_bases"
   ]
  },
  {
   "cell_type": "code",
   "execution_count": 6,
   "metadata": {
    "ExecuteTime": {
     "end_time": "2021-03-26T17:11:21.005865Z",
     "start_time": "2021-03-26T17:11:21.001871Z"
    }
   },
   "outputs": [
    {
     "name": "stdout",
     "output_type": "stream",
     "text": [
      "Bob's string: 11000010101110100000\n"
     ]
    }
   ],
   "source": [
    "bob_bases = select_bob_measurement(length_key)\n",
    "print(\"Bob's string:\",bob_bases[:20])"
   ]
  },
  {
   "cell_type": "markdown",
   "metadata": {},
   "source": [
    "<a id=\"step3\"></a>\n",
    "## 2.3. Step 3: Encode : All alice\n",
    "\n",
    "Alice now uses her random list of numbers to generate a bunch of quantum states:\n",
    "In this excercise we are going to represent the creation of a qubit as an individual `QuantumCircuit` object.\n",
    "\n",
    "The table below summarizes the qubit states Alice sends, based on the bit of Alice's `alice_bitstring` the corresponding bit of `selected_bases`:\n",
    "\n",
    "| Bit in Alice's `alice_bitstring` | Corresponding bit in `selected_bases` | Encoding basis | Qubit state sent |\n",
    "|:----------------:|:--------------------------:|:--------------------------:|:---------------:|\n",
    "| 0 | 0 |  Z | 0 |\n",
    "| 0 | 1 |  X | + |\n",
    "| 1 | 0 |  Z | 1 |\n",
    "| 1 | 1 |  X | - |"
   ]
  },
  {
   "cell_type": "code",
   "execution_count": 7,
   "metadata": {
    "ExecuteTime": {
     "end_time": "2021-03-26T17:11:21.282504Z",
     "start_time": "2021-03-26T17:11:21.277485Z"
    }
   },
   "outputs": [],
   "source": [
    "def generate_zqubit(q):\n",
    "    Q = QuantumCircuit(1,1)\n",
    "    if(int(q) == 1):\n",
    "        Q.x(0)\n",
    "    return Q\n",
    "    \n",
    "def generate_xqubit(q):\n",
    "    Q = QuantumCircuit(1,1)\n",
    "    if(int(q) == 0):\n",
    "        Q.h(0)\n",
    "    else:\n",
    "        Q.x(0)\n",
    "        Q.h(0)\n",
    "    return Q\n",
    "        "
   ]
  },
  {
   "cell_type": "code",
   "execution_count": 8,
   "metadata": {
    "ExecuteTime": {
     "end_time": "2021-03-26T17:11:21.406176Z",
     "start_time": "2021-03-26T17:11:21.395171Z"
    }
   },
   "outputs": [],
   "source": [
    "def encoded_qubits(alice_bits,alice_bases):\n",
    "    '''Encoded qubits : returns a list of QuantumCircuits with \n",
    "                         each QuantumCircuit representing a qubit'''\n",
    "    encoded = []\n",
    "    for i,k in zip(alice_bits,alice_bases):\n",
    "        \n",
    "#         print(\" Alice bit :\",i,\"Basis :\",k)\n",
    "\n",
    "        if(i == '0' and k == '0'):\n",
    "            # encoding is + and qubit would be |0>\n",
    "            q = generate_zqubit(i)\n",
    "        if(i == '1' and k == '0'):\n",
    "            # encoding is + and qubit would be |1> \n",
    "            q = generate_zqubit(i)\n",
    "        if(i == '0' and k == '1'):\n",
    "            # encoding is x and qubit would be |+>\n",
    "            q = generate_xqubit(i) \n",
    "        if(i == '1' and k == '1'):\n",
    "            q = generate_xqubit(i)\n",
    "#         display(q.draw('mpl'))\n",
    "        # now append the qubit in the channel \n",
    "        encoded.append(q)\n",
    "    \n",
    "    return encoded  \n",
    "    "
   ]
  },
  {
   "cell_type": "code",
   "execution_count": 9,
   "metadata": {
    "ExecuteTime": {
     "end_time": "2021-03-26T17:11:21.535833Z",
     "start_time": "2021-03-26T17:11:21.504910Z"
    },
    "scrolled": false
   },
   "outputs": [],
   "source": [
    "encoded_alice_bits = encoded_qubits(alice_bits,alice_bases)"
   ]
  },
  {
   "cell_type": "markdown",
   "metadata": {},
   "source": [
    "## Step4 : All alice\n",
    "- Send the qubits that you have to the **q_channel** \n",
    "- These qubits are just assigned to the quantum channel"
   ]
  },
  {
   "cell_type": "code",
   "execution_count": 10,
   "metadata": {
    "ExecuteTime": {
     "end_time": "2021-03-26T17:11:22.642776Z",
     "start_time": "2021-03-26T17:11:21.771199Z"
    }
   },
   "outputs": [
    {
     "data": {
      "image/png": "[encoded data removed]",
      "text/plain": [
       "<Figure size 193.726x144.48 with 1 Axes>"
      ]
     },
     "metadata": {},
     "output_type": "display_data"
    },
    {
     "data": {
      "image/png": "[encoded data removed]",
      "text/plain": [
       "<Figure size 193.726x144.48 with 1 Axes>"
      ]
     },
     "metadata": {},
     "output_type": "display_data"
    },
    {
     "data": {
      "image/png": "[encoded data removed]",
      "text/plain": [
       "<Figure size 133.526x144.48 with 1 Axes>"
      ]
     },
     "metadata": {},
     "output_type": "display_data"
    },
    {
     "data": {
      "image/png": "[encoded data removed]",
      "text/plain": [
       "<Figure size 133.526x144.48 with 1 Axes>"
      ]
     },
     "metadata": {},
     "output_type": "display_data"
    },
    {
     "data": {
      "image/png": "[encoded data removed]",
      "text/plain": [
       "<Figure size 133.526x144.48 with 1 Axes>"
      ]
     },
     "metadata": {},
     "output_type": "display_data"
    }
   ],
   "source": [
    "q_channel = encoded_alice_bits\n",
    "for k in q_channel[:5]:\n",
    "    display(k.draw('mpl'))"
   ]
  },
  {
   "cell_type": "markdown",
   "metadata": {},
   "source": [
    "## EVE ENTERS!"
   ]
  },
  {
   "cell_type": "markdown",
   "metadata": {},
   "source": [
    "## E1. Eve selects bases"
   ]
  },
  {
   "cell_type": "code",
   "execution_count": 11,
   "metadata": {
    "ExecuteTime": {
     "end_time": "2021-03-26T17:11:22.693967Z",
     "start_time": "2021-03-26T17:11:22.685986Z"
    }
   },
   "outputs": [],
   "source": [
    "def select_eve_bases(length):\n",
    "    eve_bases = \"\"\n",
    "    for _ in range(length):\n",
    "        b = getrandbits(1)\n",
    "        eve_bases+=(str(b))\n",
    "    \n",
    "    return eve_bases"
   ]
  },
  {
   "cell_type": "code",
   "execution_count": 12,
   "metadata": {
    "ExecuteTime": {
     "end_time": "2021-03-26T17:11:22.792051Z",
     "start_time": "2021-03-26T17:11:22.741894Z"
    }
   },
   "outputs": [
    {
     "name": "stdout",
     "output_type": "stream",
     "text": [
      "First 20 random bases that Eve selected : 01010111001110100010\n"
     ]
    }
   ],
   "source": [
    "eve_bases = select_eve_bases(length_key)\n",
    "print(\"First 20 random bases that Eve selected :\",eve_bases[:20])"
   ]
  },
  {
   "cell_type": "markdown",
   "metadata": {},
   "source": [
    "## E2. Eve intercepts the Channel"
   ]
  },
  {
   "cell_type": "code",
   "execution_count": 13,
   "metadata": {
    "ExecuteTime": {
     "end_time": "2021-03-26T17:11:22.867445Z",
     "start_time": "2021-03-26T17:11:22.831651Z"
    }
   },
   "outputs": [],
   "source": [
    "def measure_eve(eve_bases,encoded_qubits,backend):\n",
    "    # Eve would perform a measurement on the recieved state in the quantum channel \n",
    "    \n",
    "    eves_bitstring = \"\"\n",
    "    \n",
    "    for i in range(len(eve_bases)):\n",
    "        b = eve_bases[i]\n",
    "        q = encoded_qubits[i]\n",
    "        \n",
    "        # see which basis did Eve select\n",
    "        if b == '0':\n",
    "            # means Eve chose Z basis \n",
    "            q.measure(0,0)\n",
    "        else:\n",
    "            # means Eve chose the X basis\n",
    "            q.h(0)\n",
    "            q.measure(0,0)\n",
    "            \n",
    "        counts = execute(q,backend=backend,shots=1).result().get_counts()\n",
    "        # get the counts of values measured\n",
    "        measure_bit = max(counts, key = counts.get) \n",
    "        eves_bitstring+= str(measure_bit)\n",
    "    \n",
    "    return eves_bitstring\n",
    "            "
   ]
  },
  {
   "cell_type": "code",
   "execution_count": 14,
   "metadata": {
    "ExecuteTime": {
     "end_time": "2021-03-26T17:11:24.678946Z",
     "start_time": "2021-03-26T17:11:22.870437Z"
    }
   },
   "outputs": [
    {
     "name": "stdout",
     "output_type": "stream",
     "text": [
      "Eve measured : 011111010001010111111110001010 ...\n"
     ]
    }
   ],
   "source": [
    "backend = Aer.get_backend('qasm_simulator')\n",
    "eve_bits = measure_eve(eve_bases,q_channel,backend)\n",
    "print(\"Eve measured :\",eve_bits[:30],\"...\")"
   ]
  },
  {
   "cell_type": "markdown",
   "metadata": {},
   "source": [
    "## E3. Now Eve encodes"
   ]
  },
  {
   "cell_type": "code",
   "execution_count": 15,
   "metadata": {
    "ExecuteTime": {
     "end_time": "2021-03-26T17:11:24.735468Z",
     "start_time": "2021-03-26T17:11:24.725711Z"
    }
   },
   "outputs": [],
   "source": [
    "def encode_eve(eve_bitstring, eve_bases):\n",
    "    # encode the bit string that you measured \n",
    "    encoded_bits = []\n",
    "    for i in range(len(eve_bases)):\n",
    "        bit = eve_bitstring[i]\n",
    "        base = eve_bases[i]\n",
    "        # check the base\n",
    "        if(base == '0'): # z basis\n",
    "            q = generate_zqubit(bit)\n",
    "        else: # x basis\n",
    "            q = generate_xqubit(bit)\n",
    "        # append qubit to channel\n",
    "        encoded_bits.append(q)\n",
    "    \n",
    "    return encoded_bits\n"
   ]
  },
  {
   "cell_type": "code",
   "execution_count": 16,
   "metadata": {
    "ExecuteTime": {
     "end_time": "2021-03-26T17:11:24.842662Z",
     "start_time": "2021-03-26T17:11:24.772978Z"
    }
   },
   "outputs": [],
   "source": [
    "encoded_eve_bits = encode_eve(eve_bits,eve_bases)\n",
    "q_channel = encoded_eve_bits"
   ]
  },
  {
   "cell_type": "code",
   "execution_count": 17,
   "metadata": {
    "ExecuteTime": {
     "end_time": "2021-03-26T17:11:24.921299Z",
     "start_time": "2021-03-26T17:11:24.873018Z"
    }
   },
   "outputs": [
    {
     "name": "stdout",
     "output_type": "stream",
     "text": [
      "Eve intercepted, Let us see what Bob does now\n"
     ]
    }
   ],
   "source": [
    "print(\"Eve intercepted, Let us see what Bob does now\")"
   ]
  },
  {
   "cell_type": "markdown",
   "metadata": {},
   "source": [
    "## Step5 : Bob Measures\n",
    "- Bob now has to measure the qubits in the **RANDOM BASES THAT HE CHOSE IN PART 2**\n",
    "- Note : At the end of the measurement at Bob's end, **he does not have the key, just HIS MEASUREMENTS**\n",
    "\n",
    "### SHOTS = 1 is important for simulation"
   ]
  },
  {
   "cell_type": "code",
   "execution_count": 18,
   "metadata": {
    "ExecuteTime": {
     "end_time": "2021-03-26T17:11:25.005619Z",
     "start_time": "2021-03-26T17:11:24.949135Z"
    }
   },
   "outputs": [],
   "source": [
    "def measure_key(bob_bases, encoded_qubits,backend):\n",
    "    # Perform the measurement on the qubits you recieved from Alice\n",
    "    \n",
    "    # This is because Bob is going to need to measure the qubit he \n",
    "    # has recieved \n",
    "    \n",
    "    # Bob's bases need not be the same as the bases of Alice\n",
    "    \n",
    "    bob_bitstring = \"\"\n",
    "    for i,k in zip(bob_bases,encoded_qubits):\n",
    "        if i == '0':\n",
    "            # bob chose the Z basis\n",
    "            k.measure(0,0)\n",
    "        else:\n",
    "            # bob chose the x basis\n",
    "            k.h(0) # why? because this is going to bring our |+> as a |0> # and it is going to bring |-> into |1>\n",
    "            k.measure(0,0) \n",
    "        \n",
    "        counts = execute(k,backend=backend,shots= 1).result().get_counts()\n",
    "        \n",
    "        # max with a key is just a max function which gets the key with the maximum value\n",
    "        measure_bit = max(counts, key = counts.get) \n",
    "        bob_bitstring += str(measure_bit)\n",
    "    \n",
    "    return bob_bitstring\n",
    "            "
   ]
  },
  {
   "cell_type": "code",
   "execution_count": 19,
   "metadata": {
    "ExecuteTime": {
     "end_time": "2021-03-26T17:11:26.273212Z",
     "start_time": "2021-03-26T17:11:25.036429Z"
    }
   },
   "outputs": [],
   "source": [
    "sim_backend = Aer.get_backend('qasm_simulator')\n",
    "bob_string = measure_key(bob_bases,q_channel,sim_backend)"
   ]
  },
  {
   "cell_type": "code",
   "execution_count": 20,
   "metadata": {
    "ExecuteTime": {
     "end_time": "2021-03-26T17:11:26.305075Z",
     "start_time": "2021-03-26T17:11:26.299065Z"
    }
   },
   "outputs": [
    {
     "data": {
      "text/plain": [
       "'111111001001010111011110001010000111001100111101110001000100000001101011001111011010110111000111100010011100110001001111001101011010101111100011100100111100100110010101100101100001010100010001101000000010001110100000101001111111001011000011001011100011001110001011111101110011110110001110111101011111010011000110001101110011011100001001001101111001001101011000111011011100000001101000011001110100100100110110010110101100011110100000010111101100111011110110001110100000010010011010101110100111101100000010100101101110100101111010111110000100010011100001000000110011001011111101111011111011101000100110'"
      ]
     },
     "execution_count": 20,
     "metadata": {},
     "output_type": "execute_result"
    }
   ],
   "source": [
    "bob_string"
   ]
  },
  {
   "cell_type": "markdown",
   "metadata": {},
   "source": [
    "- The measured string is **not** the same as Alice's key"
   ]
  },
  {
   "cell_type": "code",
   "execution_count": 21,
   "metadata": {
    "ExecuteTime": {
     "end_time": "2021-03-26T17:11:28.396295Z",
     "start_time": "2021-03-26T17:11:28.390278Z"
    }
   },
   "outputs": [
    {
     "data": {
      "text/plain": [
       "False"
      ]
     },
     "execution_count": 21,
     "metadata": {},
     "output_type": "execute_result"
    }
   ],
   "source": [
    "alice_bits == bob_string"
   ]
  },
  {
   "cell_type": "markdown",
   "metadata": {},
   "source": [
    "## Step 6 : All Alice\n",
    "- Announce the BASES to bob via a classical channel.\n",
    "    - Note: **This all happened AFTER THE STATE HAS BEEN SENT SO EVE, EVEN IF SHE HEARD THE BASIS, CAN'T SET UP HER BASES AND THEN MEASURE , BECAUSE THE STATE HAS ALREADY BEEN PASSED THROUGH**"
   ]
  },
  {
   "cell_type": "code",
   "execution_count": 22,
   "metadata": {
    "ExecuteTime": {
     "end_time": "2021-03-26T17:11:29.103462Z",
     "start_time": "2021-03-26T17:11:29.100472Z"
    }
   },
   "outputs": [],
   "source": [
    "c_channel = alice_bases"
   ]
  },
  {
   "cell_type": "markdown",
   "metadata": {},
   "source": [
    "## Step 7 : Find the symmetric key \n",
    "- Now , given you have the bases of ALICE with you, you may identify **which bases you had same as ALICE**"
   ]
  },
  {
   "cell_type": "code",
   "execution_count": 23,
   "metadata": {
    "ExecuteTime": {
     "end_time": "2021-03-26T17:11:29.480831Z",
     "start_time": "2021-03-26T17:11:29.474844Z"
    }
   },
   "outputs": [],
   "source": [
    "def compare_bases(bob_bases,alice_bases):\n",
    "    '''compare_bases function just returns the \n",
    "       list of indices that Bob and Alice agree on \n",
    "       AFTER ALICE ANNOUNCES her bases \n",
    "       '''\n",
    "    indices = []\n",
    "    \n",
    "    for i in range(len(bob_bases)):\n",
    "        if(bob_bases[i] == alice_bases[i]):\n",
    "            indices.append(i)\n",
    "            \n",
    "    return indices"
   ]
  },
  {
   "cell_type": "code",
   "execution_count": 24,
   "metadata": {
    "ExecuteTime": {
     "end_time": "2021-03-26T17:11:29.654363Z",
     "start_time": "2021-03-26T17:11:29.650380Z"
    }
   },
   "outputs": [],
   "source": [
    "indices = compare_bases(bob_bases,c_channel)\n",
    "c_channel = indices "
   ]
  },
  {
   "cell_type": "markdown",
   "metadata": {},
   "source": [
    " Now, Bob will send the information to Alice that **THEY AGREED ON SO AND SO INDICES**"
   ]
  },
  {
   "cell_type": "code",
   "execution_count": 25,
   "metadata": {
    "ExecuteTime": {
     "end_time": "2021-03-26T17:11:30.391214Z",
     "start_time": "2021-03-26T17:11:30.387191Z"
    }
   },
   "outputs": [],
   "source": [
    "def construct_key_from_index(bit_string,indices):\n",
    "    '''Returns the final key for both alice and bob\n",
    "       given that they both know where they agreed upon'''\n",
    "    final_key =\"\"\n",
    "    for k in indices:\n",
    "        final_key+= str(bit_string[k])\n",
    "        \n",
    "    return final_key"
   ]
  },
  {
   "cell_type": "code",
   "execution_count": 26,
   "metadata": {
    "ExecuteTime": {
     "end_time": "2021-03-26T17:11:30.491912Z",
     "start_time": "2021-03-26T17:11:30.486926Z"
    }
   },
   "outputs": [],
   "source": [
    "alice_key = construct_key_from_index(alice_bits,indices)"
   ]
  },
  {
   "cell_type": "code",
   "execution_count": 27,
   "metadata": {
    "ExecuteTime": {
     "end_time": "2021-03-26T17:11:31.183291Z",
     "start_time": "2021-03-26T17:11:31.179276Z"
    }
   },
   "outputs": [],
   "source": [
    "bob_key = construct_key_from_index(bob_string,indices)"
   ]
  },
  {
   "cell_type": "code",
   "execution_count": 28,
   "metadata": {
    "ExecuteTime": {
     "end_time": "2021-03-26T17:11:31.298957Z",
     "start_time": "2021-03-26T17:11:31.294970Z"
    }
   },
   "outputs": [
    {
     "name": "stdout",
     "output_type": "stream",
     "text": [
      "Alice's Key : 111001110110010101101110110000010011001101001011101111111110010100111001011111101010011010000011110010010101011110011111100011101011101111011110011011001100101001011001011110011101000010111100001010110011100000100111100001010000001110100000011011110010010111000101110111001011000010010101011010110010\n",
      "\n",
      "Bob's Key :   111001110110010101101110100000101011101001011010101111111101100110100010110111100000000010000010010010011110011000011110100011111011010111011111001011110100000011011100011110011101000000100011001110110011100111100111100011011010111010001010101100110010110101100101101111000010000000010111111111000010\n"
     ]
    }
   ],
   "source": [
    "print(\"Alice's Key :\",alice_key)\n",
    "print(\"\\nBob's Key :  \",bob_key)"
   ]
  },
  {
   "cell_type": "markdown",
   "metadata": {},
   "source": [
    "## Why are these keys same? \n",
    "- This is because these keys are formed according to certain indices.\n",
    "- Which indices? Those indices **WHERE THEIR BASES MATCHED ACTUALLY**\n",
    "- So, if their bases matched, then WE USED THOSE MATCHED BASES TO ACTUALLY CONSTRUCT OUR KEY"
   ]
  },
  {
   "cell_type": "code",
   "execution_count": 29,
   "metadata": {
    "ExecuteTime": {
     "end_time": "2021-03-26T17:11:33.685720Z",
     "start_time": "2021-03-26T17:11:33.679722Z"
    }
   },
   "outputs": [
    {
     "name": "stdout",
     "output_type": "stream",
     "text": [
      "Length of original key : 600\n",
      "Length of final key : 300\n"
     ]
    }
   ],
   "source": [
    "print(\"Length of original key :\",length_key)\n",
    "print(\"Length of final key :\",len(alice_key))"
   ]
  },
  {
   "cell_type": "code",
   "execution_count": 30,
   "metadata": {
    "ExecuteTime": {
     "end_time": "2021-03-26T17:11:35.775901Z",
     "start_time": "2021-03-26T17:11:35.770903Z"
    }
   },
   "outputs": [
    {
     "data": {
      "text/plain": [
       "False"
      ]
     },
     "execution_count": 30,
     "metadata": {},
     "output_type": "execute_result"
    }
   ],
   "source": [
    "alice_key == bob_key"
   ]
  },
  {
   "cell_type": "markdown",
   "metadata": {},
   "source": [
    "# Even after the reveal of the bases, we can see that the key was not same!\n",
    "\n",
    "# They need to discard this channel and go on another one where they can be sure to have no eavesdropping"
   ]
  },
  {
   "cell_type": "code",
   "execution_count": 47,
   "metadata": {
    "ExecuteTime": {
     "end_time": "2021-03-26T17:21:41.849127Z",
     "start_time": "2021-03-26T17:21:41.833461Z"
    }
   },
   "outputs": [],
   "source": [
    "def loader():\n",
    "    for _ in range(10):\n",
    "        print(\".\",end='')\n",
    "        time.sleep(0.1)\n",
    "        print(\".\",end='')\n",
    "        time.sleep(0.1)\n",
    "        print(\".\",end='\\r')\n",
    "    print()"
   ]
  },
  {
   "cell_type": "markdown",
   "metadata": {},
   "source": [
    "## Putting it all together\n",
    "- This code block is a simulation of all the above functions.\n",
    "**NOTE** - all above functions need to be defined before running this code block"
   ]
  },
  {
   "cell_type": "code",
   "execution_count": 49,
   "metadata": {
    "ExecuteTime": {
     "end_time": "2021-03-26T17:22:34.409297Z",
     "start_time": "2021-03-26T17:22:07.452766Z"
    }
   },
   "outputs": [
    {
     "name": "stdout",
     "output_type": "stream",
     "text": [
      "Alice generating bases\n",
      "...............\n",
      "Bob generating bases\n",
      "..............\n",
      "Alice is encoding\n",
      "..........\n",
      "Eve is here!\n",
      "Eve is selecting bases\n",
      "................\n",
      "Eve measures!\n",
      "............\n",
      "Eve is encoding\n",
      ".....................\n",
      "Eve has sent!\n",
      "Bob is measuring\n",
      "...............\n",
      "Alice sending her bases\n",
      "...............\n",
      "Bob comparing bases\n",
      "................\n",
      "Bob sending common bases\n",
      ".................\n",
      "Keys being constructed\n",
      ".....................\n",
      "Eve intercepted the Channel.\n",
      "Are resulting keys equal ? \n",
      "..................\n",
      "\n",
      "Alice Key : 0001111010010111110100110010101111010111100001100011100000010111111011110110011111100011110001001010001110000010000110100101001011110011011111001111110111111011111111100010000111110110010100111010101011100010001010010011001010010101010101011011001011101010001001011000101111101101010111010110001110100101\n",
      "\n",
      "Bob Key : 1000010010010101110101110101001011011101101101001011101001010111111001010000001101100001110001011010001110101011010110101111101011110000010110011011100111111001001101101010110111011110011100111000110110010010100110010011001010000110000000011010001110101011001000111100100011001111010011000111000110100110\n",
      "False\n",
      "Length of keys : 304\n"
     ]
    }
   ],
   "source": [
    "import time\n",
    "# compiling it all together\n",
    "KEY_LENGTH = 500 \n",
    "\n",
    "#1. alice selects basis and her key \n",
    "alice_bits, alice_bases = select_encoding(length_key) \n",
    "print(\"Alice generating bases\")\n",
    "loader()\n",
    "\n",
    "#2. bob selects basis \n",
    "bob_bases = select_bob_measurement(length_key)\n",
    "print(\"Bob generating bases\")\n",
    "loader()\n",
    "#3. alice encodes \n",
    "encoded_alice_bits = encoded_qubits(alice_bits,alice_bases)\n",
    "print(\"Alice is encoding\")\n",
    "loader()\n",
    "#4. alice sends \n",
    "q_channel = encoded_alice_bits \n",
    "backend = Aer.get_backend('qasm_simulator')\n",
    "#5. eve intercepts\n",
    "eaves_drop = getrandbits(1)\n",
    "if eaves_drop == 1:\n",
    "    # eve interferes \n",
    "    print(\"Eve is here!\")\n",
    "    # selects bases\n",
    "    print(\"Eve is selecting bases\")\n",
    "    loader()\n",
    "    eve_bases = select_eve_bases(length_key)\n",
    "    # intercept the key \n",
    "    print(\"Eve measures!\")\n",
    "    loader()\n",
    "    eve_bits = measure_eve(eve_bases,q_channel,backend) \n",
    "    # re-encode and send off to Bob \n",
    "    print(\"Eve is encoding\")\n",
    "    loader()\n",
    "    encoded_eve_bits = encode_eve(eve_bits,eve_bases)\n",
    "    # send to Bob\n",
    "    print(\"Eve has sent!\")\n",
    "    q_channel = encoded_eve_bits \n",
    "    \n",
    "#6. Now Bob Measures \n",
    "print(\"Bob is measuring\")\n",
    "loader()\n",
    "bob_bit_string = measure_key(bob_bases,q_channel,backend)\n",
    "\n",
    "#7. now Alice reveals the bases with which she sent \n",
    "print(\"Alice sending her bases\")\n",
    "loader()\n",
    "c_channel = alice_bases \n",
    "\n",
    "print(\"Bob comparing bases\")\n",
    "loader()\n",
    "#8. Bob now sends alice which bases they agreed upon \n",
    "indices = compare_bases(bob_bases,c_channel)\n",
    "\n",
    "print(\"Bob sending common bases\")\n",
    "loader()\n",
    "#9. send the bases on which they agree upon \n",
    "c_channel = indices \n",
    "\n",
    "#10. re-construct the key \n",
    "print(\"Keys being constructed\")\n",
    "loader()\n",
    "alice_key = construct_key_from_index(alice_bits,c_channel)\n",
    "bob_key = construct_key_from_index(bob_bit_string,c_channel)\n",
    "\n",
    "if eaves_drop == 1:\n",
    "    print(\"Eve intercepted the Channel.\")\n",
    "    print(\"Are resulting keys equal ? \")\n",
    "    loader()\n",
    "    print(\"\\nAlice Key :\",alice_key)\n",
    "    print(\"\\nBob Key :\",bob_key)\n",
    "    print(alice_key == bob_key)\n",
    "    print(\"Length of keys :\",len(alice_key))\n",
    "    \n",
    "else:\n",
    "    print(\"Eve did not intercept the Channel.\")\n",
    "    print(\"Are resulting keys equal ? \")\n",
    "    loader()\n",
    "    print(\"\\nAlice Key :\",alice_key)\n",
    "    print(\"\\nBob Key :\",bob_key)\n",
    "    print(alice_key == bob_key)   \n",
    "    print(\"Length of keys :\",len(alice_key))"
   ]
  }
 ],
 "metadata": {
  "kernelspec": {
   "display_name": "Python 3",
   "language": "python",
   "name": "python3"
  },
  "language_info": {
   "codemirror_mode": {
    "name": "ipython",
    "version": 3
   },
   "file_extension": ".py",
   "mimetype": "text/x-python",
   "name": "python",
   "nbconvert_exporter": "python",
   "pygments_lexer": "ipython3",
   "version": "3.7.4"
  },
  "varInspector": {
   "cols": {
    "lenName": 16,
    "lenType": 16,
    "lenVar": 40
   },
   "kernels_config": {
    "python": {
     "delete_cmd_postfix": "",
     "delete_cmd_prefix": "del ",
     "library": "var_list.py",
     "varRefreshCmd": "print(var_dic_list())"
    },
    "r": {
     "delete_cmd_postfix": ") ",
     "delete_cmd_prefix": "rm(",
     "library": "var_list.r",
     "varRefreshCmd": "cat(var_dic_list()) "
    }
   },
   "types_to_exclude": [
    "module",
    "function",
    "builtin_function_or_method",
    "instance",
    "_Feature"
   ],
   "window_display": false
  }
 },
 "nbformat": 4,
 "nbformat_minor": 2
}
