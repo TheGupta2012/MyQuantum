{
 "cells": [
  {
   "cell_type": "markdown",
   "metadata": {},
   "source": [
    "## Circuit Identities"
   ]
  },
  {
   "cell_type": "markdown",
   "metadata": {},
   "source": [
    "### Controlled-Z from CNOT\n",
    "- CZ applies a Z gate to the target if the control is 1"
   ]
  },
  {
   "cell_type": "code",
   "execution_count": 10,
   "metadata": {
    "ExecuteTime": {
     "end_time": "2021-03-28T06:22:40.834225Z",
     "start_time": "2021-03-28T06:22:40.827244Z"
    }
   },
   "outputs": [],
   "source": [
    "from qiskit import * "
   ]
  },
  {
   "cell_type": "code",
   "execution_count": 2,
   "metadata": {
    "ExecuteTime": {
     "end_time": "2021-03-28T06:06:11.425522Z",
     "start_time": "2021-03-28T06:06:10.618746Z"
    }
   },
   "outputs": [
    {
     "data": {
      "image/png": "[encoded data removed]",
      "text/plain": [
       "<Figure size 146.652x144.48 with 1 Axes>"
      ]
     },
     "execution_count": 2,
     "metadata": {},
     "output_type": "execute_result"
    }
   ],
   "source": [
    "q  = QuantumCircuit(2)\n",
    "q.cz(0,1)\n",
    "q.draw('mpl')"
   ]
  },
  {
   "cell_type": "markdown",
   "metadata": {},
   "source": [
    "- But, there are limitations to the actual implementations of the gates \n",
    "- **Example** - IBMQ only has support for the CX gates and thus this needs to be broken down into single qubit gates and the CX gate\n",
    "\n",
    "- USEFUL IDENTITIES : \n",
    "$$HXH = Z$$ \n",
    "$$HZH = X$$\n",
    "\n",
    "- Note since CX is a controlled X gate, if we use **H** before and after the target qubit in the circuit, we would have the effect of the CZ gate!"
   ]
  },
  {
   "cell_type": "code",
   "execution_count": 9,
   "metadata": {
    "ExecuteTime": {
     "end_time": "2021-03-28T06:15:38.536918Z",
     "start_time": "2021-03-28T06:15:38.395585Z"
    }
   },
   "outputs": [
    {
     "data": {
      "image/png": "[encoded data removed]",
      "text/plain": [
       "<Figure size 327.252x144.48 with 1 Axes>"
      ]
     },
     "execution_count": 9,
     "metadata": {},
     "output_type": "execute_result"
    }
   ],
   "source": [
    "from random import getrandbits \n",
    "q = QuantumCircuit(2)\n",
    "if(getrandbits(1)):\n",
    "    q.x(0)\n",
    "if(getrandbits(1)):\n",
    "    q.x(1)\n",
    "q.barrier()\n",
    "q.h(1)\n",
    "q.cx(0,1)\n",
    "q.h(1)\n",
    "q.draw('mpl')"
   ]
  },
  {
   "cell_type": "markdown",
   "metadata": {},
   "source": [
    "### Testing "
   ]
  },
  {
   "cell_type": "code",
   "execution_count": 16,
   "metadata": {
    "ExecuteTime": {
     "end_time": "2021-03-28T06:25:56.551517Z",
     "start_time": "2021-03-28T06:25:55.811932Z"
    }
   },
   "outputs": [
    {
     "data": {
      "image/png": "[encoded data removed]",
      "text/plain": [
       "<Figure size 387.452x144.48 with 1 Axes>"
      ]
     },
     "metadata": {},
     "output_type": "display_data"
    },
    {
     "name": "stdout",
     "output_type": "stream",
     "text": [
      "10\n",
      "[0.+6.1232340e-17j 0.+0.0000000e+00j 1.-1.8369702e-16j 0.+0.0000000e+00j]\n"
     ]
    },
    {
     "data": {
      "image/png": "[encoded data removed]",
      "text/plain": [
       "<Figure size 387.452x144.48 with 1 Axes>"
      ]
     },
     "metadata": {},
     "output_type": "display_data"
    },
    {
     "name": "stdout",
     "output_type": "stream",
     "text": [
      "01\n",
      "[0.+0.000000e+00j 1.-6.123234e-17j 0.+0.000000e+00j 0.+6.123234e-17j]\n"
     ]
    },
    {
     "data": {
      "image/png": "[encoded data removed]",
      "text/plain": [
       "<Figure size 387.452x144.48 with 1 Axes>"
      ]
     },
     "metadata": {},
     "output_type": "display_data"
    },
    {
     "name": "stdout",
     "output_type": "stream",
     "text": [
      "10\n",
      "[0.+6.1232340e-17j 0.+0.0000000e+00j 1.-1.8369702e-16j 0.+0.0000000e+00j]\n"
     ]
    },
    {
     "data": {
      "image/png": "[encoded data removed]",
      "text/plain": [
       "<Figure size 387.452x144.48 with 1 Axes>"
      ]
     },
     "metadata": {},
     "output_type": "display_data"
    },
    {
     "name": "stdout",
     "output_type": "stream",
     "text": [
      "11\n",
      "Phase was successfully flipped!\n",
      "[ 0.+0.0000000e+00j  0.-6.1232340e-17j  0.+0.0000000e+00j\n",
      " -1.+1.8369702e-16j]\n"
     ]
    },
    {
     "data": {
      "image/png": "[encoded data removed]",
      "text/plain": [
       "<Figure size 387.452x144.48 with 1 Axes>"
      ]
     },
     "metadata": {},
     "output_type": "display_data"
    },
    {
     "name": "stdout",
     "output_type": "stream",
     "text": [
      "11\n",
      "Phase was successfully flipped!\n",
      "[ 0.+0.0000000e+00j  0.-6.1232340e-17j  0.+0.0000000e+00j\n",
      " -1.+1.8369702e-16j]\n"
     ]
    }
   ],
   "source": [
    "backend = Aer.get_backend('statevector_simulator')\n",
    "for _ in range(5):\n",
    "    q = QuantumCircuit(2)\n",
    "    if(getrandbits(1)):\n",
    "        q.x(0)\n",
    "    if(getrandbits(1)):\n",
    "        q.x(1)\n",
    "    q.barrier()\n",
    "    q.h(1)\n",
    "    q.cx(0,1)\n",
    "    q.h(1)\n",
    "    display(q.draw('mpl'))\n",
    "    state = execute(q,backend).result().get_statevector()\n",
    "    c = 0\n",
    "    for k in state:\n",
    "        if(k.real != 0):\n",
    "            print(bin(c)[2:].zfill(2))\n",
    "            if(k.real < 0):\n",
    "                print(\"Phase was successfully flipped!\")\n",
    "            break\n",
    "        c+=1\n",
    "    print(state)"
   ]
  },
  {
   "cell_type": "markdown",
   "metadata": {},
   "source": [
    "### More generally, we can transform a single CNOT into a controlled version of any rotation around the Bloch sphere by an angle π, by simply preceding and following it with the correct rotations"
   ]
  },
  {
   "cell_type": "markdown",
   "metadata": {},
   "source": [
    "- Note, that any rotation on the **Bloch Sphere** is ANTI - CLOCKWISE as seen from the axis\n",
    "- This greatly helps in visualizing and making the controlled gates"
   ]
  },
  {
   "cell_type": "markdown",
   "metadata": {},
   "source": [
    "## Swapping states\n",
    "- This is achieved by the fredkin gate \n",
    "- Let us see how we can implement it"
   ]
  },
  {
   "cell_type": "code",
   "execution_count": 17,
   "metadata": {
    "ExecuteTime": {
     "end_time": "2021-03-28T06:35:07.888972Z",
     "start_time": "2021-03-28T06:35:07.742271Z"
    }
   },
   "outputs": [
    {
     "data": {
      "image/png": "[encoded data removed]",
      "text/plain": [
       "<Figure size 146.652x144.48 with 1 Axes>"
      ]
     },
     "execution_count": 17,
     "metadata": {},
     "output_type": "execute_result"
    }
   ],
   "source": [
    "a = 0\n",
    "b = 1\n",
    "q = QuantumCircuit(2)\n",
    "q.swap(a,b)\n",
    "q.draw('mpl')"
   ]
  },
  {
   "cell_type": "markdown",
   "metadata": {},
   "source": [
    "- If you use two CNOTs, the states flip \n",
    "- NOTE that the CNOTs flip your state twice if you had 11 \n",
    "- For that, we need one additional CNOT at the end for the correction of this"
   ]
  },
  {
   "cell_type": "code",
   "execution_count": 27,
   "metadata": {
    "ExecuteTime": {
     "end_time": "2021-03-28T06:38:40.629649Z",
     "start_time": "2021-03-28T06:38:40.459781Z"
    }
   },
   "outputs": [
    {
     "data": {
      "image/png": "[encoded data removed]",
      "text/plain": [
       "<Figure size 387.452x144.48 with 1 Axes>"
      ]
     },
     "execution_count": 27,
     "metadata": {},
     "output_type": "execute_result"
    }
   ],
   "source": [
    "q = QuantumCircuit(2)\n",
    "if(getrandbits(1)):\n",
    "    q.x(0)\n",
    "if(getrandbits(1)):\n",
    "    q.x(1)\n",
    "q.barrier()\n",
    "q.cx(0,1)\n",
    "q.cx(1,0)\n",
    "q.cx(0,1)\n",
    "q.draw('mpl')"
   ]
  },
  {
   "cell_type": "markdown",
   "metadata": {},
   "source": [
    "### Testing"
   ]
  },
  {
   "cell_type": "code",
   "execution_count": 31,
   "metadata": {
    "ExecuteTime": {
     "end_time": "2021-03-28T06:42:40.339127Z",
     "start_time": "2021-03-28T06:42:39.567435Z"
    }
   },
   "outputs": [
    {
     "name": "stdout",
     "output_type": "stream",
     "text": [
      "\n",
      "Q1 : 1\n",
      "Q0 : 0\n"
     ]
    },
    {
     "data": {
      "image/png": "[encoded data removed]",
      "text/plain": [
       "<Figure size 387.452x144.48 with 1 Axes>"
      ]
     },
     "metadata": {},
     "output_type": "display_data"
    },
    {
     "name": "stdout",
     "output_type": "stream",
     "text": [
      "01\n",
      "[0.+0.j 1.+0.j 0.+0.j 0.+0.j]\n",
      "\n",
      "Q1 : 0\n",
      "Q0 : 0\n"
     ]
    },
    {
     "data": {
      "image/png": "[encoded data removed]",
      "text/plain": [
       "<Figure size 327.252x144.48 with 1 Axes>"
      ]
     },
     "metadata": {},
     "output_type": "display_data"
    },
    {
     "name": "stdout",
     "output_type": "stream",
     "text": [
      "00\n",
      "[1.+0.j 0.+0.j 0.+0.j 0.+0.j]\n",
      "\n",
      "Q1 : 0\n",
      "Q0 : 1\n"
     ]
    },
    {
     "data": {
      "image/png": "[encoded data removed]",
      "text/plain": [
       "<Figure size 387.452x144.48 with 1 Axes>"
      ]
     },
     "metadata": {},
     "output_type": "display_data"
    },
    {
     "name": "stdout",
     "output_type": "stream",
     "text": [
      "10\n",
      "[0.+0.j 0.+0.j 1.+0.j 0.+0.j]\n",
      "\n",
      "Q1 : 1\n",
      "Q0 : 1\n"
     ]
    },
    {
     "data": {
      "image/png": "[encoded data removed]",
      "text/plain": [
       "<Figure size 387.452x144.48 with 1 Axes>"
      ]
     },
     "metadata": {},
     "output_type": "display_data"
    },
    {
     "name": "stdout",
     "output_type": "stream",
     "text": [
      "11\n",
      "[0.+0.j 0.+0.j 0.+0.j 1.+0.j]\n",
      "\n",
      "Q1 : 1\n",
      "Q0 : 0\n"
     ]
    },
    {
     "data": {
      "image/png": "[encoded data removed]",
      "text/plain": [
       "<Figure size 387.452x144.48 with 1 Axes>"
      ]
     },
     "metadata": {},
     "output_type": "display_data"
    },
    {
     "name": "stdout",
     "output_type": "stream",
     "text": [
      "01\n",
      "[0.+0.j 1.+0.j 0.+0.j 0.+0.j]\n"
     ]
    }
   ],
   "source": [
    "backend = Aer.get_backend('statevector_simulator')\n",
    "for _ in range(5):\n",
    "    q = QuantumCircuit(2)\n",
    "    q0,q1 = getrandbits(1),getrandbits(1)\n",
    "    if(q0):\n",
    "        q.x(0)\n",
    "    if(q1):\n",
    "        q.x(1)\n",
    "    print(\"\\nQ1 :\",q1)\n",
    "    print(\"Q0 :\",q0)\n",
    "    q.barrier()\n",
    "    q.cx(1,0)\n",
    "    q.cx(0,1)\n",
    "    q.cx(1,0)\n",
    "    display(q.draw('mpl'))\n",
    "    state = execute(q,backend).result().get_statevector()\n",
    "    c = 0\n",
    "    for k in state:\n",
    "        if(k.real != 0):\n",
    "            print(bin(c)[2:].zfill(2))\n",
    "            break\n",
    "        c+=1\n",
    "    print(state)"
   ]
  },
  {
   "cell_type": "markdown",
   "metadata": {},
   "source": [
    "## Swapping the |+> |-> state\n",
    "- Well we just built CZ , let us use it! \n",
    "- Why? because CZ flips + to - and - to + !"
   ]
  },
  {
   "cell_type": "code",
   "execution_count": 34,
   "metadata": {
    "ExecuteTime": {
     "end_time": "2021-03-28T06:48:30.027046Z",
     "start_time": "2021-03-28T06:48:28.912641Z"
    }
   },
   "outputs": [
    {
     "name": "stdout",
     "output_type": "stream",
     "text": [
      "\n",
      "Q1 : 1\n",
      "Q0 : 0\n"
     ]
    },
    {
     "data": {
      "image/png": "[encoded data removed]",
      "text/plain": [
       "<Figure size 628.252x144.48 with 1 Axes>"
      ]
     },
     "metadata": {},
     "output_type": "display_data"
    },
    {
     "name": "stdout",
     "output_type": "stream",
     "text": [
      "00\n",
      "[ 0.5-6.1232340e-17j  0.5-1.2246468e-16j  0.5-1.2246468e-16j\n",
      " -0.5+1.8369702e-16j]\n",
      "\n",
      "Q1 : 0\n",
      "Q0 : 0\n"
     ]
    },
    {
     "data": {
      "image/png": "[encoded data removed]",
      "text/plain": [
       "<Figure size 507.852x144.48 with 1 Axes>"
      ]
     },
     "metadata": {},
     "output_type": "display_data"
    },
    {
     "name": "stdout",
     "output_type": "stream",
     "text": [
      "00\n",
      "[ 0.5+0.0000000e+00j  0.5-6.1232340e-17j  0.5-6.1232340e-17j\n",
      " -0.5+1.2246468e-16j]\n",
      "\n",
      "Q1 : 0\n",
      "Q0 : 1\n"
     ]
    },
    {
     "data": {
      "image/png": "[encoded data removed]",
      "text/plain": [
       "<Figure size 628.252x144.48 with 1 Axes>"
      ]
     },
     "metadata": {},
     "output_type": "display_data"
    },
    {
     "name": "stdout",
     "output_type": "stream",
     "text": [
      "00\n",
      "[ 0.5-6.1232340e-17j  0.5-1.2246468e-16j  0.5-1.2246468e-16j\n",
      " -0.5+1.8369702e-16j]\n",
      "\n",
      "Q1 : 0\n",
      "Q0 : 1\n"
     ]
    },
    {
     "data": {
      "image/png": "[encoded data removed]",
      "text/plain": [
       "<Figure size 628.252x144.48 with 1 Axes>"
      ]
     },
     "metadata": {},
     "output_type": "display_data"
    },
    {
     "name": "stdout",
     "output_type": "stream",
     "text": [
      "00\n",
      "[ 0.5-6.1232340e-17j  0.5-1.2246468e-16j  0.5-1.2246468e-16j\n",
      " -0.5+1.8369702e-16j]\n",
      "\n",
      "Q1 : 0\n",
      "Q0 : 0\n"
     ]
    },
    {
     "data": {
      "image/png": "[encoded data removed]",
      "text/plain": [
       "<Figure size 507.852x144.48 with 1 Axes>"
      ]
     },
     "metadata": {},
     "output_type": "display_data"
    },
    {
     "name": "stdout",
     "output_type": "stream",
     "text": [
      "00\n",
      "[ 0.5+0.0000000e+00j  0.5-6.1232340e-17j  0.5-6.1232340e-17j\n",
      " -0.5+1.2246468e-16j]\n"
     ]
    }
   ],
   "source": [
    "backend = Aer.get_backend('statevector_simulator')\n",
    "for _ in range(5):\n",
    "    q = QuantumCircuit(2)\n",
    "    q0,q1 = getrandbits(1),getrandbits(1)\n",
    "    if(q0):\n",
    "        q.x(0)\n",
    "    if(q1):\n",
    "        q.x(1)\n",
    "    q.h([0,1])\n",
    "    print(\"\\nQ1 :\",q1)\n",
    "    print(\"Q0 :\",q0)\n",
    "    q.barrier()\n",
    "    q.cz(1,0)\n",
    "    q.cz(0,1)\n",
    "    q.cz(1,0)\n",
    "    q.barrier()\n",
    "    q.h([0,1])\n",
    "    \n",
    "    if(q0):\n",
    "        q.x(0)\n",
    "    if(q1):\n",
    "        q.x(1)\n",
    "    display(q.draw('mpl'))\n",
    "    \n",
    "    state = execute(q,backend).result().get_statevector()\n",
    "    c = 0\n",
    "    for k in state:\n",
    "        if(k.real != 0):\n",
    "            print(bin(c)[2:].zfill(2))\n",
    "            break\n",
    "        c+=1\n",
    "    print(state)"
   ]
  },
  {
   "cell_type": "code",
   "execution_count": null,
   "metadata": {},
   "outputs": [],
   "source": []
  }
 ],
 "metadata": {
  "kernelspec": {
   "display_name": "Python 3",
   "language": "python",
   "name": "python3"
  },
  "language_info": {
   "codemirror_mode": {
    "name": "ipython",
    "version": 3
   },
   "file_extension": ".py",
   "mimetype": "text/x-python",
   "name": "python",
   "nbconvert_exporter": "python",
   "pygments_lexer": "ipython3",
   "version": "3.7.4"
  },
  "varInspector": {
   "cols": {
    "lenName": 16,
    "lenType": 16,
    "lenVar": 40
   },
   "kernels_config": {
    "python": {
     "delete_cmd_postfix": "",
     "delete_cmd_prefix": "del ",
     "library": "var_list.py",
     "varRefreshCmd": "print(var_dic_list())"
    },
    "r": {
     "delete_cmd_postfix": ") ",
     "delete_cmd_prefix": "rm(",
     "library": "var_list.r",
     "varRefreshCmd": "cat(var_dic_list()) "
    }
   },
   "types_to_exclude": [
    "module",
    "function",
    "builtin_function_or_method",
    "instance",
    "_Feature"
   ],
   "window_display": false
  }
 },
 "nbformat": 4,
 "nbformat_minor": 2
}
