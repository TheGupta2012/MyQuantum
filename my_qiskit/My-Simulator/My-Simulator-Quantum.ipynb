{
 "cells": [
  {
   "cell_type": "markdown",
   "metadata": {},
   "source": [
    "## Quantum Simulator\n",
    "- This is a quantum simulator written primarily for practice purposes \n",
    "- The simulator is written in python, leveraging the **numpy** module of python to implement relevant objects of quantum computing i.e. states, gates and measurements\n",
    "- Let's get started"
   ]
  },
  {
   "cell_type": "code",
   "execution_count": 7,
   "metadata": {
    "ExecuteTime": {
     "end_time": "2021-04-03T07:18:55.137311Z",
     "start_time": "2021-04-03T07:18:55.126141Z"
    }
   },
   "outputs": [],
   "source": [
    "import numpy as np\n",
    "import random\n",
    "import matplotlib.pyplot as plt\n",
    "import matplotlib"
   ]
  },
  {
   "cell_type": "code",
   "execution_count": 8,
   "metadata": {
    "ExecuteTime": {
     "end_time": "2021-04-03T07:18:55.407771Z",
     "start_time": "2021-04-03T07:18:55.395482Z"
    }
   },
   "outputs": [
    {
     "name": "stdout",
     "output_type": "stream",
     "text": [
      "Numpy version : 1.19.5\n",
      "Matplotlib version : 3.1.1\n"
     ]
    }
   ],
   "source": [
    "print(\"Numpy version :\", np.__version__)\n",
    "print(\"Matplotlib version :\", matplotlib.__version__)"
   ]
  },
  {
   "cell_type": "markdown",
   "metadata": {},
   "source": [
    "# Getting started\n",
    "- The first and the most important requirements in a simulator is to initialize a STATE of your system and to select the **endianess** of your system. \n",
    "\n",
    "- The numpy functionalities are used to define the initialization of the system and *little endian* approach is chosen for the description of the system.\n",
    "\n",
    "- EXAMPLE : 00010 means the right-most bit belongs to the first qubit and the left-most bit belongs to the last qubit\n",
    "\n",
    "- This means that this the above state corresponds to the state |00010> where the second-qubit is 1.\n"
   ]
  },
  {
   "cell_type": "code",
   "execution_count": 110,
   "metadata": {
    "ExecuteTime": {
     "end_time": "2021-04-03T08:37:14.285478Z",
     "start_time": "2021-04-03T08:37:14.259749Z"
    }
   },
   "outputs": [],
   "source": [
    "def initialize(n, state = None):\n",
    "    '''Returns an n qubit circuit \n",
    "       PARAMETERS: n- number of qubits \n",
    "                   state- the state vector of the system \n",
    "                   type - list or list-like with each value giving the probability amplitude\n",
    "                          of the state \n",
    "                    (default - 0 for all qubits)'''\n",
    "    zero = np.array([[1],\n",
    "                     [0]])\n",
    "    base = zero\n",
    "    for _ in range(1, n):\n",
    "        base = np.kron(base, zero)\n",
    "#     print(base.shape)\n",
    "    \n",
    "    if state is not None:\n",
    "        if(len(state) != 2**n):\n",
    "            raise Exception(\"Invalid Length for the qubit state vector\")\n",
    "\n",
    "        else:\n",
    "            # Check if the probabilities sum up to\n",
    "            # one or not, upto a threshold\n",
    "            thres = 1e-6\n",
    "            s = 0.0\n",
    "            for k in state:\n",
    "                s += abs(k)**2\n",
    "\n",
    "            # check for normaliztion\n",
    "            if(abs(1.0-s) <= thres):\n",
    "                normalised = True\n",
    "            else:\n",
    "                normalised = False\n",
    "            # If state is normalized\n",
    "            if normalised:\n",
    "                base = np.array(state)\n",
    "            else:\n",
    "                raise Exception(\"Invalid state, probabilities do not sum upto 1\")\n",
    "    return base"
   ]
  },
  {
   "cell_type": "code",
   "execution_count": 111,
   "metadata": {
    "ExecuteTime": {
     "end_time": "2021-04-03T08:37:14.809727Z",
     "start_time": "2021-04-03T08:37:14.804483Z"
    }
   },
   "outputs": [
    {
     "data": {
      "text/plain": [
       "array([[1],\n",
       "       [0],\n",
       "       [0],\n",
       "       [0],\n",
       "       [0],\n",
       "       [0],\n",
       "       [0],\n",
       "       [0]])"
      ]
     },
     "execution_count": 111,
     "metadata": {},
     "output_type": "execute_result"
    }
   ],
   "source": [
    "s= initialize(3)\n",
    "s"
   ]
  },
  {
   "cell_type": "markdown",
   "metadata": {},
   "source": [
    "## to - do : define gates"
   ]
  },
  {
   "cell_type": "code",
   "execution_count": null,
   "metadata": {},
   "outputs": [],
   "source": []
  }
 ],
 "metadata": {
  "kernelspec": {
   "display_name": "Python 3",
   "language": "python",
   "name": "python3"
  },
  "language_info": {
   "codemirror_mode": {
    "name": "ipython",
    "version": 3
   },
   "file_extension": ".py",
   "mimetype": "text/x-python",
   "name": "python",
   "nbconvert_exporter": "python",
   "pygments_lexer": "ipython3",
   "version": "3.7.4"
  },
  "varInspector": {
   "cols": {
    "lenName": 16,
    "lenType": 16,
    "lenVar": 40
   },
   "kernels_config": {
    "python": {
     "delete_cmd_postfix": "",
     "delete_cmd_prefix": "del ",
     "library": "var_list.py",
     "varRefreshCmd": "print(var_dic_list())"
    },
    "r": {
     "delete_cmd_postfix": ") ",
     "delete_cmd_prefix": "rm(",
     "library": "var_list.r",
     "varRefreshCmd": "cat(var_dic_list()) "
    }
   },
   "types_to_exclude": [
    "module",
    "function",
    "builtin_function_or_method",
    "instance",
    "_Feature"
   ],
   "window_display": false
  }
 },
 "nbformat": 4,
 "nbformat_minor": 2
}
