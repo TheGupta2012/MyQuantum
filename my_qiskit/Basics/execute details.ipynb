{
 "cells": [
  {
   "cell_type": "code",
   "execution_count": 65,
   "metadata": {
    "ExecuteTime": {
     "end_time": "2021-06-25T17:27:24.623089Z",
     "start_time": "2021-06-25T17:27:24.600151Z"
    }
   },
   "outputs": [],
   "source": [
    "from qiskit import * \n",
    "from qiskit.extensions import UnitaryGate\n",
    "from qiskit.tools.visualization import plot_histogram\n",
    "from qiskit import IBMQ \n",
    "from qiskit.providers.ibmq import least_busy \n",
    "import matplotlib.pyplot as plt \n",
    "import numpy as np \n",
    "%matplotlib inline "
   ]
  },
  {
   "cell_type": "code",
   "execution_count": 7,
   "metadata": {
    "ExecuteTime": {
     "end_time": "2021-06-25T17:02:50.231742Z",
     "start_time": "2021-06-25T17:02:40.518203Z"
    }
   },
   "outputs": [
    {
     "name": "stderr",
     "output_type": "stream",
     "text": [
      "ibmqfactory.load_account:WARNING:2021-06-25 22:32:41,743: Credentials are already in use. The existing account in the session will be replaced.\n"
     ]
    }
   ],
   "source": [
    "IBMQ.load_account()\n",
    "provider = IBMQ.get_provider('ibm-q-education')\n"
   ]
  },
  {
   "cell_type": "markdown",
   "metadata": {},
   "source": [
    "### The execute function\n",
    "- Executes a **list** of QuantumCircuits or Schedule on the specified backend.\n",
    "- execution is **asynchronous**, and a handle to a **job** instance is returned.\n"
   ]
  },
  {
   "cell_type": "code",
   "execution_count": 4,
   "metadata": {
    "ExecuteTime": {
     "end_time": "2021-06-25T16:53:32.509791Z",
     "start_time": "2021-06-25T16:53:32.441470Z"
    }
   },
   "outputs": [],
   "source": [
    "??execute"
   ]
  },
  {
   "cell_type": "markdown",
   "metadata": {},
   "source": [
    "## Main parameters\n",
    "- **experiments** - the list of experiments we want to run \n",
    "- **backend** - the backend on which we want to run them\n",
    "- **shots** - the number of shots for which our circuit is executed in the backend\n",
    "- **initial_layout** - which particular qubit is mapped to which qubit of the actual device\n",
    "    - can be virtual to physical : [0,3,5] means the first qubit in the circuit would be mapped to the 0th qubit of the device, the second qubit of the circuit would be mapped to the 3rd qubit in the device and the third qubit is mapped to the 5th qubit in the device.\n",
    "- **optimization_level** - the level upto which we want to optimize our circuit ( 3 is the highest, default is 1 )\n",
    "- **seed_transpiler/simulator** - the random seed we would need to provide for the transpiler and the simulator to run \n",
    "- **coupling_map** - \n",
    "\n",
    "    - CouplingMap instance\n",
    "    - list Must be given as an adjacency matrix, where each entry specifies all two-qubit interactions supported by backend e.g: [[0, 1], [0, 3], [1, 2], [1, 5], [2, 5], [4, 1], [5, 3]]"
   ]
  },
  {
   "cell_type": "code",
   "execution_count": 62,
   "metadata": {
    "ExecuteTime": {
     "end_time": "2021-06-25T17:26:02.676388Z",
     "start_time": "2021-06-25T17:26:02.671402Z"
    }
   },
   "outputs": [],
   "source": [
    "casb = provider.get_backend('ibmq_casablanca')\n",
    "belem = provider.get_backend('ibmq_belem')"
   ]
  },
  {
   "cell_type": "code",
   "execution_count": 59,
   "metadata": {
    "ExecuteTime": {
     "end_time": "2021-06-25T17:23:59.748329Z",
     "start_time": "2021-06-25T17:23:59.741667Z"
    }
   },
   "outputs": [
    {
     "data": {
      "text/plain": [
       "7"
      ]
     },
     "execution_count": 59,
     "metadata": {},
     "output_type": "execute_result"
    }
   ],
   "source": [
    "casb.configuration().num_qubits "
   ]
  },
  {
   "cell_type": "markdown",
   "metadata": {},
   "source": [
    "## Executing a simple phase estimation circuit"
   ]
  },
  {
   "cell_type": "code",
   "execution_count": 76,
   "metadata": {
    "ExecuteTime": {
     "end_time": "2021-06-25T17:29:25.938425Z",
     "start_time": "2021-06-25T17:29:25.694307Z"
    }
   },
   "outputs": [
    {
     "data": {
      "image/png": "[encoded data removed]",
      "text/plain": [
       "<Figure size 989.597x264.88 with 1 Axes>"
      ]
     },
     "execution_count": 76,
     "metadata": {},
     "output_type": "execute_result"
    }
   ],
   "source": [
    "q = QuantumCircuit(3,2)\n",
    "q.x(2)\n",
    "q.h([0,1])\n",
    "q.barrier()\n",
    "u = UnitaryGate(data = np.array([[1,0],\n",
    "                            [0,np.exp(2*np.pi*1j*(1/2))]]))\n",
    "c_gate = u.control(label = 'CU',num_ctrl_qubits = 1, ctrl_state = '1')\n",
    "q.append(c_gate,qargs = [1,2])\n",
    "q.append(c_gate,qargs = [0,2])\n",
    "q.append(c_gate,qargs = [0,2])\n",
    "q.barrier([0,1,2])\n",
    "q.h(0)\n",
    "q.cp(-np.pi/2,0,1)\n",
    "q.h(1)\n",
    "# q.barrier()\n",
    "q.measure([0,1],[0,1])\n",
    "q.draw('mpl')"
   ]
  },
  {
   "cell_type": "code",
   "execution_count": 80,
   "metadata": {
    "ExecuteTime": {
     "end_time": "2021-06-25T17:32:04.383357Z",
     "start_time": "2021-06-25T17:30:15.841809Z"
    }
   },
   "outputs": [
    {
     "name": "stdout",
     "output_type": "stream",
     "text": [
      "Result(backend_name='ibmq_belem', backend_version='1.0.14', qobj_id='c45614b1-0921-4ffc-995a-198610edfbff', job_id='60d612a895ecf1057a300fc5', success=True, results=[ExperimentResult(shots=4096, success=True, meas_level=2, data=ExperimentResultData(counts={'0x0': 379, '0x1': 444, '0x2': 3017, '0x3': 256}), header=QobjExperimentHeader(clbit_labels=[['c', 0], ['c', 1]], creg_sizes=[['c', 2]], global_phase=-3.141592653589793, memory_slots=2, metadata={}, n_qubits=5, name='circuit-519', qreg_sizes=[['q', 5]], qubit_labels=[['q', 0], ['q', 1], ['q', 2], ['q', 3], ['q', 4]]), memory=False)], date=2021-06-25 23:00:33+05:30, status=Successful completion, status=QobjHeader(backend_name='ibmq_belem', backend_version='1.0.14'), time_taken=4.9444191455841064, execution_id='092e316c-d5db-11eb-80d2-b02628f7f59e', client_version={'qiskit': '0.26.0'})\n"
     ]
    }
   ],
   "source": [
    "job = execute(q,backend=belem,initial_layout=[1,3,4],shots = 2**12,optimization_level=3)\n",
    "print(job.result())"
   ]
  },
  {
   "cell_type": "code",
   "execution_count": 81,
   "metadata": {
    "ExecuteTime": {
     "end_time": "2021-06-25T17:32:04.446419Z",
     "start_time": "2021-06-25T17:32:04.432220Z"
    }
   },
   "outputs": [],
   "source": [
    "res = job.result()"
   ]
  },
  {
   "cell_type": "code",
   "execution_count": 82,
   "metadata": {
    "ExecuteTime": {
     "end_time": "2021-06-25T17:32:04.725456Z",
     "start_time": "2021-06-25T17:32:04.480341Z"
    }
   },
   "outputs": [
    {
     "data": {
      "image/png": "[encoded data removed]",
      "text/plain": [
       "<Figure size 504x360 with 1 Axes>"
      ]
     },
     "execution_count": 82,
     "metadata": {},
     "output_type": "execute_result"
    }
   ],
   "source": [
    "plot_histogram(res.get_counts())"
   ]
  },
  {
   "cell_type": "markdown",
   "metadata": {},
   "source": [
    "## Cool!"
   ]
  },
  {
   "cell_type": "markdown",
   "metadata": {},
   "source": [
    "## Amazing function discovered!!! \n",
    "- filter"
   ]
  },
  {
   "cell_type": "code",
   "execution_count": 34,
   "metadata": {
    "ExecuteTime": {
     "end_time": "2021-06-25T17:10:32.139024Z",
     "start_time": "2021-06-25T17:10:32.125883Z"
    }
   },
   "outputs": [],
   "source": [
    "def func(x):\n",
    "    return x[0] + x[1] > 0"
   ]
  },
  {
   "cell_type": "code",
   "execution_count": 37,
   "metadata": {
    "ExecuteTime": {
     "end_time": "2021-06-25T17:11:20.153468Z",
     "start_time": "2021-06-25T17:11:20.144497Z"
    }
   },
   "outputs": [],
   "source": [
    "a = [[1,2],[2,1],[4,5],[-1,-1],[5,-9],[-3,2]]\n",
    "# func acts on the elements of a \n",
    "# whatever you wanna do just pass that into \n",
    "# the function , coooollll!!!!\n",
    "b = list(filter(func,a))"
   ]
  },
  {
   "cell_type": "code",
   "execution_count": 39,
   "metadata": {
    "ExecuteTime": {
     "end_time": "2021-06-25T17:11:20.922369Z",
     "start_time": "2021-06-25T17:11:20.911506Z"
    }
   },
   "outputs": [
    {
     "data": {
      "text/plain": [
       "[[1, 2], [2, 1], [4, 5]]"
      ]
     },
     "execution_count": 39,
     "metadata": {},
     "output_type": "execute_result"
    }
   ],
   "source": [
    "b "
   ]
  },
  {
   "cell_type": "code",
   "execution_count": null,
   "metadata": {},
   "outputs": [],
   "source": []
  }
 ],
 "metadata": {
  "kernelspec": {
   "display_name": "Python 3",
   "language": "python",
   "name": "python3"
  },
  "language_info": {
   "codemirror_mode": {
    "name": "ipython",
    "version": 3
   },
   "file_extension": ".py",
   "mimetype": "text/x-python",
   "name": "python",
   "nbconvert_exporter": "python",
   "pygments_lexer": "ipython3",
   "version": "3.7.4"
  },
  "varInspector": {
   "cols": {
    "lenName": 16,
    "lenType": 16,
    "lenVar": 40
   },
   "kernels_config": {
    "python": {
     "delete_cmd_postfix": "",
     "delete_cmd_prefix": "del ",
     "library": "var_list.py",
     "varRefreshCmd": "print(var_dic_list())"
    },
    "r": {
     "delete_cmd_postfix": ") ",
     "delete_cmd_prefix": "rm(",
     "library": "var_list.r",
     "varRefreshCmd": "cat(var_dic_list()) "
    }
   },
   "types_to_exclude": [
    "module",
    "function",
    "builtin_function_or_method",
    "instance",
    "_Feature"
   ],
   "window_display": false
  }
 },
 "nbformat": 4,
 "nbformat_minor": 2
}
