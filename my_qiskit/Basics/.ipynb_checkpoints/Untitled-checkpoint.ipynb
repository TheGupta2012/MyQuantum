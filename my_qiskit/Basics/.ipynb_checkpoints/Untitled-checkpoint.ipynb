{
 "cells": [
  {
   "cell_type": "code",
   "execution_count": 3,
   "metadata": {
    "ExecuteTime": {
     "end_time": "2021-02-24T10:19:26.988076Z",
     "start_time": "2021-02-24T10:19:26.985050Z"
    }
   },
   "outputs": [],
   "source": [
    "from qiskit import *\n",
    "from qiskit_textbook.tools import array_to_latex\n",
    "from qiskit.tools.visualization import plot_histogram, plot_bloch_multivector \n",
    "import numpy as np "
   ]
  },
  {
   "cell_type": "markdown",
   "metadata": {},
   "source": [
    "## Multi Qubit systems\n",
    "- Obviously the power of quantum is realised from multi qubit systems.\n",
    "- Multi qubit systems are manipulated with multi qubit gates .\n",
    "- But, on the lower level, all multi qubit gates can be broken down into **one or two qubit gates**\n"
   ]
  },
  {
   "cell_type": "markdown",
   "metadata": {},
   "source": [
    "## Representing Multi Qubit states\n",
    "- Any system with n qubits had 2^n basis states in which the system can be defined in terms of \n",
    "- Example -> 2 qubit system :\n",
    "\n",
    " $$|00\\rangle, |01\\rangle, |10\\rangle\\ and\\ |11\\rangle$$\n",
    " \n",
    " **RULES OF MEASUREMENT** : They are still the same. Eg - \n",
    " \n",
    " $$p(|00\\rangle) = |\\langle00|\\Psi\\rangle|^{2}$$\n",
    " \n",
    " $$-\\ where\\ |\\Psi\\rangle\\ is\\ any\\ quantum\\ state$$\n",
    " \n",
    " - If separate states are present, there collective state can be represented by their *tensor* products\n",
    " - Example, :\n",
    " \n",
    "   $$Let\\ |a\\rangle and\\ |b\\rangle\\ be\\ two\\ distinct\\ states\\$$\n",
    "   \n",
    "   $$then\\ - \\langle a|\\otimes |b\\rangle is\\ the\\ resulting\\ state\\$$\n",
    "   \n",
    "   - This is for more than 2 qubits : \n",
    "   <img src='tensor.jpg' width = 200 height = 300>"
   ]
  },
  {
   "cell_type": "markdown",
   "metadata": {},
   "source": [
    "- From the above discussion, we can see that the number of complex amplitudes grow exponentially as the number of qubits in our system increases and that is why **simulating quantum devices not possible for very large qubit systems**"
   ]
  },
  {
   "cell_type": "code",
   "execution_count": 5,
   "metadata": {
    "ExecuteTime": {
     "end_time": "2021-02-24T10:19:56.008426Z",
     "start_time": "2021-02-24T10:19:55.763732Z"
    }
   },
   "outputs": [
    {
     "data": {
      "image/png": "[encoded data removed]",
      "text/plain": [
       "<Figure size 146.652x144.48 with 1 Axes>"
      ]
     },
     "execution_count": 5,
     "metadata": {},
     "output_type": "execute_result"
    }
   ],
   "source": [
    "# practice \n",
    "# 1. tensor product of |0>|1> \n",
    "q = QuantumCircuit(2)\n",
    "q.x(0)\n",
    "q.draw('mpl')"
   ]
  },
  {
   "cell_type": "code",
   "execution_count": 7,
   "metadata": {
    "ExecuteTime": {
     "end_time": "2021-02-24T10:20:24.112890Z",
     "start_time": "2021-02-24T10:20:24.104915Z"
    }
   },
   "outputs": [
    {
     "data": {
      "text/latex": [
       "$\\displaystyle \n",
       "\\begin{bmatrix}\n",
       "0 \\\\\n",
       "1 \\\\\n",
       "0 \\\\\n",
       "0\n",
       "\\end{bmatrix}\n",
       "$"
      ],
      "text/plain": [
       "<IPython.core.display.Math object>"
      ]
     },
     "metadata": {},
     "output_type": "display_data"
    }
   ],
   "source": [
    "backend = Aer.get_backend('statevector_simulator')\n",
    "res = execute(q,backend).result().get_statevector()\n",
    "array_to_latex(res) # this is because the array number in qiskit is big endian"
   ]
  },
  {
   "cell_type": "code",
   "execution_count": 10,
   "metadata": {
    "ExecuteTime": {
     "end_time": "2021-02-24T10:22:46.811253Z",
     "start_time": "2021-02-24T10:22:46.696490Z"
    }
   },
   "outputs": [
    {
     "data": {
      "image/png": "[encoded data removed]",
      "text/plain": [
       "<Figure size 146.652x144.48 with 1 Axes>"
      ]
     },
     "execution_count": 10,
     "metadata": {},
     "output_type": "execute_result"
    }
   ],
   "source": [
    "# 2. |0>|+> -> + on the first according to qiskit... \n",
    "q = QuantumCircuit(2)\n",
    "q.h(0)\n",
    "q.draw('mpl')"
   ]
  },
  {
   "cell_type": "code",
   "execution_count": 11,
   "metadata": {
    "ExecuteTime": {
     "end_time": "2021-02-24T10:22:47.321074Z",
     "start_time": "2021-02-24T10:22:47.313109Z"
    }
   },
   "outputs": [
    {
     "data": {
      "text/latex": [
       "$\\displaystyle \n",
       "\\begin{bmatrix}\n",
       "\\tfrac{1}{\\sqrt{2}} \\\\\n",
       "\\tfrac{1}{\\sqrt{2}} \\\\\n",
       "0 \\\\\n",
       "0\n",
       "\\end{bmatrix}\n",
       "$"
      ],
      "text/plain": [
       "<IPython.core.display.Math object>"
      ]
     },
     "metadata": {},
     "output_type": "display_data"
    }
   ],
   "source": [
    "backend = Aer.get_backend('statevector_simulator')\n",
    "res = execute(q,backend).result().get_statevector()\n",
    "array_to_latex(res) # this is because the array number in qiskit is big endian"
   ]
  },
  {
   "cell_type": "code",
   "execution_count": null,
   "metadata": {},
   "outputs": [],
   "source": []
  }
 ],
 "metadata": {
  "kernelspec": {
   "display_name": "Python 3",
   "language": "python",
   "name": "python3"
  },
  "language_info": {
   "codemirror_mode": {
    "name": "ipython",
    "version": 3
   },
   "file_extension": ".py",
   "mimetype": "text/x-python",
   "name": "python",
   "nbconvert_exporter": "python",
   "pygments_lexer": "ipython3",
   "version": "3.7.4"
  },
  "varInspector": {
   "cols": {
    "lenName": 16,
    "lenType": 16,
    "lenVar": 40
   },
   "kernels_config": {
    "python": {
     "delete_cmd_postfix": "",
     "delete_cmd_prefix": "del ",
     "library": "var_list.py",
     "varRefreshCmd": "print(var_dic_list())"
    },
    "r": {
     "delete_cmd_postfix": ") ",
     "delete_cmd_prefix": "rm(",
     "library": "var_list.r",
     "varRefreshCmd": "cat(var_dic_list()) "
    }
   },
   "types_to_exclude": [
    "module",
    "function",
    "builtin_function_or_method",
    "instance",
    "_Feature"
   ],
   "window_display": false
  }
 },
 "nbformat": 4,
 "nbformat_minor": 2
}
