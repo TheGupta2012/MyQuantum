{
 "cells": [
  {
   "cell_type": "markdown",
   "metadata": {},
   "source": [
    "## Why does quantum help though?\n",
    "- Quantum computers actually can solve problems by employing methods which no classical computer can ever utilize. \n",
    "- These **methods** provide us the speed up or the quantum advantage that we all refer to everytime.\n",
    "- Look at the addition of two numbers :\n",
    "- The addition of two numbers actually has a $$O(n)$$ classical runtime on a single classical computer\n",
    "- This is actually the optimal time for the running of the algorithm classically"
   ]
  },
  {
   "cell_type": "markdown",
   "metadata": {},
   "source": [
    "## Why are they not enough?\n",
    "- Because optimal classical runtimes for some problems are very bad\n",
    "- Example - > factorizing a number into its prime factors\n",
    "- It has an exponential complexity ( in terms of the number of digits in the number) and makes factorization a hard problem to solve classically\n",
    "- We know $$O(\\sqrt{n})$$ complexity but that is in terms of the *number* not the number of *digits*"
   ]
  },
  {
   "cell_type": "markdown",
   "metadata": {},
   "source": [
    "- To demonstrate this point using actual computation time, we can take a recent example. \n",
    " Consider the following 829-digit number.\n",
    " \n",
    "**rsa_250=2140324650240744961264423072839333563008614715144755017797754920881418023447140136643345519095804679610992851872470914587687396261921557363047454770520805119056493106687691590019759405693457452230589325976697471681738069364894699871578494975937497937**\n",
    "- Multiplication and addition is okay.\n",
    "- Try factorizing it and you'll be stuffed - For large numbers, we easily get to a point where a **planet-sized supercomputer would need to run for the age of the universe**"
   ]
  },
  {
   "cell_type": "markdown",
   "metadata": {},
   "source": [
    "## Beyond Digital\n",
    "- To propose an ideal model of computation, it might seek to combine the robustness of a digital computer with the subtle manipulations of an analog computer. \n",
    "- Why hard to build analog? Errors can be extremely small and hard to detect.\n",
    "- But Qubits are a system with discrete outputs 0 and 1, and yet can exist in states that can only be described by continuous parameters. They are a mix of both, abstractly speaking.\n",
    "- A quantum computer, whose primitive operations are gates applied to qubits, is therefore **neither analog nor digital, but something unique**\n",
    "- Quantum computing is the only known technology that can be exponentially faster than classical computers for certain tasks\n"
   ]
  },
  {
   "cell_type": "markdown",
   "metadata": {},
   "source": [
    "## When to use Quantum?\n",
    "- Using quantum we hope to find solutions to the problems which are very difficult to deal with on the classical computers.\n",
    "- Quantum computers may provide a very big advantage when **a search space needs to be analysed** and no optimization is possible for the classical computers.\n",
    "- For example, if we want to find the value of some parameter x for which some function f(x) is a minimum, or the period of the function if f(x) is periodic.\n",
    "- **CLASSICAL** : f(x) computed for a variety of inputs and then the global property is analysed.\n",
    "- **QUANTUM** : With quantum, our input can be in a superposition of ALL THE POSSIBLE INPUTS which can be applied simultaneously. \n",
    "Although we know that we only will get a SINGLE MEASURED OUTCOME, but the PROBABIILITY of getting the correct solution actually would help you to MEASURE RIGHT WITH A HIGH PROBABILITY.\n",
    "- Quantum computers are very good at solving quantum systems for which memory requirements actually scale linearly for a quantum computer but exponentially for a classical one\n",
    "## THAT IS HOW QUANTUM MAY HELP!"
   ]
  },
  {
   "cell_type": "code",
   "execution_count": null,
   "metadata": {},
   "outputs": [],
   "source": []
  }
 ],
 "metadata": {
  "kernelspec": {
   "display_name": "Python 3",
   "language": "python",
   "name": "python3"
  },
  "language_info": {
   "codemirror_mode": {
    "name": "ipython",
    "version": 3
   },
   "file_extension": ".py",
   "mimetype": "text/x-python",
   "name": "python",
   "nbconvert_exporter": "python",
   "pygments_lexer": "ipython3",
   "version": "3.7.4"
  },
  "varInspector": {
   "cols": {
    "lenName": 16,
    "lenType": 16,
    "lenVar": 40
   },
   "kernels_config": {
    "python": {
     "delete_cmd_postfix": "",
     "delete_cmd_prefix": "del ",
     "library": "var_list.py",
     "varRefreshCmd": "print(var_dic_list())"
    },
    "r": {
     "delete_cmd_postfix": ") ",
     "delete_cmd_prefix": "rm(",
     "library": "var_list.r",
     "varRefreshCmd": "cat(var_dic_list()) "
    }
   },
   "types_to_exclude": [
    "module",
    "function",
    "builtin_function_or_method",
    "instance",
    "_Feature"
   ],
   "window_display": false
  }
 },
 "nbformat": 4,
 "nbformat_minor": 2
}
