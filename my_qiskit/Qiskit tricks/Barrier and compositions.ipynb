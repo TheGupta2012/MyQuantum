{
 "cells": [
  {
   "cell_type": "markdown",
   "metadata": {
    "heading_collapsed": true
   },
   "source": [
    "# Gate and Instructions \n",
    "- Gate contains <b>unitary</b> quantum gates \n",
    "- But Instructions contain <b> non - unitary </b> components such as measurements or resets\n"
   ]
  },
  {
   "cell_type": "code",
   "execution_count": 1,
   "metadata": {
    "ExecuteTime": {
     "end_time": "2021-01-09T12:15:59.194592Z",
     "start_time": "2021-01-09T12:15:59.184619Z"
    },
    "hidden": true
   },
   "outputs": [],
   "source": [
    "from qiskit import *"
   ]
  },
  {
   "cell_type": "code",
   "execution_count": 19,
   "metadata": {
    "ExecuteTime": {
     "end_time": "2021-01-09T12:21:26.110125Z",
     "start_time": "2021-01-09T12:21:25.998388Z"
    },
    "hidden": true
   },
   "outputs": [
    {
     "data": {
      "image/png": "[encoded data removed]",
      "text/plain": [
       "<Figure size 206.852x144.48 with 1 Axes>"
      ]
     },
     "execution_count": 19,
     "metadata": {},
     "output_type": "execute_result"
    }
   ],
   "source": [
    "q = QuantumCircuit(2)\n",
    "q.cx(0,1)\n",
    "q.h(1)\n",
    "q.draw(output='mpl')\n"
   ]
  },
  {
   "cell_type": "code",
   "execution_count": 29,
   "metadata": {
    "ExecuteTime": {
     "end_time": "2021-01-09T12:24:38.051122Z",
     "start_time": "2021-01-09T12:24:38.046144Z"
    },
    "hidden": true
   },
   "outputs": [],
   "source": [
    "gate = q.to_gate()\n",
    "gate_pow2 = gate.power(2)\n",
    "# can raise the gate to a power \n",
    "# repeat it basically in the circuit "
   ]
  },
  {
   "cell_type": "code",
   "execution_count": 30,
   "metadata": {
    "ExecuteTime": {
     "end_time": "2021-01-09T12:24:42.222976Z",
     "start_time": "2021-01-09T12:24:42.062103Z"
    },
    "hidden": true
   },
   "outputs": [
    {
     "data": {
      "image/png": "[encoded data removed]",
      "text/plain": [
       "<Figure size 417.879x204.68 with 1 Axes>"
      ]
     },
     "execution_count": 30,
     "metadata": {},
     "output_type": "execute_result"
    }
   ],
   "source": [
    "new = QuantumCircuit(2)\n",
    "new.append(gate,[0,1])\n",
    "new.measure_all()\n",
    "new.draw(output='mpl')\n"
   ]
  },
  {
   "cell_type": "code",
   "execution_count": 31,
   "metadata": {
    "ExecuteTime": {
     "end_time": "2021-01-09T12:24:44.069723Z",
     "start_time": "2021-01-09T12:24:43.989906Z"
    },
    "hidden": true
   },
   "outputs": [
    {
     "data": {
      "image/png": "[encoded data removed]",
      "text/plain": [
       "<Figure size 504x360 with 1 Axes>"
      ]
     },
     "execution_count": 31,
     "metadata": {},
     "output_type": "execute_result"
    }
   ],
   "source": [
    "b = Aer.get_backend('qasm_simulator')\n",
    "from qiskit.tools.visualization import plot_histogram\n",
    "plot_histogram(execute(new,backend = b,shots = 1024).result().get_counts())"
   ]
  },
  {
   "cell_type": "code",
   "execution_count": 44,
   "metadata": {
    "ExecuteTime": {
     "end_time": "2021-01-09T12:28:52.839892Z",
     "start_time": "2021-01-09T12:28:52.835892Z"
    },
    "hidden": true
   },
   "outputs": [],
   "source": [
    "# If we have measurements and initialisations involved in the \n",
    "# circuit then the circuit is actually an instruction \n",
    "q2 = QuantumCircuit(2)"
   ]
  },
  {
   "cell_type": "code",
   "execution_count": 45,
   "metadata": {
    "ExecuteTime": {
     "end_time": "2021-01-09T12:28:53.212884Z",
     "start_time": "2021-01-09T12:28:53.032370Z"
    },
    "hidden": true
   },
   "outputs": [
    {
     "data": {
      "image/png": "[encoded data removed]",
      "text/plain": [
       "<Figure size 478.079x204.68 with 1 Axes>"
      ]
     },
     "execution_count": 45,
     "metadata": {},
     "output_type": "execute_result"
    }
   ],
   "source": [
    "q2.h(0)\n",
    "q2.cx(0,1)\n",
    "q2.barrier()\n",
    "q2.measure_all()\n",
    "q2.draw(output='mpl')"
   ]
  },
  {
   "cell_type": "code",
   "execution_count": 47,
   "metadata": {
    "ExecuteTime": {
     "end_time": "2021-01-09T12:29:29.734701Z",
     "start_time": "2021-01-09T12:29:29.718743Z"
    },
    "hidden": true
   },
   "outputs": [
    {
     "ename": "AttributeError",
     "evalue": "'Instruction' object has no attribute 'power'",
     "output_type": "error",
     "traceback": [
      "\u001b[1;31m---------------------------------------------------------------------------\u001b[0m",
      "\u001b[1;31mAttributeError\u001b[0m                            Traceback (most recent call last)",
      "\u001b[1;32m<ipython-input-47-d62f50d05cfa>\u001b[0m in \u001b[0;36m<module>\u001b[1;34m\u001b[0m\n\u001b[0;32m      1\u001b[0m \u001b[0minst\u001b[0m \u001b[1;33m=\u001b[0m \u001b[0mq2\u001b[0m\u001b[1;33m.\u001b[0m\u001b[0mto_instruction\u001b[0m\u001b[1;33m(\u001b[0m\u001b[1;33m)\u001b[0m\u001b[1;33m\u001b[0m\u001b[1;33m\u001b[0m\u001b[0m\n\u001b[1;32m----> 2\u001b[1;33m \u001b[0minst\u001b[0m\u001b[1;33m.\u001b[0m\u001b[0mpower\u001b[0m\u001b[1;33m(\u001b[0m\u001b[1;36m2\u001b[0m\u001b[1;33m)\u001b[0m \u001b[1;31m# you can't raise it to any powers as it is not unitary\u001b[0m\u001b[1;33m\u001b[0m\u001b[1;33m\u001b[0m\u001b[0m\n\u001b[0m",
      "\u001b[1;31mAttributeError\u001b[0m: 'Instruction' object has no attribute 'power'"
     ]
    }
   ],
   "source": [
    "inst = q2.to_instruction()\n",
    "inst.power(2) # you can't raise it to any powers as it is not unitary"
   ]
  },
  {
   "cell_type": "markdown",
   "metadata": {
    "heading_collapsed": true
   },
   "source": [
    "# Combining Two quantum circuits\n",
    "- For combining circuits with same number of qubits\n"
   ]
  },
  {
   "cell_type": "code",
   "execution_count": 58,
   "metadata": {
    "ExecuteTime": {
     "end_time": "2021-01-09T12:44:18.411169Z",
     "start_time": "2021-01-09T12:44:18.402195Z"
    },
    "hidden": true
   },
   "outputs": [
    {
     "data": {
      "text/plain": [
       "<qiskit.circuit.instructionset.InstructionSet at 0x2186952c248>"
      ]
     },
     "execution_count": 58,
     "metadata": {},
     "output_type": "execute_result"
    }
   ],
   "source": [
    "# just use the addition operator\n",
    "q1 = QuantumCircuit(3)\n",
    "q2 = QuantumCircuit(3)\n",
    "q1.x(0)\n",
    "q1.x(2)\n",
    "q1.cx(1,2)\n",
    "q1.measure_all()\n",
    "q1.barrier()\n",
    "\n",
    "q2.x(0)\n",
    "q2.cx(0,1)\n",
    "q2.x(2)\n",
    "q2.measure_all()\n",
    "q2.barrier()"
   ]
  },
  {
   "cell_type": "code",
   "execution_count": 59,
   "metadata": {
    "ExecuteTime": {
     "end_time": "2021-01-09T12:44:19.381614Z",
     "start_time": "2021-01-09T12:44:19.199063Z"
    },
    "hidden": true
   },
   "outputs": [
    {
     "data": {
      "image/png": "[encoded data removed]",
      "text/plain": [
       "<Figure size 538.279x264.88 with 1 Axes>"
      ]
     },
     "execution_count": 59,
     "metadata": {},
     "output_type": "execute_result"
    }
   ],
   "source": [
    "q1.draw(output='mpl')"
   ]
  },
  {
   "cell_type": "code",
   "execution_count": 60,
   "metadata": {
    "ExecuteTime": {
     "end_time": "2021-01-09T12:44:24.768011Z",
     "start_time": "2021-01-09T12:44:24.422897Z"
    },
    "hidden": true
   },
   "outputs": [
    {
     "data": {
      "image/png": "[encoded data removed]",
      "text/plain": [
       "<Figure size 538.279x264.88 with 1 Axes>"
      ]
     },
     "execution_count": 60,
     "metadata": {},
     "output_type": "execute_result"
    }
   ],
   "source": [
    "q2.draw(output='mpl')"
   ]
  },
  {
   "cell_type": "code",
   "execution_count": 61,
   "metadata": {
    "ExecuteTime": {
     "end_time": "2021-01-09T12:44:28.635997Z",
     "start_time": "2021-01-09T12:44:28.387663Z"
    },
    "hidden": true
   },
   "outputs": [
    {
     "data": {
      "image/png": "[encoded data removed]",
      "text/plain": [
       "<Figure size 959.679x264.88 with 1 Axes>"
      ]
     },
     "execution_count": 61,
     "metadata": {},
     "output_type": "execute_result"
    }
   ],
   "source": [
    "#combining is just easy \n",
    "# + operator is overloaded \n",
    "q3 = q1 + q2 \n",
    "q3.draw(output='mpl')"
   ]
  },
  {
   "cell_type": "markdown",
   "metadata": {
    "heading_collapsed": true,
    "hidden": true
   },
   "source": [
    "## Combining circuits with different number of qubits \n",
    "- We use the compose function for the combination of the circuits \n",
    "-  **NOTE** -> q1.compose(q2) adding <b> q2 to q1 </b>  \n",
    "- Then we specify which qubit of q1 plays the roles of the qubits in the q2 circuit \n"
   ]
  },
  {
   "cell_type": "code",
   "execution_count": 66,
   "metadata": {
    "ExecuteTime": {
     "end_time": "2021-01-09T12:51:57.560583Z",
     "start_time": "2021-01-09T12:51:57.060875Z"
    },
    "hidden": true
   },
   "outputs": [
    {
     "data": {
      "image/png": "[encoded data removed]",
      "text/plain": [
       "<Figure size 267.197x264.88 with 1 Axes>"
      ]
     },
     "execution_count": 66,
     "metadata": {},
     "output_type": "execute_result"
    }
   ],
   "source": [
    "q1 = QuantumCircuit(4)\n",
    "q1.cx(0,1)\n",
    "q1.cx(1,3)\n",
    "q1.h(2)\n",
    "q1.barrier()\n",
    "q1.draw(output='mpl')"
   ]
  },
  {
   "cell_type": "code",
   "execution_count": 63,
   "metadata": {
    "ExecuteTime": {
     "end_time": "2021-01-09T12:49:25.058571Z",
     "start_time": "2021-01-09T12:49:24.944836Z"
    },
    "hidden": true
   },
   "outputs": [
    {
     "data": {
      "image/png": "[encoded data removed]",
      "text/plain": [
       "<Figure size 146.652x144.48 with 1 Axes>"
      ]
     },
     "execution_count": 63,
     "metadata": {},
     "output_type": "execute_result"
    }
   ],
   "source": [
    "q2 = QuantumCircuit(2)\n",
    "q2.cx(0,1)\n",
    "q2.draw(output='mpl')"
   ]
  },
  {
   "cell_type": "markdown",
   "metadata": {
    "heading_collapsed": true,
    "hidden": true
   },
   "source": [
    "### q1(0) and q1(1) acts as the participating qubits\n"
   ]
  },
  {
   "cell_type": "code",
   "execution_count": 67,
   "metadata": {
    "ExecuteTime": {
     "end_time": "2021-01-09T12:52:01.600030Z",
     "start_time": "2021-01-09T12:52:01.132861Z"
    },
    "hidden": true
   },
   "outputs": [
    {
     "data": {
      "image/png": "[encoded data removed]",
      "text/plain": [
       "<Figure size 327.397x264.88 with 1 Axes>"
      ]
     },
     "execution_count": 67,
     "metadata": {},
     "output_type": "execute_result"
    }
   ],
   "source": [
    "# let us compose them \n",
    "q = q1.compose(q2,[0,1]) # i want the zeroth and the first qubits of q1 \n",
    "                         # to act as the functioning quibts of q2(in that order)\n",
    "q.draw(output='mpl')"
   ]
  },
  {
   "cell_type": "markdown",
   "metadata": {
    "heading_collapsed": true,
    "hidden": true
   },
   "source": [
    "### q1(2) and q1(3) act as the participating qubits"
   ]
  },
  {
   "cell_type": "code",
   "execution_count": 68,
   "metadata": {
    "ExecuteTime": {
     "end_time": "2021-01-09T12:52:03.596573Z",
     "start_time": "2021-01-09T12:52:03.185040Z"
    },
    "hidden": true
   },
   "outputs": [
    {
     "data": {
      "image/png": "[encoded data removed]",
      "text/plain": [
       "<Figure size 327.397x264.88 with 1 Axes>"
      ]
     },
     "execution_count": 68,
     "metadata": {},
     "output_type": "execute_result"
    }
   ],
   "source": [
    "q = q1.compose(q2,[2,3])\n",
    "q.draw(output='mpl')"
   ]
  },
  {
   "cell_type": "code",
   "execution_count": 69,
   "metadata": {
    "ExecuteTime": {
     "end_time": "2021-01-09T12:52:30.185578Z",
     "start_time": "2021-01-09T12:52:30.167504Z"
    },
    "hidden": true
   },
   "outputs": [
    {
     "data": {
      "text/plain": [
       "[Qubit(QuantumRegister(4, 'q'), 0),\n",
       " Qubit(QuantumRegister(4, 'q'), 1),\n",
       " Qubit(QuantumRegister(4, 'q'), 2),\n",
       " Qubit(QuantumRegister(4, 'q'), 3)]"
      ]
     },
     "execution_count": 69,
     "metadata": {},
     "output_type": "execute_result"
    }
   ],
   "source": [
    "q.qubits"
   ]
  },
  {
   "cell_type": "markdown",
   "metadata": {
    "hidden": true
   },
   "source": [
    "### ANOTHER WAY\n",
    "- Make the register with some names \n",
    "- Apply gates on the register and if you do addition , qiskit will try to combine the same register gates into one "
   ]
  },
  {
   "cell_type": "code",
   "execution_count": 72,
   "metadata": {
    "ExecuteTime": {
     "end_time": "2021-01-09T12:56:06.535433Z",
     "start_time": "2021-01-09T12:56:06.015830Z"
    },
    "hidden": true
   },
   "outputs": [
    {
     "data": {
      "image/png": "[encoded data removed]",
      "text/plain": [
       "<Figure size 228.777x264.88 with 1 Axes>"
      ]
     },
     "execution_count": 72,
     "metadata": {},
     "output_type": "execute_result"
    }
   ],
   "source": [
    "qr1 = QuantumRegister(2,name = 'qr1')\n",
    "qr2 = QuantumRegister(2,name = 'qr2')\n",
    "qc = QuantumCircuit(qr1,qr2)\n",
    "qc.ccx(0,1,2)\n",
    "qc.h(3)\n",
    "qc.barrier()\n",
    "qc.draw(output='mpl')\n"
   ]
  },
  {
   "cell_type": "code",
   "execution_count": 73,
   "metadata": {
    "ExecuteTime": {
     "end_time": "2021-01-09T12:56:19.711314Z",
     "start_time": "2021-01-09T12:56:19.446564Z"
    },
    "hidden": true
   },
   "outputs": [
    {
     "data": {
      "image/png": "[encoded data removed]",
      "text/plain": [
       "<Figure size 168.577x144.48 with 1 Axes>"
      ]
     },
     "execution_count": 73,
     "metadata": {},
     "output_type": "execute_result"
    }
   ],
   "source": [
    "qc2 = QuantumCircuit(qr2)\n",
    "qc2.cx(0,1)\n",
    "qc2.draw(output='mpl')"
   ]
  },
  {
   "cell_type": "code",
   "execution_count": 75,
   "metadata": {
    "ExecuteTime": {
     "end_time": "2021-01-09T12:56:40.171583Z",
     "start_time": "2021-01-09T12:56:39.749979Z"
    },
    "hidden": true
   },
   "outputs": [
    {
     "data": {
      "image/png": "[encoded data removed]",
      "text/plain": [
       "<Figure size 288.977x264.88 with 1 Axes>"
      ]
     },
     "execution_count": 75,
     "metadata": {},
     "output_type": "execute_result"
    }
   ],
   "source": [
    "res = qc + qc2 \n",
    "res.draw(output='mpl')"
   ]
  },
  {
   "cell_type": "markdown",
   "metadata": {
    "hidden": true
   },
   "source": [
    "## Yes, it works.."
   ]
  },
  {
   "cell_type": "markdown",
   "metadata": {},
   "source": [
    "# But what is a barrier?\n",
    "- What does it do? \n",
    "- Is it just visually separating your components?\n",
    "- Or is it something else\n"
   ]
  },
  {
   "cell_type": "code",
   "execution_count": 76,
   "metadata": {
    "ExecuteTime": {
     "end_time": "2021-01-09T12:59:38.099303Z",
     "start_time": "2021-01-09T12:59:37.770307Z"
    }
   },
   "outputs": [
    {
     "data": {
      "image/png": "[encoded data removed]",
      "text/plain": [
       "<Figure size 146.652x144.48 with 1 Axes>"
      ]
     },
     "execution_count": 76,
     "metadata": {},
     "output_type": "execute_result"
    }
   ],
   "source": [
    "qc = QuantumCircuit(2)\n",
    "qc.barrier()\n",
    "qc.draw(output='mpl')"
   ]
  },
  {
   "cell_type": "markdown",
   "metadata": {},
   "source": [
    "## Barrier \n",
    "- is a way to tell the TRANSPILER( optimizer ) what are the PARTS of the circuit \n",
    "- Means if we have one barrier, transpiler optimizes left part of the barrier and the right part of the barrier \n",
    "- For example "
   ]
  },
  {
   "cell_type": "code",
   "execution_count": 83,
   "metadata": {
    "ExecuteTime": {
     "end_time": "2021-01-09T13:05:10.602867Z",
     "start_time": "2021-01-09T13:05:03.594654Z"
    }
   },
   "outputs": [
    {
     "name": "stderr",
     "output_type": "stream",
     "text": [
      "E:\\ANACONDA\\lib\\site-packages\\qiskit\\providers\\ibmq\\ibmqfactory.py:192: UserWarning: Timestamps in IBMQ backend properties, jobs, and job results are all now in local time instead of UTC.\n",
      "  warnings.warn('Timestamps in IBMQ backend properties, jobs, and job results '\n"
     ]
    },
    {
     "data": {
      "image/png": "[encoded data removed]",
      "text/plain": [
       "<Figure size 193.726x84.28 with 1 Axes>"
      ]
     },
     "execution_count": 83,
     "metadata": {},
     "output_type": "execute_result"
    }
   ],
   "source": [
    "from qiskit import IBMQ\n",
    "provider = IBMQ.load_account()\n",
    "arm = provider.get_backend('ibmq_armonk')\n",
    "q = QuantumCircuit(1)\n",
    "q.h(0)\n",
    "q.h(0)\n",
    "q.draw(output='mpl')"
   ]
  },
  {
   "cell_type": "code",
   "execution_count": 84,
   "metadata": {
    "ExecuteTime": {
     "end_time": "2021-01-09T13:05:14.357569Z",
     "start_time": "2021-01-09T13:05:13.034017Z"
    }
   },
   "outputs": [],
   "source": [
    "tr = transpile(q,arm)"
   ]
  },
  {
   "cell_type": "code",
   "execution_count": 85,
   "metadata": {
    "ExecuteTime": {
     "end_time": "2021-01-09T13:05:14.770481Z",
     "start_time": "2021-01-09T13:05:14.409674Z"
    }
   },
   "outputs": [
    {
     "data": {
      "image/png": "[encoded data removed]",
      "text/plain": [
       "<Figure size 73.326x84.28 with 1 Axes>"
      ]
     },
     "execution_count": 85,
     "metadata": {},
     "output_type": "execute_result"
    }
   ],
   "source": [
    "tr.draw(output='mpl')"
   ]
  },
  {
   "cell_type": "code",
   "execution_count": 86,
   "metadata": {
    "ExecuteTime": {
     "end_time": "2021-01-09T13:12:18.108895Z",
     "start_time": "2021-01-09T13:12:18.004964Z"
    }
   },
   "outputs": [
    {
     "data": {
      "image/png": "[encoded data removed]",
      "text/plain": [
       "<Figure size 253.926x84.28 with 1 Axes>"
      ]
     },
     "execution_count": 86,
     "metadata": {},
     "output_type": "execute_result"
    }
   ],
   "source": [
    "## if we apply barrier \n",
    "q = QuantumCircuit(1)\n",
    "q.h(0)\n",
    "q.barrier()\n",
    "q.h(0)\n",
    "q.draw(output='mpl')"
   ]
  },
  {
   "cell_type": "code",
   "execution_count": 87,
   "metadata": {
    "ExecuteTime": {
     "end_time": "2021-01-09T13:12:30.772757Z",
     "start_time": "2021-01-09T13:12:30.445355Z"
    }
   },
   "outputs": [
    {
     "data": {
      "image/png": "[encoded data removed]",
      "text/plain": [
       "<Figure size 494.726x84.28 with 1 Axes>"
      ]
     },
     "execution_count": 87,
     "metadata": {},
     "output_type": "execute_result"
    }
   ],
   "source": [
    "tr = transpile(q,arm)\n",
    "tr.draw(output='mpl')"
   ]
  },
  {
   "cell_type": "markdown",
   "metadata": {},
   "source": [
    "## so, yeah!"
   ]
  },
  {
   "cell_type": "code",
   "execution_count": null,
   "metadata": {},
   "outputs": [],
   "source": []
  }
 ],
 "metadata": {
  "kernelspec": {
   "display_name": "Python 3",
   "language": "python",
   "name": "python3"
  },
  "language_info": {
   "codemirror_mode": {
    "name": "ipython",
    "version": 3
   },
   "file_extension": ".py",
   "mimetype": "text/x-python",
   "name": "python",
   "nbconvert_exporter": "python",
   "pygments_lexer": "ipython3",
   "version": "3.7.4"
  },
  "varInspector": {
   "cols": {
    "lenName": 16,
    "lenType": 16,
    "lenVar": 40
   },
   "kernels_config": {
    "python": {
     "delete_cmd_postfix": "",
     "delete_cmd_prefix": "del ",
     "library": "var_list.py",
     "varRefreshCmd": "print(var_dic_list())"
    },
    "r": {
     "delete_cmd_postfix": ") ",
     "delete_cmd_prefix": "rm(",
     "library": "var_list.r",
     "varRefreshCmd": "cat(var_dic_list()) "
    }
   },
   "types_to_exclude": [
    "module",
    "function",
    "builtin_function_or_method",
    "instance",
    "_Feature"
   ],
   "window_display": false
  }
 },
 "nbformat": 4,
 "nbformat_minor": 2
}
