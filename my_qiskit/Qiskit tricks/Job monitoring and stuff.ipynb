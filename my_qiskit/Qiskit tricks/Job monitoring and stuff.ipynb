{
 "cells": [
  {
   "cell_type": "markdown",
   "metadata": {
    "heading_collapsed": true
   },
   "source": [
    "## Job monitoring\n",
    "- You know but let us write again"
   ]
  },
  {
   "cell_type": "code",
   "execution_count": 8,
   "metadata": {
    "ExecuteTime": {
     "end_time": "2021-01-03T07:25:35.808315Z",
     "start_time": "2021-01-03T07:25:29.998167Z"
    },
    "hidden": true
   },
   "outputs": [
    {
     "name": "stderr",
     "output_type": "stream",
     "text": [
      "E:\\ANACONDA\\lib\\site-packages\\qiskit\\providers\\ibmq\\ibmqfactory.py:192: UserWarning: Timestamps in IBMQ backend properties, jobs, and job results are all now in local time instead of UTC.\n",
      "  warnings.warn('Timestamps in IBMQ backend properties, jobs, and job results '\n",
      "ibmqfactory.load_account:WARNING:2021-01-03 12:55:31,006: Credentials are already in use. The existing account in the session will be replaced.\n"
     ]
    }
   ],
   "source": [
    "from qiskit import *\n",
    "from qiskit import IBMQ\n",
    "IBMQ.load_account()\n",
    "from qiskit.tools.monitor import job_monitor"
   ]
  },
  {
   "cell_type": "code",
   "execution_count": 5,
   "metadata": {
    "ExecuteTime": {
     "end_time": "2021-01-03T07:23:49.793008Z",
     "start_time": "2021-01-03T07:23:49.787025Z"
    },
    "hidden": true
   },
   "outputs": [],
   "source": [
    "# firsrt get a backend \n",
    "# from a provider \n",
    "provider = IBMQ.get_provider('ibm-q')\n",
    "backend = provider.get_backend('ibmq_valencia')"
   ]
  },
  {
   "cell_type": "code",
   "execution_count": 6,
   "metadata": {
    "ExecuteTime": {
     "end_time": "2021-01-03T07:24:24.040506Z",
     "start_time": "2021-01-03T07:24:23.644841Z"
    },
    "hidden": true
   },
   "outputs": [
    {
     "data": {
      "image/png": "[encoded data removed]",
      "text/plain": [
       "<Figure size 267.052x204.68 with 1 Axes>"
      ]
     },
     "execution_count": 6,
     "metadata": {},
     "output_type": "execute_result"
    }
   ],
   "source": [
    "Q = QuantumCircuit(2,2)\n",
    "Q.x(0)\n",
    "Q.h(1)\n",
    "Q.measure([0,1],[0,1])\n",
    "Q.draw(output='mpl')"
   ]
  },
  {
   "cell_type": "code",
   "execution_count": 12,
   "metadata": {
    "ExecuteTime": {
     "end_time": "2021-01-03T07:27:12.758767Z",
     "start_time": "2021-01-03T07:26:36.558890Z"
    },
    "hidden": true
   },
   "outputs": [
    {
     "name": "stdout",
     "output_type": "stream",
     "text": [
      "Job Status: job has successfully run\n",
      "{'00': 24, '01': 536, '10': 18, '11': 446}\n"
     ]
    }
   ],
   "source": [
    "job = execute(Q,backend=backend,shots=1024)\n",
    "job_monitor(job)\n",
    "count = job.result().get_counts()\n",
    "print(count) # because Q0 was always in 1 state so yes that is why this is like this."
   ]
  },
  {
   "cell_type": "code",
   "execution_count": 10,
   "metadata": {
    "ExecuteTime": {
     "end_time": "2021-01-03T07:26:28.920356Z",
     "start_time": "2021-01-03T07:26:28.917356Z"
    },
    "hidden": true
   },
   "outputs": [],
   "source": [
    "#another tool"
   ]
  },
  {
   "cell_type": "code",
   "execution_count": 11,
   "metadata": {
    "ExecuteTime": {
     "end_time": "2021-01-03T07:26:31.535022Z",
     "start_time": "2021-01-03T07:26:30.773476Z"
    },
    "hidden": true
   },
   "outputs": [
    {
     "data": {
      "application/vnd.jupyter.widget-view+json": {
       "model_id": "ec0ff61ca2514f4ebd4d8f195c82fa2a",
       "version_major": 2,
       "version_minor": 0
      },
      "text/plain": [
       "Accordion(children=(VBox(layout=Layout(max_width='710px', min_width='710px')),), layout=Layout(max_height='500…"
      ]
     },
     "metadata": {},
     "output_type": "display_data"
    },
    {
     "data": {
      "application/javascript": [
       "$('div.job_widget')\n",
       "        .detach()\n",
       "        .appendTo($('#header'))\n",
       "        .css({\n",
       "            'z-index': 999,\n",
       "             'position': 'fixed',\n",
       "            'box-shadow': '5px 5px 5px -3px black',\n",
       "            'opacity': 0.95,\n",
       "            'float': 'left,'\n",
       "        })\n",
       "        "
      ],
      "text/plain": [
       "<IPython.core.display.Javascript object>"
      ]
     },
     "metadata": {},
     "output_type": "display_data"
    }
   ],
   "source": [
    "import qiskit.tools.jupyter \n",
    "%qiskit_job_watcher # this is nicer than job monitor! :D"
   ]
  },
  {
   "cell_type": "markdown",
   "metadata": {
    "heading_collapsed": true
   },
   "source": [
    "## Toffoli Gate - CCX (11 to flip nhi to okay)\n",
    "- Have implemented this \n",
    "- Let us see how to implement for more than two control qubits\n",
    "- It is the <b>mct</b> gate"
   ]
  },
  {
   "cell_type": "code",
   "execution_count": 29,
   "metadata": {
    "ExecuteTime": {
     "end_time": "2021-01-03T07:33:48.975233Z",
     "start_time": "2021-01-03T07:33:48.769746Z"
    },
    "hidden": true
   },
   "outputs": [
    {
     "data": {
      "image/png": "[encoded data removed]",
      "text/plain": [
       "<Figure size 447.797x325.08 with 1 Axes>"
      ]
     },
     "execution_count": 29,
     "metadata": {},
     "output_type": "execute_result"
    }
   ],
   "source": [
    "Q = QuantumCircuit(4,4)\n",
    "Q.x([0,1,2])\n",
    "Q.mct([0,1,2],3) # give the controls and give the target\n",
    "Q.measure([0,1,2,3],[0,1,2,3])\n",
    "\n",
    "Q.draw(output='mpl')\n"
   ]
  },
  {
   "cell_type": "code",
   "execution_count": 30,
   "metadata": {
    "ExecuteTime": {
     "end_time": "2021-01-03T07:33:50.919286Z",
     "start_time": "2021-01-03T07:33:50.643982Z"
    },
    "hidden": true
   },
   "outputs": [
    {
     "data": {
      "image/png": "[encoded data removed]",
      "text/plain": [
       "<Figure size 504x360 with 1 Axes>"
      ]
     },
     "execution_count": 30,
     "metadata": {},
     "output_type": "execute_result"
    }
   ],
   "source": [
    "from qiskit.tools.visualization import plot_histogram\n",
    "back = Aer.get_backend('qasm_simulator')\n",
    "plot_histogram(execute(Q,backend=back,shots = 102400).result().get_counts())"
   ]
  },
  {
   "cell_type": "markdown",
   "metadata": {
    "hidden": true
   },
   "source": [
    "### Yes , it is validated."
   ]
  },
  {
   "cell_type": "markdown",
   "metadata": {},
   "source": [
    "## How to change the version of qiskit"
   ]
  },
  {
   "cell_type": "markdown",
   "metadata": {},
   "source": [
    "- Basically create a new environment with the downgraded version of the qiskit you want to use \n",
    "- Example :\n",
    "    - #create new environment in conda\n",
    "    - conda create --name qiskit-for-abe --clone (your qiskit envirnoment)\n",
    "    - # then deactivate the current environment \n",
    "    - # activate the new environment and downgrade your version of qiskit\n",
    "    - pip install -U qiskit==(verion you want)\n",
    "- That is it, activate a jupyter notebook bas."
   ]
  }
 ],
 "metadata": {
  "kernelspec": {
   "display_name": "Python 3",
   "language": "python",
   "name": "python3"
  },
  "language_info": {
   "codemirror_mode": {
    "name": "ipython",
    "version": 3
   },
   "file_extension": ".py",
   "mimetype": "text/x-python",
   "name": "python",
   "nbconvert_exporter": "python",
   "pygments_lexer": "ipython3",
   "version": "3.7.4"
  },
  "varInspector": {
   "cols": {
    "lenName": 16,
    "lenType": 16,
    "lenVar": 40
   },
   "kernels_config": {
    "python": {
     "delete_cmd_postfix": "",
     "delete_cmd_prefix": "del ",
     "library": "var_list.py",
     "varRefreshCmd": "print(var_dic_list())"
    },
    "r": {
     "delete_cmd_postfix": ") ",
     "delete_cmd_prefix": "rm(",
     "library": "var_list.r",
     "varRefreshCmd": "cat(var_dic_list()) "
    }
   },
   "types_to_exclude": [
    "module",
    "function",
    "builtin_function_or_method",
    "instance",
    "_Feature"
   ],
   "window_display": false
  }
 },
 "nbformat": 4,
 "nbformat_minor": 2
}
