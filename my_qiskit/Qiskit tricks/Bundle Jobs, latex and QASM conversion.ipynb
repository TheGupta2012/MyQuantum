{
 "cells": [
  {
   "cell_type": "markdown",
   "metadata": {},
   "source": [
    "## Bundling Jobs"
   ]
  },
  {
   "cell_type": "code",
   "execution_count": 28,
   "metadata": {
    "ExecuteTime": {
     "end_time": "2021-01-03T07:13:04.967876Z",
     "start_time": "2021-01-03T07:13:04.961892Z"
    }
   },
   "outputs": [
    {
     "data": {
      "text/plain": [
       "<qiskit.circuit.instructionset.InstructionSet at 0x210ccc8e9c8>"
      ]
     },
     "execution_count": 28,
     "metadata": {},
     "output_type": "execute_result"
    }
   ],
   "source": [
    "from qiskit import *\n",
    "import matplotlib.pyplot as plt\n",
    "Q1 = QuantumCircuit(2,2)\n",
    "Q2 = QuantumCircuit(2,2)\n",
    "Q1.cx(0,1)\n",
    "Q1.h(0)\n",
    "Q1.measure([0,1],[0,1])"
   ]
  },
  {
   "cell_type": "code",
   "execution_count": 2,
   "metadata": {
    "ExecuteTime": {
     "end_time": "2021-01-03T07:02:21.947194Z",
     "start_time": "2021-01-03T07:02:21.513353Z"
    }
   },
   "outputs": [
    {
     "data": {
      "image/png": "[encoded data removed]",
      "text/plain": [
       "<Figure size 267.052x204.68 with 1 Axes>"
      ]
     },
     "metadata": {},
     "output_type": "display_data"
    },
    {
     "data": {
      "image/png": "[encoded data removed]",
      "text/plain": [
       "<Figure size 267.052x204.68 with 1 Axes>"
      ]
     },
     "metadata": {},
     "output_type": "display_data"
    }
   ],
   "source": [
    "Q2.x(1)\n",
    "Q2.h(0)\n",
    "Q2.measure([0,1],[0,1])\n",
    "display(Q1.draw(output='mpl'),Q2.draw(output='mpl'))\n"
   ]
  },
  {
   "cell_type": "code",
   "execution_count": 3,
   "metadata": {
    "ExecuteTime": {
     "end_time": "2021-01-03T07:02:21.953167Z",
     "start_time": "2021-01-03T07:02:21.949178Z"
    }
   },
   "outputs": [],
   "source": [
    "# bundling \n",
    "q_list = [Q1,Q2]\n"
   ]
  },
  {
   "cell_type": "code",
   "execution_count": 4,
   "metadata": {
    "ExecuteTime": {
     "end_time": "2021-01-03T07:02:22.175846Z",
     "start_time": "2021-01-03T07:02:21.955170Z"
    }
   },
   "outputs": [],
   "source": [
    "# execute the list of quantum circuits in this list \n",
    "# on the simulator\n",
    "job = execute(q_list,backend=Aer.get_backend('qasm_simulator'),shots=1024)"
   ]
  },
  {
   "cell_type": "code",
   "execution_count": 5,
   "metadata": {
    "ExecuteTime": {
     "end_time": "2021-01-03T07:02:22.182555Z",
     "start_time": "2021-01-03T07:02:22.177585Z"
    }
   },
   "outputs": [
    {
     "data": {
      "text/plain": [
       "[{'00': 547, '01': 477}, {'10': 507, '11': 517}]"
      ]
     },
     "execution_count": 5,
     "metadata": {},
     "output_type": "execute_result"
    }
   ],
   "source": [
    "job.result().get_counts()"
   ]
  },
  {
   "cell_type": "markdown",
   "metadata": {},
   "source": [
    "- So you will basically get all the values in a dictionary corresponding to each of the jobs that you bundled in the list of the quantum circuits.\n",
    "- That is it."
   ]
  },
  {
   "cell_type": "markdown",
   "metadata": {},
   "source": [
    "## Visualizing using Latex\n",
    "- Example -> use latex to draw circuits in latex \n",
    "- use latex source to pack them in a latex string for exporting..."
   ]
  },
  {
   "cell_type": "code",
   "execution_count": 25,
   "metadata": {
    "ExecuteTime": {
     "end_time": "2021-01-03T07:09:51.563688Z",
     "start_time": "2021-01-03T07:09:51.552716Z"
    }
   },
   "outputs": [
    {
     "data": {
      "text/plain": [
       "'% \\\\documentclass[preview]{standalone}\\n% If the image is too large to fit on this documentclass use\\n\\\\documentclass[draft]{beamer}\\n% img_width = 3, img_depth = 5\\n\\\\usepackage[size=custom,height=10,width=13,scale=0.7]{beamerposter}\\n% instead and customize the height and width (in cm) to fit.\\n% Large images may run out of memory quickly.\\n% To fix this use the LuaLaTeX compiler, which dynamically\\n% allocates memory.\\n\\\\usepackage[braket, qm]{qcircuit}\\n\\\\usepackage{amsmath}\\n\\\\pdfmapfile{+sansmathaccent.map}\\n% \\\\usepackage[landscape]{geometry}\\n% Comment out the above line if using the beamer documentclass.\\n\\\\begin{document}\\n\\n\\\\begin{equation*}\\n    \\\\Qcircuit @C=1.0em @R=0.0em @!R {\\n\\t \\t\\\\lstick{ {q}_{0} :  } & \\\\ctrl{1} & \\\\gate{H} & \\\\meter & \\\\qw & \\\\qw\\\\\\\\\\n\\t \\t\\\\lstick{ {q}_{1} :  } & \\\\targ & \\\\meter & \\\\qw & \\\\qw & \\\\qw\\\\\\\\\\n\\t \\t\\\\lstick{c:} & {/_{_{2}}} \\\\cw & \\\\dstick{1} \\\\cw \\\\cwx[-1] & \\\\dstick{0} \\\\cw \\\\cwx[-2] & \\\\cw & \\\\cw\\\\\\\\\\n\\t }\\n\\\\end{equation*}\\n\\n\\\\end{document}'"
      ]
     },
     "execution_count": 25,
     "metadata": {},
     "output_type": "execute_result"
    }
   ],
   "source": [
    "Q1.draw('latex_source')"
   ]
  },
  {
   "cell_type": "markdown",
   "metadata": {
    "ExecuteTime": {
     "end_time": "2021-01-03T07:03:52.330462Z",
     "start_time": "2021-01-03T07:03:52.305495Z"
    }
   },
   "source": [
    "## Converting a circuit to Quantum Assembly Language\n",
    "- How to convert circuits to QASM"
   ]
  },
  {
   "cell_type": "code",
   "execution_count": 27,
   "metadata": {
    "ExecuteTime": {
     "end_time": "2021-01-03T07:11:15.911765Z",
     "start_time": "2021-01-03T07:11:15.874865Z"
    }
   },
   "outputs": [
    {
     "name": "stdout",
     "output_type": "stream",
     "text": [
      "OPENQASM 2.0;\n",
      "include \"qelib1.inc\";\n",
      "qreg q[2];\n",
      "creg c[2];\n",
      "cx q[0],q[1];\n",
      "h q[0];\n",
      "measure q[0] -> c[0];\n",
      "measure q[1] -> c[1];\n",
      "\n"
     ]
    }
   ],
   "source": [
    "# quite easy \n",
    "# circuit.qasm()\n",
    "Q1.qasm(formatted=1)\n",
    "# this is so much like normal assembly , wahh...\n"
   ]
  },
  {
   "cell_type": "code",
   "execution_count": 31,
   "metadata": {
    "ExecuteTime": {
     "end_time": "2021-01-03T07:15:54.116987Z",
     "start_time": "2021-01-03T07:15:53.922509Z"
    }
   },
   "outputs": [
    {
     "name": "stdout",
     "output_type": "stream",
     "text": [
      "OPENQASM 2.0;\n",
      "include \"qelib1.inc\";\n",
      "qreg q[2];\n",
      "creg c[2];\n",
      "cx q[0],q[1];\n",
      "h q[0];\n",
      "measure q[0] -> c[0];\n",
      "measure q[1] -> c[1];\n",
      "\n"
     ]
    },
    {
     "data": {
      "image/png": "[encoded data removed]",
      "text/plain": [
       "<Figure size 267.052x204.68 with 1 Axes>"
      ]
     },
     "execution_count": 31,
     "metadata": {},
     "output_type": "execute_result"
    }
   ],
   "source": [
    "# can even save the file \n",
    "Q1.qasm(formatted=1, filename=\"trial_circuit.qasm\")\n",
    "Q1.draw(output='mpl')\n"
   ]
  },
  {
   "cell_type": "code",
   "execution_count": 39,
   "metadata": {
    "ExecuteTime": {
     "end_time": "2021-01-03T07:19:18.260226Z",
     "start_time": "2021-01-03T07:19:18.073118Z"
    }
   },
   "outputs": [
    {
     "data": {
      "image/png": "[encoded data removed]",
      "text/plain": [
       "<Figure size 373.873x286.552 with 1 Axes>"
      ]
     },
     "execution_count": 39,
     "metadata": {},
     "output_type": "execute_result"
    }
   ],
   "source": [
    "# can even make the circuits from file \n",
    "qc = QuantumCircuit.from_qasm_file('trial_circuit.qasm')\n",
    "im = qc.draw(output='mpl',scale=1.4,)\n",
    "im "
   ]
  },
  {
   "cell_type": "code",
   "execution_count": 38,
   "metadata": {
    "ExecuteTime": {
     "end_time": "2021-01-03T07:19:04.995470Z",
     "start_time": "2021-01-03T07:19:04.940312Z"
    }
   },
   "outputs": [],
   "source": [
    "im.savefig(\"trial_circuit.png\")"
   ]
  },
  {
   "cell_type": "markdown",
   "metadata": {},
   "source": [
    "## That is niceeee!! :D"
   ]
  },
  {
   "cell_type": "code",
   "execution_count": null,
   "metadata": {},
   "outputs": [],
   "source": []
  }
 ],
 "metadata": {
  "kernelspec": {
   "display_name": "Python 3",
   "language": "python",
   "name": "python3"
  },
  "language_info": {
   "codemirror_mode": {
    "name": "ipython",
    "version": 3
   },
   "file_extension": ".py",
   "mimetype": "text/x-python",
   "name": "python",
   "nbconvert_exporter": "python",
   "pygments_lexer": "ipython3",
   "version": "3.7.4"
  },
  "varInspector": {
   "cols": {
    "lenName": 16,
    "lenType": 16,
    "lenVar": 40
   },
   "kernels_config": {
    "python": {
     "delete_cmd_postfix": "",
     "delete_cmd_prefix": "del ",
     "library": "var_list.py",
     "varRefreshCmd": "print(var_dic_list())"
    },
    "r": {
     "delete_cmd_postfix": ") ",
     "delete_cmd_prefix": "rm(",
     "library": "var_list.r",
     "varRefreshCmd": "cat(var_dic_list()) "
    }
   },
   "types_to_exclude": [
    "module",
    "function",
    "builtin_function_or_method",
    "instance",
    "_Feature"
   ],
   "window_display": false
  }
 },
 "nbformat": 4,
 "nbformat_minor": 2
}
