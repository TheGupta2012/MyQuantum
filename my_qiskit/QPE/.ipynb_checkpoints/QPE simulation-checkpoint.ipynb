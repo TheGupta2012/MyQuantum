{
 "cells": [
  {
   "cell_type": "markdown",
   "metadata": {},
   "source": [
    "## Trying QPE on my own\n",
    "- This is an algorithm which tries to estimate the phase of an **eigenvector** of a **unitary operator** and uses **phase kickback** and **Inverse QFT** to do so.\n",
    "- Let us try to do it"
   ]
  },
  {
   "cell_type": "code",
   "execution_count": 2,
   "metadata": {
    "ExecuteTime": {
     "end_time": "2021-05-05T07:43:30.756314Z",
     "start_time": "2021-05-05T07:43:30.719235Z"
    }
   },
   "outputs": [],
   "source": [
    "from qiskit import * \n",
    "from qiskit_textbook.tools import array_to_latex \n",
    "from qiskit.tools.visualization import plot_histogram\n",
    "import numpy as np \n",
    "%matplotlib inline "
   ]
  },
  {
   "cell_type": "markdown",
   "metadata": {},
   "source": [
    "## Setting a Unitary \n",
    "- Let us use the **S** gate which is just a controlled rotation of the qubit about the z axis by pi / 8 radians\n",
    "- Note that the state needs to be an eigenvector of the gate\n",
    "- Since the eigenvectors of **Rz** gates are the computational basis states, we can easily use |0> and |1> as our eigenvector states"
   ]
  },
  {
   "cell_type": "code",
   "execution_count": 30,
   "metadata": {
    "ExecuteTime": {
     "end_time": "2021-05-05T07:47:46.774980Z",
     "start_time": "2021-05-05T07:47:46.675257Z"
    }
   },
   "outputs": [
    {
     "data": {
      "image/png": "[encoded data removed]",
      "text/plain": [
       "<Figure size 133.526x84.28 with 1 Axes>"
      ]
     },
     "execution_count": 30,
     "metadata": {},
     "output_type": "execute_result"
    }
   ],
   "source": [
    "q = QuantumCircuit(1)\n",
    "q.s(0)\n",
    "q.draw('mpl')"
   ]
  },
  {
   "cell_type": "code",
   "execution_count": 31,
   "metadata": {
    "ExecuteTime": {
     "end_time": "2021-05-05T07:47:47.214071Z",
     "start_time": "2021-05-05T07:47:47.202064Z"
    }
   },
   "outputs": [
    {
     "data": {
      "text/latex": [
       "$\\displaystyle \n",
       "\\ {S gate = }\\begin{bmatrix}\n",
       "1 & 0  \\\\\n",
       "0 & i  \\\\\n",
       "\\end{bmatrix}\n",
       "$$\n",
       "$"
      ],
      "text/plain": [
       "<IPython.core.display.Math object>"
      ]
     },
     "metadata": {},
     "output_type": "display_data"
    }
   ],
   "source": [
    "unitary_s = execute(q,backend=Aer.get_backend('unitary_simulator')).result().get_unitary()\n",
    "array_to_latex(unitary_s,pretext='\\\\ {S gate = }')"
   ]
  },
  {
   "cell_type": "markdown",
   "metadata": {},
   "source": [
    "- This gate is actually a 90 degree rotation around the z - axis and thus the theta value which we need to find is 90 degrees\n",
    "- The equations are like - \n",
    "    $$ S|0\\rangle = |0 \\rangle $$\n",
    "    $$ S|1\\rangle = e^{2 \\pi i \\frac{1}{4} } |1 \\rangle $$\n",
    "    \n",
    "- We ultimately want to measure - \n",
    "    $$ \\theta = \\frac{1}{4} $$"
   ]
  },
  {
   "cell_type": "markdown",
   "metadata": {},
   "source": [
    "### Preparing the Phase kickback "
   ]
  },
  {
   "cell_type": "code",
   "execution_count": 62,
   "metadata": {
    "ExecuteTime": {
     "end_time": "2021-05-05T08:31:44.091169Z",
     "start_time": "2021-05-05T08:31:43.914642Z"
    }
   },
   "outputs": [
    {
     "data": {
      "image/png": "[encoded data removed]",
      "text/plain": [
       "<Figure size 206.997x325.08 with 1 Axes>"
      ]
     },
     "execution_count": 62,
     "metadata": {},
     "output_type": "execute_result"
    }
   ],
   "source": [
    "q = QuantumCircuit(4,3)\n",
    "# preparing the eigenvector \n",
    "q.x(3)\n",
    "\n",
    "# preparing the Hadamard transform \n",
    "q.h([0,1,2])\n",
    "q.barrier()\n",
    "q.draw('mpl')"
   ]
  },
  {
   "cell_type": "markdown",
   "metadata": {},
   "source": [
    "### Applying the phase kickback \n",
    "- One phase kickback gives the rotation equiavlent to theta \n",
    "- So, on the first qubit , q0, we have the state as \n",
    "    $$ |0 \\rangle + e^{2 \\pi i \\theta.2^{0}} |1 \\rangle$$\n",
    "- On the second qubit, q1, we have the state as \n",
    "    $$ |0 \\rangle + e^{2 \\pi i \\theta.2^{1}} |1 \\rangle$$\n",
    "    \n",
    "- Now, if angle is represented as - \n",
    "    $$ \\theta = 0. \\theta_{0} \\theta_{1} ... \\theta{n} $$\n",
    "- then, the qubit q0 has \n",
    "$$ 0.\\theta_{0} \\theta_{1} ... \\theta{n}$$ \n",
    "in its representation and thus would require the most(n-1) inverse rotations AND would give the result \n",
    "    $$ \\theta_{0}$$ upon measuring\n",
    "- Qubit q1 woul require (n-2) inverse rotations AND would give the result \n",
    "    $$ \\theta_{1}$$ upon measuring and so on...."
   ]
  },
  {
   "cell_type": "code",
   "execution_count": 63,
   "metadata": {
    "ExecuteTime": {
     "end_time": "2021-05-05T08:31:44.269795Z",
     "start_time": "2021-05-05T08:31:44.265783Z"
    }
   },
   "outputs": [],
   "source": [
    "def apply_phase_kick(qc,i,last):\n",
    "    ## apply U^{2^i} CU gates on qubit i as control \n",
    "    for _ in range(2**i):\n",
    "        qc.cp(np.pi/2,i,last)\n",
    "    "
   ]
  },
  {
   "cell_type": "code",
   "execution_count": 64,
   "metadata": {
    "ExecuteTime": {
     "end_time": "2021-05-05T08:31:44.734421Z",
     "start_time": "2021-05-05T08:31:44.441243Z"
    }
   },
   "outputs": [
    {
     "data": {
      "image/png": "[encoded data removed]",
      "text/plain": [
       "<Figure size 688.597x325.08 with 1 Axes>"
      ]
     },
     "execution_count": 64,
     "metadata": {},
     "output_type": "execute_result"
    }
   ],
   "source": [
    "for i in range(3):\n",
    "    apply_phase_kick(q,i,3)\n",
    "q.barrier()\n",
    "q.draw('mpl')"
   ]
  },
  {
   "cell_type": "markdown",
   "metadata": {},
   "source": [
    "- Apply the inverse QFT for the circuit\n",
    "- NOTE that the q0 would need the most inverse rotations "
   ]
  },
  {
   "cell_type": "code",
   "execution_count": 65,
   "metadata": {
    "ExecuteTime": {
     "end_time": "2021-05-05T08:31:44.791440Z",
     "start_time": "2021-05-05T08:31:44.787476Z"
    }
   },
   "outputs": [],
   "source": [
    "def get_rot_k(k):\n",
    "    return np.pi / 2**k "
   ]
  },
  {
   "cell_type": "code",
   "execution_count": 66,
   "metadata": {
    "ExecuteTime": {
     "end_time": "2021-05-05T08:31:45.255066Z",
     "start_time": "2021-05-05T08:31:45.250113Z"
    }
   },
   "outputs": [],
   "source": [
    "def inverse_qft(qc,n):\n",
    "    #generate rotations \n",
    "    rotation = {} \n",
    "    for i in range(1,n+1):\n",
    "        rotation[i] = get_rot_k(i)\n",
    "    \n",
    "    for q in range(n-1,-1,-1):\n",
    "        \n",
    "        # apply the inverse rotations starting from last qubit \n",
    "        rot_count = n - q - 1 \n",
    "        control = n-1 \n",
    "        while rot_count >= 1 :\n",
    "            qc.cp(-rotation[rot_count],control,q) \n",
    "            rot_count-=1 \n",
    "            control-=1\n",
    "        # apply hadamard \n",
    "        qc.h(q)\n",
    "        \n",
    "    # that's it "
   ]
  },
  {
   "cell_type": "code",
   "execution_count": 67,
   "metadata": {
    "ExecuteTime": {
     "end_time": "2021-05-05T08:31:46.056552Z",
     "start_time": "2021-05-05T08:31:45.752369Z"
    }
   },
   "outputs": [
    {
     "data": {
      "image/png": "[encoded data removed]",
      "text/plain": [
       "<Figure size 1110x325.08 with 1 Axes>"
      ]
     },
     "execution_count": 67,
     "metadata": {},
     "output_type": "execute_result"
    }
   ],
   "source": [
    "inverse_qft(q,3)\n",
    "q.barrier()\n",
    "q.draw('mpl')"
   ]
  },
  {
   "cell_type": "markdown",
   "metadata": {},
   "source": [
    "- NOW, q0 should contain the bit 0 \n",
    "- q1 should contain the bit 1 \n",
    "..."
   ]
  },
  {
   "cell_type": "code",
   "execution_count": 68,
   "metadata": {
    "ExecuteTime": {
     "end_time": "2021-05-05T08:31:49.698932Z",
     "start_time": "2021-05-05T08:31:49.301993Z"
    }
   },
   "outputs": [
    {
     "data": {
      "image/png": "[encoded data removed]",
      "text/plain": [
       "<Figure size 1290.6x325.08 with 1 Axes>"
      ]
     },
     "metadata": {},
     "output_type": "display_data"
    },
    {
     "data": {
      "image/png": "[encoded data removed]",
      "text/plain": [
       "<Figure size 504x360 with 1 Axes>"
      ]
     },
     "execution_count": 68,
     "metadata": {},
     "output_type": "execute_result"
    }
   ],
   "source": [
    "q.measure([0,1,2],[0,1,2])\n",
    "display(q.draw('mpl'))\n",
    "res = execute(q,backend=Aer.get_backend('qasm_simulator')).result()\n",
    "count = res.get_counts()\n",
    "plot_histogram(count)"
   ]
  },
  {
   "cell_type": "markdown",
   "metadata": {},
   "source": [
    "- This is correct as the angle was actually 0.25 -> 1/4 -> 0.010 in binary fraction and thus this is correct phase estimation!\n",
    "- NOTES -> \n"
   ]
  },
  {
   "cell_type": "markdown",
   "metadata": {},
   "source": [
    "### More CU means you are making it the more rightmost digit of the binary fraction \n",
    "\n",
    "### The most CU gate branch is actually the last bit of the representation \n",
    "$$ \\theta = 0. \\theta_{0} \\theta_{1} ... \\theta{n} $$"
   ]
  },
  {
   "cell_type": "code",
   "execution_count": null,
   "metadata": {},
   "outputs": [],
   "source": []
  }
 ],
 "metadata": {
  "kernelspec": {
   "display_name": "Python 3",
   "language": "python",
   "name": "python3"
  },
  "language_info": {
   "codemirror_mode": {
    "name": "ipython",
    "version": 3
   },
   "file_extension": ".py",
   "mimetype": "text/x-python",
   "name": "python",
   "nbconvert_exporter": "python",
   "pygments_lexer": "ipython3",
   "version": "3.7.4"
  },
  "varInspector": {
   "cols": {
    "lenName": 16,
    "lenType": 16,
    "lenVar": 40
   },
   "kernels_config": {
    "python": {
     "delete_cmd_postfix": "",
     "delete_cmd_prefix": "del ",
     "library": "var_list.py",
     "varRefreshCmd": "print(var_dic_list())"
    },
    "r": {
     "delete_cmd_postfix": ") ",
     "delete_cmd_prefix": "rm(",
     "library": "var_list.r",
     "varRefreshCmd": "cat(var_dic_list()) "
    }
   },
   "types_to_exclude": [
    "module",
    "function",
    "builtin_function_or_method",
    "instance",
    "_Feature"
   ],
   "window_display": false
  }
 },
 "nbformat": 4,
 "nbformat_minor": 2
}
