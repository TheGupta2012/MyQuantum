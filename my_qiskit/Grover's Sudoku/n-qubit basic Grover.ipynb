{
 "cells": [
  {
   "cell_type": "markdown",
   "metadata": {},
   "source": [
    "## Grover's Algorithm\n",
    "- Practicing grover's algorithm for an *n-qubit* search problem \n",
    "- We know that the sign flip oracle is $U_f$ and the diffuser is $U_d$.\n",
    "- Let us try to build a basic n-qubit grover search with a randomized winning state\n",
    "- Note, that although this is a trivial problem but making it by hand helps to practice the concepts\n",
    "- Let us start!"
   ]
  },
  {
   "cell_type": "code",
   "execution_count": 55,
   "metadata": {
    "ExecuteTime": {
     "end_time": "2021-08-02T12:51:28.997410Z",
     "start_time": "2021-08-02T12:51:28.992815Z"
    }
   },
   "outputs": [],
   "source": [
    "from qiskit import *\n",
    "from qiskit.quantum_info import Operator \n",
    "from qiskit.tools.visualization import plot_histogram, plot_bloch_multivector\n",
    "import numpy as np\n",
    "from qiskit.providers.ibmq import IBMQ"
   ]
  },
  {
   "cell_type": "code",
   "execution_count": 3,
   "metadata": {
    "ExecuteTime": {
     "end_time": "2021-08-02T12:37:16.274444Z",
     "start_time": "2021-08-02T12:37:05.498335Z"
    }
   },
   "outputs": [],
   "source": [
    "IBMQ.load_account()\n",
    "provider = IBMQ.get_provider('ibm-q-education')"
   ]
  },
  {
   "cell_type": "code",
   "execution_count": 4,
   "metadata": {
    "ExecuteTime": {
     "end_time": "2021-08-02T12:37:39.019207Z",
     "start_time": "2021-08-02T12:37:39.005111Z"
    }
   },
   "outputs": [],
   "source": [
    "sim = BasicAer.get_backend('qasm_simulator')\n",
    "sv_sim = BasicAer.get_backend('statevector_simulator')"
   ]
  },
  {
   "cell_type": "markdown",
   "metadata": {},
   "source": [
    "### 1. Starting out with creating a random winning state \n",
    "- We shall create a function which - \n",
    "    - Takes in an input bit size $n$\n",
    "    - Takes in how many winning states $w$ we need to generate\n",
    "    - Returns the randomly chosen winning states and the complete list \n"
   ]
  },
  {
   "cell_type": "code",
   "execution_count": 42,
   "metadata": {
    "ExecuteTime": {
     "end_time": "2021-08-02T12:45:32.233099Z",
     "start_time": "2021-08-02T12:45:32.225482Z"
    }
   },
   "outputs": [],
   "source": [
    "def get_winners(n, winners):\n",
    "    assert(winners <= 2**n), \"Number of winners must be less than 2**{}\".format(n)\n",
    "\n",
    "    choices = np.random.choice(2**n, winners)\n",
    "    res = [0 for i in range(2**n)]\n",
    "    \n",
    "    for k in choices:\n",
    "        res[k] = 1    \n",
    "    return {\"winners\": list(choices), \"list \":res }"
   ]
  },
  {
   "cell_type": "code",
   "execution_count": 43,
   "metadata": {
    "ExecuteTime": {
     "end_time": "2021-08-02T12:45:32.485694Z",
     "start_time": "2021-08-02T12:45:32.456603Z"
    }
   },
   "outputs": [
    {
     "data": {
      "text/plain": [
       "{'winners': [7], 'list ': [0, 0, 0, 0, 0, 0, 0, 1]}"
      ]
     },
     "execution_count": 43,
     "metadata": {},
     "output_type": "execute_result"
    }
   ],
   "source": [
    "get_winners(3, 1)"
   ]
  },
  {
   "cell_type": "markdown",
   "metadata": {},
   "source": [
    "### 2. Initialization of Grover circuit\n",
    "- Given the number of bits and number of winning states, we build our -\n",
    "    - Initial equal superposition circuit \n",
    "    - Initia oracle $U_f$ for the phase flip on the target states / winning states"
   ]
  },
  {
   "cell_type": "code",
   "execution_count": 116,
   "metadata": {
    "ExecuteTime": {
     "end_time": "2021-08-02T13:02:29.971980Z",
     "start_time": "2021-08-02T13:02:29.963064Z"
    }
   },
   "outputs": [],
   "source": [
    "def get_oracle(n,winners):\n",
    "    matrix = np.eye(2**n)\n",
    "    # make the Uf oracle matrix\n",
    "    for i in winners:\n",
    "        try:\n",
    "            matrix[i][i] = -1\n",
    "        except:\n",
    "            print(\"Invalid winner states\")\n",
    "    \n",
    "    # construct the operator \n",
    "    op = Operator(data = matrix)  \n",
    "    \n",
    "    #construct the quantum circuit\n",
    "    qc = QuantumCircuit(n,name='Uf oracle')\n",
    "    qc = qc.compose(op, qubits = range(n))\n",
    "    qc = qc.control(num_ctrl_qubits=1, ctrl_state='1')\n",
    "    \n",
    "    return qc "
   ]
  },
  {
   "cell_type": "code",
   "execution_count": 117,
   "metadata": {
    "ExecuteTime": {
     "end_time": "2021-08-02T13:02:30.449964Z",
     "start_time": "2021-08-02T13:02:30.351916Z"
    }
   },
   "outputs": [],
   "source": [
    "o = get_oracle(3,[0,5])"
   ]
  },
  {
   "cell_type": "code",
   "execution_count": 118,
   "metadata": {
    "ExecuteTime": {
     "end_time": "2021-08-02T13:02:31.480481Z",
     "start_time": "2021-08-02T13:02:31.366065Z"
    }
   },
   "outputs": [
    {
     "data": {
      "image/png": "[encoded data removed]",
      "text/plain": [
       "<Figure size 246.375x264.88 with 1 Axes>"
      ]
     },
     "execution_count": 118,
     "metadata": {},
     "output_type": "execute_result"
    }
   ],
   "source": [
    "o.draw('mpl')"
   ]
  },
  {
   "cell_type": "markdown",
   "metadata": {},
   "source": [
    "### 3. Making the diffuser\n",
    "- The diffuser circuit is the next most important thing in the circuit generation \n",
    "- We make the diffuser circuit using the following identity - \n",
    "$$U_d = 2|s \\rangle \\langle s| - I$$\n",
    "- In the above equation, $|s\\rangle$ is the equal superposition state of the circuit"
   ]
  },
  {
   "cell_type": "code",
   "execution_count": 149,
   "metadata": {
    "ExecuteTime": {
     "end_time": "2021-08-02T13:16:10.833709Z",
     "start_time": "2021-08-02T13:16:10.816077Z"
    }
   },
   "outputs": [],
   "source": [
    "def make_diffuser(n):\n",
    "    # only the size of the circuit is required to make \n",
    "    # |s> state \n",
    "    \n",
    "    h = (1/np.sqrt(2))*np.array([[1,1],\n",
    "                      [1,-1]])\n",
    "    hn = h\n",
    "    # do tensor n-1 times \n",
    "    for i in range(n-1):\n",
    "        hn = np.kron(hn,h)\n",
    "        \n",
    "    print(n,\"qubit hadamard transform\")\n",
    "    print(hn)\n",
    "    \n",
    "    # built the hadamard circuit\n",
    "    # first column is the equal superposition state or just the first row as transpose is equal\n",
    "    s_state = np.array([hn[0]])\n",
    "    \n",
    "    #build diffuser \n",
    "    diffuser = 2* (s_state.transpose() @ s_state) - np.eye(2**n)\n",
    "    \n",
    "    op = Operator(data = diffuser)\n",
    "    \n",
    "    print(\"Diffuser :\",op)"
   ]
  },
  {
   "cell_type": "code",
   "execution_count": 150,
   "metadata": {
    "ExecuteTime": {
     "end_time": "2021-08-02T13:16:11.191633Z",
     "start_time": "2021-08-02T13:16:11.167588Z"
    }
   },
   "outputs": [
    {
     "name": "stdout",
     "output_type": "stream",
     "text": [
      "3 qubit hadamard transform\n",
      "[[ 0.35355339  0.35355339  0.35355339  0.35355339  0.35355339  0.35355339\n",
      "   0.35355339  0.35355339]\n",
      " [ 0.35355339 -0.35355339  0.35355339 -0.35355339  0.35355339 -0.35355339\n",
      "   0.35355339 -0.35355339]\n",
      " [ 0.35355339  0.35355339 -0.35355339 -0.35355339  0.35355339  0.35355339\n",
      "  -0.35355339 -0.35355339]\n",
      " [ 0.35355339 -0.35355339 -0.35355339  0.35355339  0.35355339 -0.35355339\n",
      "  -0.35355339  0.35355339]\n",
      " [ 0.35355339  0.35355339  0.35355339  0.35355339 -0.35355339 -0.35355339\n",
      "  -0.35355339 -0.35355339]\n",
      " [ 0.35355339 -0.35355339  0.35355339 -0.35355339 -0.35355339  0.35355339\n",
      "  -0.35355339  0.35355339]\n",
      " [ 0.35355339  0.35355339 -0.35355339 -0.35355339 -0.35355339 -0.35355339\n",
      "   0.35355339  0.35355339]\n",
      " [ 0.35355339 -0.35355339 -0.35355339  0.35355339 -0.35355339  0.35355339\n",
      "   0.35355339 -0.35355339]]\n",
      "Diffuser : Operator([[-0.75+0.j,  0.25+0.j,  0.25+0.j,  0.25+0.j,  0.25+0.j,\n",
      "            0.25+0.j,  0.25+0.j,  0.25+0.j],\n",
      "          [ 0.25+0.j, -0.75+0.j,  0.25+0.j,  0.25+0.j,  0.25+0.j,\n",
      "            0.25+0.j,  0.25+0.j,  0.25+0.j],\n",
      "          [ 0.25+0.j,  0.25+0.j, -0.75+0.j,  0.25+0.j,  0.25+0.j,\n",
      "            0.25+0.j,  0.25+0.j,  0.25+0.j],\n",
      "          [ 0.25+0.j,  0.25+0.j,  0.25+0.j, -0.75+0.j,  0.25+0.j,\n",
      "            0.25+0.j,  0.25+0.j,  0.25+0.j],\n",
      "          [ 0.25+0.j,  0.25+0.j,  0.25+0.j,  0.25+0.j, -0.75+0.j,\n",
      "            0.25+0.j,  0.25+0.j,  0.25+0.j],\n",
      "          [ 0.25+0.j,  0.25+0.j,  0.25+0.j,  0.25+0.j,  0.25+0.j,\n",
      "           -0.75+0.j,  0.25+0.j,  0.25+0.j],\n",
      "          [ 0.25+0.j,  0.25+0.j,  0.25+0.j,  0.25+0.j,  0.25+0.j,\n",
      "            0.25+0.j, -0.75+0.j,  0.25+0.j],\n",
      "          [ 0.25+0.j,  0.25+0.j,  0.25+0.j,  0.25+0.j,  0.25+0.j,\n",
      "            0.25+0.j,  0.25+0.j, -0.75+0.j]],\n",
      "         input_dims=(2, 2, 2), output_dims=(2, 2, 2))\n"
     ]
    }
   ],
   "source": [
    "make_diffuser(3)"
   ]
  },
  {
   "cell_type": "markdown",
   "metadata": {},
   "source": [
    "### more, to-do..."
   ]
  },
  {
   "cell_type": "code",
   "execution_count": null,
   "metadata": {},
   "outputs": [],
   "source": []
  }
 ],
 "metadata": {
  "kernelspec": {
   "display_name": "Python 3",
   "language": "python",
   "name": "python3"
  },
  "language_info": {
   "codemirror_mode": {
    "name": "ipython",
    "version": 3
   },
   "file_extension": ".py",
   "mimetype": "text/x-python",
   "name": "python",
   "nbconvert_exporter": "python",
   "pygments_lexer": "ipython3",
   "version": "3.7.4"
  },
  "varInspector": {
   "cols": {
    "lenName": 16,
    "lenType": 16,
    "lenVar": 40
   },
   "kernels_config": {
    "python": {
     "delete_cmd_postfix": "",
     "delete_cmd_prefix": "del ",
     "library": "var_list.py",
     "varRefreshCmd": "print(var_dic_list())"
    },
    "r": {
     "delete_cmd_postfix": ") ",
     "delete_cmd_prefix": "rm(",
     "library": "var_list.r",
     "varRefreshCmd": "cat(var_dic_list()) "
    }
   },
   "types_to_exclude": [
    "module",
    "function",
    "builtin_function_or_method",
    "instance",
    "_Feature"
   ],
   "window_display": false
  }
 },
 "nbformat": 4,
 "nbformat_minor": 2
}
