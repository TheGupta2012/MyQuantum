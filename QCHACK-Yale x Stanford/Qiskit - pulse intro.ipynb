{
 "cells": [
  {
   "cell_type": "markdown",
   "metadata": {},
   "source": [
    "## Qiskit pulse\n",
    "- Quanrtum devices can be programmed at the hardware and the software level \n",
    "- The software level includes the compilation techniques and hardware level includes controlling of the systems that are actually executing our circuits"
   ]
  },
  {
   "cell_type": "markdown",
   "metadata": {},
   "source": [
    "### Quantum Circuits \n",
    "- They are Higher Level proramming constructs\n",
    "- We just want the circuit to be **smaller**\n",
    "- gates have **fixed performance** as we are not dealing with hardware configs but just the gate applications\n",
    "- Transpiler is present on the software side to optimize the circuits to run on a specific topology."
   ]
  },
  {
   "cell_type": "markdown",
   "metadata": {},
   "source": [
    "### Pulse Schedules\n",
    "- Here we are concerned with the **timing of our circuits**\n",
    "- We have \n",
    "    - Control over the gate definitions and \n",
    "    - Control over the readout pipeline\n",
    "- We actually do WAVEFORM SCHEDULING and thus it required more amount of domain knowledge"
   ]
  },
  {
   "cell_type": "markdown",
   "metadata": {},
   "source": [
    "#### Why it helps? \n",
    "- Error mitigation and timing of the circuit can be optimized.\n",
    "\n",
    "- **GATE DISCOVERY**: as we are peeking at the definitions of the gates, or we want to make a gate about whose definition I am unaware of, pulse programming is needed.\n",
    "- **GATE SCHEDULING**: whenever we care about exact time when our gate is applied\n",
    "- **Measurement data**\n",
    "- **Error mitigation**"
   ]
  },
  {
   "cell_type": "markdown",
   "metadata": {},
   "source": [
    "## How to manipulate qubits using PULSE\n",
    "- We first need to define a **native gate set**\n",
    "- Means, that any gate we apply to our system can be decomposed into a **combination of those elementary gates**\n",
    "- Example -> CR, Rz(phi), Rx(pi/2) \n",
    "\n"
   ]
  },
  {
   "cell_type": "markdown",
   "metadata": {},
   "source": [
    "### Single qubit control\n",
    "- That just means that if you can control **theta** and **phi** over the Bloch Sphere, you can actually rotate and thus put the qubit in any **SPECIFIC STATE**\n",
    "- If a pulse is applied for a **longer duration** or a **larger amplitude** the angle sweeped out is **larger**"
   ]
  },
  {
   "cell_type": "markdown",
   "metadata": {},
   "source": [
    "### Two qubit control\n",
    "- A cross resonance circuit is used for this 2 qubit control\n",
    "- Whenever we apply a **pulse to one control qubit**, it is only resonant with that particular qubit\n",
    "- The target is actually unchanged because of that pulse.\n",
    "- But, since the 2 qubits are coupled, the state of the control qubit, starts affecting the state of the second qubit"
   ]
  },
  {
   "cell_type": "markdown",
   "metadata": {},
   "source": [
    "### Measurement\n",
    "- Again, the measurement is done by **reflection of microwave pulses** off the state of the qubits\n",
    "- The reflected frequency is actually characteristic of the state of the qubit which we are measuring and this signal is then passed into an ADC.\n",
    "- This digitial output is then classified as **0** or **1** acc to the conversion techniques"
   ]
  },
  {
   "cell_type": "code",
   "execution_count": null,
   "metadata": {},
   "outputs": [],
   "source": []
  },
  {
   "cell_type": "code",
   "execution_count": null,
   "metadata": {},
   "outputs": [],
   "source": []
  },
  {
   "cell_type": "code",
   "execution_count": null,
   "metadata": {},
   "outputs": [],
   "source": []
  },
  {
   "cell_type": "code",
   "execution_count": null,
   "metadata": {},
   "outputs": [],
   "source": []
  },
  {
   "cell_type": "code",
   "execution_count": null,
   "metadata": {},
   "outputs": [],
   "source": []
  },
  {
   "cell_type": "code",
   "execution_count": null,
   "metadata": {},
   "outputs": [],
   "source": []
  }
 ],
 "metadata": {
  "kernelspec": {
   "display_name": "Python 3",
   "language": "python",
   "name": "python3"
  },
  "language_info": {
   "codemirror_mode": {
    "name": "ipython",
    "version": 3
   },
   "file_extension": ".py",
   "mimetype": "text/x-python",
   "name": "python",
   "nbconvert_exporter": "python",
   "pygments_lexer": "ipython3",
   "version": "3.7.4"
  },
  "varInspector": {
   "cols": {
    "lenName": 16,
    "lenType": 16,
    "lenVar": 40
   },
   "kernels_config": {
    "python": {
     "delete_cmd_postfix": "",
     "delete_cmd_prefix": "del ",
     "library": "var_list.py",
     "varRefreshCmd": "print(var_dic_list())"
    },
    "r": {
     "delete_cmd_postfix": ") ",
     "delete_cmd_prefix": "rm(",
     "library": "var_list.r",
     "varRefreshCmd": "cat(var_dic_list()) "
    }
   },
   "types_to_exclude": [
    "module",
    "function",
    "builtin_function_or_method",
    "instance",
    "_Feature"
   ],
   "window_display": false
  }
 },
 "nbformat": 4,
 "nbformat_minor": 2
}
