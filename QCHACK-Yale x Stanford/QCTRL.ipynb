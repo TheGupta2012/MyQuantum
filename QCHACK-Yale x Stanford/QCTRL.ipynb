{
 "cells": [
  {
   "cell_type": "markdown",
   "metadata": {},
   "source": [
    "## Quantum Control \n",
    "- *It tells us how to control the behaviour of any device or system that obeys the laws of quantum mechanics* Types : Control design(microwave pulses), error correction and automatic tuning\n",
    "- This challenge is based upon the fact that we want to implement **single qubit gates with very high precision**\n",
    "- Which gates? Hadamard and the X gate\n",
    "- We need to generate implementations of the above gates using microwave pulses"
   ]
  },
  {
   "cell_type": "markdown",
   "metadata": {},
   "source": [
    "## Types of Errors \n",
    "- **Control Amplitude** : You have miscalibrated your AMPLITUDE OF THE MICROWAVE PULSE\n",
    "- **Ambient Dephasing** : You have a slight rotation around the Z - axis "
   ]
  },
  {
   "cell_type": "markdown",
   "metadata": {},
   "source": [
    "## We want Better pulses\n",
    "- How do we find that? Boulder opal figures that out for us!\n",
    "- Boulder Opal is used to actually FIGURE OUT PULSES WHICH are robust to errors\n",
    "- It is like -> let the noise be there : DEFINE BETTER IMPLEMENTATIONS which are robust to the noise or errors present"
   ]
  },
  {
   "cell_type": "markdown",
   "metadata": {},
   "source": [
    "ID -> NSUT\n",
    "HARSHITcontrol -> Qcntrl pass "
   ]
  },
  {
   "cell_type": "markdown",
   "metadata": {},
   "source": [
    "### Note \n",
    "$$ |\\Psi \\rangle = \\alpha|0> + \\beta|1>$$ is not really true \n",
    "\n",
    "$$ |\\Psi(t) \\rangle = \\alpha(t)|0> + \\beta(t)|1>$$ is really true!\n",
    "\n",
    "- We would need to solve the Hamilotnian for our state and then apply the gate we want to apply"
   ]
  },
  {
   "cell_type": "markdown",
   "metadata": {},
   "source": [
    "## Note \n",
    "- Over the course of the simulation of **one circuit**, you may assume that the errors in your device do not change \n",
    "- Where they would change is on the order of **minutes** but while executing an algorithm, they can be considered as constant!"
   ]
  },
  {
   "cell_type": "code",
   "execution_count": 2,
   "metadata": {},
   "outputs": [
    {
     "name": "stdout",
     "output_type": "stream",
     "text": [
      "Requirement already satisfied: qctrl-visualizer in e:\\anaconda\\lib\\site-packages (2.4.2)\n",
      "Requirement already satisfied: qctrl-open-controls in e:\\anaconda\\lib\\site-packages (7.0.1)\n",
      "Requirement already satisfied: toml<0.11.0,>=0.10.0 in e:\\anaconda\\lib\\site-packages (from qctrl-visualizer) (0.10.1)\n",
      "Requirement already satisfied: sphinx-rtd-theme<0.5.0,>=0.4.3 in e:\\anaconda\\lib\\site-packages (from qctrl-visualizer) (0.4.3)\n",
      "Requirement already satisfied: matplotlib>=2.1 in e:\\anaconda\\lib\\site-packages (from qctrl-visualizer) (3.1.1)\n",
      "Requirement already satisfied: numpy<2.0,>=1.16 in e:\\anaconda\\lib\\site-packages (from qctrl-visualizer) (1.19.5)\n",
      "Requirement already satisfied: scipy<2.0,>=1.3 in e:\\anaconda\\lib\\site-packages (from qctrl-open-controls) (1.5.4)\n",
      "Requirement already satisfied: sphinx in e:\\anaconda\\lib\\site-packages (from sphinx-rtd-theme<0.5.0,>=0.4.3->qctrl-visualizer) (2.2.0)\n",
      "Requirement already satisfied: cycler>=0.10 in e:\\anaconda\\lib\\site-packages (from matplotlib>=2.1->qctrl-visualizer) (0.10.0)\n",
      "Requirement already satisfied: kiwisolver>=1.0.1 in e:\\anaconda\\lib\\site-packages (from matplotlib>=2.1->qctrl-visualizer) (1.1.0)\n",
      "Requirement already satisfied: pyparsing!=2.0.4,!=2.1.2,!=2.1.6,>=2.0.1 in e:\\anaconda\\lib\\site-packages (from matplotlib>=2.1->qctrl-visualizer) (2.4.2)\n",
      "Requirement already satisfied: python-dateutil>=2.1 in e:\\anaconda\\lib\\site-packages (from matplotlib>=2.1->qctrl-visualizer) (2.8.1)\n",
      "Requirement already satisfied: sphinxcontrib-jsmath in e:\\anaconda\\lib\\site-packages (from sphinx->sphinx-rtd-theme<0.5.0,>=0.4.3->qctrl-visualizer) (1.0.1)\n",
      "Requirement already satisfied: sphinxcontrib-applehelp in e:\\anaconda\\lib\\site-packages (from sphinx->sphinx-rtd-theme<0.5.0,>=0.4.3->qctrl-visualizer) (1.0.1)\n",
      "Requirement already satisfied: sphinxcontrib-serializinghtml in e:\\anaconda\\lib\\site-packages (from sphinx->sphinx-rtd-theme<0.5.0,>=0.4.3->qctrl-visualizer) (1.1.3)\n",
      "Requirement already satisfied: babel!=2.0,>=1.3 in e:\\anaconda\\lib\\site-packages (from sphinx->sphinx-rtd-theme<0.5.0,>=0.4.3->qctrl-visualizer) (2.7.0)\n",
      "Requirement already satisfied: snowballstemmer>=1.1 in e:\\anaconda\\lib\\site-packages (from sphinx->sphinx-rtd-theme<0.5.0,>=0.4.3->qctrl-visualizer) (2.0.0)\n",
      "Requirement already satisfied: Pygments>=2.0 in e:\\anaconda\\lib\\site-packages (from sphinx->sphinx-rtd-theme<0.5.0,>=0.4.3->qctrl-visualizer) (2.4.2)\n",
      "Requirement already satisfied: docutils>=0.12 in e:\\anaconda\\lib\\site-packages (from sphinx->sphinx-rtd-theme<0.5.0,>=0.4.3->qctrl-visualizer) (0.15.2)\n",
      "Requirement already satisfied: sphinxcontrib-qthelp in e:\\anaconda\\lib\\site-packages (from sphinx->sphinx-rtd-theme<0.5.0,>=0.4.3->qctrl-visualizer) (1.0.2)\n",
      "Requirement already satisfied: alabaster<0.8,>=0.7 in e:\\anaconda\\lib\\site-packages (from sphinx->sphinx-rtd-theme<0.5.0,>=0.4.3->qctrl-visualizer) (0.7.12)\n",
      "Requirement already satisfied: Jinja2>=2.3 in e:\\anaconda\\lib\\site-packages (from sphinx->sphinx-rtd-theme<0.5.0,>=0.4.3->qctrl-visualizer) (2.10.3)\n",
      "Requirement already satisfied: imagesize in e:\\anaconda\\lib\\site-packages (from sphinx->sphinx-rtd-theme<0.5.0,>=0.4.3->qctrl-visualizer) (1.1.0)\n",
      "Requirement already satisfied: packaging in e:\\anaconda\\lib\\site-packages (from sphinx->sphinx-rtd-theme<0.5.0,>=0.4.3->qctrl-visualizer) (19.2)\n",
      "Requirement already satisfied: colorama>=0.3.5; sys_platform == \"win32\" in e:\\anaconda\\lib\\site-packages (from sphinx->sphinx-rtd-theme<0.5.0,>=0.4.3->qctrl-visualizer) (0.4.1)\n",
      "Requirement already satisfied: sphinxcontrib-htmlhelp in e:\\anaconda\\lib\\site-packages (from sphinx->sphinx-rtd-theme<0.5.0,>=0.4.3->qctrl-visualizer) (1.0.2)\n",
      "Requirement already satisfied: sphinxcontrib-devhelp in e:\\anaconda\\lib\\site-packages (from sphinx->sphinx-rtd-theme<0.5.0,>=0.4.3->qctrl-visualizer) (1.0.1)\n",
      "Requirement already satisfied: requests>=2.5.0 in e:\\anaconda\\lib\\site-packages (from sphinx->sphinx-rtd-theme<0.5.0,>=0.4.3->qctrl-visualizer) (2.25.1)\n",
      "Requirement already satisfied: setuptools in e:\\anaconda\\lib\\site-packages (from sphinx->sphinx-rtd-theme<0.5.0,>=0.4.3->qctrl-visualizer) (41.4.0)\n",
      "Requirement already satisfied: six in e:\\anaconda\\lib\\site-packages (from cycler>=0.10->matplotlib>=2.1->qctrl-visualizer) (1.15.0)\n",
      "Requirement already satisfied: pytz>=2015.7 in e:\\anaconda\\lib\\site-packages (from babel!=2.0,>=1.3->sphinx->sphinx-rtd-theme<0.5.0,>=0.4.3->qctrl-visualizer) (2020.5)\n",
      "Requirement already satisfied: MarkupSafe>=0.23 in e:\\anaconda\\lib\\site-packages (from Jinja2>=2.3->sphinx->sphinx-rtd-theme<0.5.0,>=0.4.3->qctrl-visualizer) (1.1.1)\n",
      "Requirement already satisfied: idna<3,>=2.5 in e:\\anaconda\\lib\\site-packages (from requests>=2.5.0->sphinx->sphinx-rtd-theme<0.5.0,>=0.4.3->qctrl-visualizer) (2.8)\n",
      "Requirement already satisfied: certifi>=2017.4.17 in e:\\anaconda\\lib\\site-packages (from requests>=2.5.0->sphinx->sphinx-rtd-theme<0.5.0,>=0.4.3->qctrl-visualizer) (2019.9.11)\n",
      "Requirement already satisfied: chardet<5,>=3.0.2 in e:\\anaconda\\lib\\site-packages (from requests>=2.5.0->sphinx->sphinx-rtd-theme<0.5.0,>=0.4.3->qctrl-visualizer) (3.0.4)\n",
      "Requirement already satisfied: urllib3<1.27,>=1.21.1 in e:\\anaconda\\lib\\site-packages (from requests>=2.5.0->sphinx->sphinx-rtd-theme<0.5.0,>=0.4.3->qctrl-visualizer) (1.25.11)\n",
      "Note: you may need to restart the kernel to use updated packages.\n"
     ]
    }
   ],
   "source": [
    "%pip install qctrl-visualizer qctrl-open-controls"
   ]
  },
  {
   "cell_type": "code",
   "execution_count": 2,
   "metadata": {
    "ExecuteTime": {
     "end_time": "2021-04-10T16:54:39.786747Z",
     "start_time": "2021-04-10T16:54:31.635593Z"
    }
   },
   "outputs": [],
   "source": [
    "import matplotlib.pyplot as plt\n",
    "import numpy as np\n",
    "\n",
    "from qctrlvisualizer import get_qctrl_style, plot_controls\n",
    "from qctrl import Qctrl\n",
    "\n",
    "qctrl = Qctrl(email = 'harshit.co19@nsut.ac.in', password = 'HARSHITcontrol')"
   ]
  },
  {
   "cell_type": "code",
   "execution_count": null,
   "metadata": {},
   "outputs": [],
   "source": []
  }
 ],
 "metadata": {
  "kernelspec": {
   "display_name": "Python 3",
   "language": "python",
   "name": "python3"
  },
  "language_info": {
   "codemirror_mode": {
    "name": "ipython",
    "version": 3
   },
   "file_extension": ".py",
   "mimetype": "text/x-python",
   "name": "python",
   "nbconvert_exporter": "python",
   "pygments_lexer": "ipython3",
   "version": "3.7.4"
  },
  "varInspector": {
   "cols": {
    "lenName": 16,
    "lenType": 16,
    "lenVar": 40
   },
   "kernels_config": {
    "python": {
     "delete_cmd_postfix": "",
     "delete_cmd_prefix": "del ",
     "library": "var_list.py",
     "varRefreshCmd": "print(var_dic_list())"
    },
    "r": {
     "delete_cmd_postfix": ") ",
     "delete_cmd_prefix": "rm(",
     "library": "var_list.r",
     "varRefreshCmd": "cat(var_dic_list()) "
    }
   },
   "types_to_exclude": [
    "module",
    "function",
    "builtin_function_or_method",
    "instance",
    "_Feature"
   ],
   "window_display": false
  }
 },
 "nbformat": 4,
 "nbformat_minor": 2
}
