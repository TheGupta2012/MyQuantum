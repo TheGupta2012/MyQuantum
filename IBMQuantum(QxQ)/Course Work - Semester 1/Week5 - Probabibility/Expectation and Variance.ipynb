{
 "cells": [
  {
   "cell_type": "markdown",
   "metadata": {},
   "source": [
    "# Calculating Expectation and Variance\n"
   ]
  },
  {
   "cell_type": "code",
   "execution_count": 6,
   "metadata": {
    "ExecuteTime": {
     "end_time": "2020-11-18T13:27:23.503418Z",
     "start_time": "2020-11-18T13:27:10.815700Z"
    }
   },
   "outputs": [
    {
     "name": "stdout",
     "output_type": "stream",
     "text": [
      "Enter the number of data items :4\n",
      "Enter the values of the random variable :\n",
      "2 5 6 8\n",
      "Enter the probabilities of the random variable :\n",
      "0.4 0.15 0.35 0.1\n",
      "Expectation is : 4.449999999999999\n",
      "Variance is : 4.547499999999999\n"
     ]
    }
   ],
   "source": [
    "n = int(input(\"Enter the number of data items :\"))\n",
    "print(\"Enter the values of the random variable :\")\n",
    "X = list(map(int,input().split()))\n",
    "print(\"Enter the probabilities of the random variable :\")\n",
    "P = list(map(float,input().split()))\n",
    "for g in P:\n",
    "    if(g<0 or g>1):\n",
    "        print(\"Invalid probabilities\")\n",
    "if(len(P)!=len(X)):\n",
    "    print(\"Invalid entries. Number of entries should match.\")\n",
    "else:\n",
    "    Ex,Vx = 0,0\n",
    "    for i in range(n):\n",
    "        Ex += X[i]*P[i]\n",
    "    print(\"Expectation is :\",Ex)\n",
    "    for i in range(n):\n",
    "        Vx+= ((X[i]-Ex)**2)*P[i]\n",
    "    print(\"Variance is :\",Vx)"
   ]
  },
  {
   "cell_type": "code",
   "execution_count": null,
   "metadata": {},
   "outputs": [],
   "source": []
  }
 ],
 "metadata": {
  "kernelspec": {
   "display_name": "Python 3",
   "language": "python",
   "name": "python3"
  },
  "varInspector": {
   "cols": {
    "lenName": 16,
    "lenType": 16,
    "lenVar": 40
   },
   "kernels_config": {
    "python": {
     "delete_cmd_postfix": "",
     "delete_cmd_prefix": "del ",
     "library": "var_list.py",
     "varRefreshCmd": "print(var_dic_list())"
    },
    "r": {
     "delete_cmd_postfix": ") ",
     "delete_cmd_prefix": "rm(",
     "library": "var_list.r",
     "varRefreshCmd": "cat(var_dic_list()) "
    }
   },
   "types_to_exclude": [
    "module",
    "function",
    "builtin_function_or_method",
    "instance",
    "_Feature"
   ],
   "window_display": false
  }
 },
 "nbformat": 4,
 "nbformat_minor": 2
}
