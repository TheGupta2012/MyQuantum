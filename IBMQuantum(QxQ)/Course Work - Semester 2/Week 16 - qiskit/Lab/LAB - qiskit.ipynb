{
 "cells": [
  {
   "cell_type": "markdown",
   "metadata": {},
   "source": [
    "## Lab 16\n",
    "- qiskit is a library used for the quantum computation\n",
    "- Terra - it is the component of qiskit which contains the basic building blocks of quantum circuits\n",
    "- Aer - it is the component of qiskit which contains the simulators which actually run our circuits"
   ]
  },
  {
   "cell_type": "code",
   "execution_count": 2,
   "metadata": {
    "ExecuteTime": {
     "end_time": "2021-02-23T14:06:51.474657Z",
     "start_time": "2021-02-23T14:06:51.469630Z"
    }
   },
   "outputs": [],
   "source": [
    "from qiskit import * \n",
    "from qiskit.tools.visualization import plot_histogram, plot_bloch_multivector\n",
    "from qiskit import IBMQ"
   ]
  },
  {
   "cell_type": "markdown",
   "metadata": {},
   "source": [
    "## Shortcuts\n",
    "- **m** : markdown\n",
    "- **y** : code cell\n",
    "- **c** : copy cell\n",
    "- **v** : paste the cell \n",
    "- **b** : insert a cell below\n",
    "- **x** : delete cell\n",
    "- **a** : insert a cell above \n",
    "- **s** : save notebook \n",
    "- **shift + m** : merge current cell with cell below"
   ]
  },
  {
   "cell_type": "code",
   "execution_count": 3,
   "metadata": {
    "ExecuteTime": {
     "end_time": "2021-02-23T14:06:53.655796Z",
     "start_time": "2021-02-23T14:06:53.649847Z"
    }
   },
   "outputs": [
    {
     "name": "stdout",
     "output_type": "stream",
     "text": [
      "{'qiskit-terra': '0.16.1', 'qiskit-aer': '0.7.2', 'qiskit-ignis': '0.5.1', 'qiskit-ibmq-provider': '0.11.1', 'qiskit-aqua': '0.8.1', 'qiskit': '0.23.2'}\n"
     ]
    }
   ],
   "source": [
    "print(qiskit.__qiskit_version__)"
   ]
  },
  {
   "cell_type": "code",
   "execution_count": 4,
   "metadata": {
    "ExecuteTime": {
     "end_time": "2021-02-23T14:08:55.116029Z",
     "start_time": "2021-02-23T14:08:48.835705Z"
    }
   },
   "outputs": [
    {
     "name": "stderr",
     "output_type": "stream",
     "text": [
      "E:\\ANACONDA\\lib\\site-packages\\qiskit\\providers\\ibmq\\ibmqfactory.py:192: UserWarning: Timestamps in IBMQ backend properties, jobs, and job results are all now in local time instead of UTC.\n",
      "  warnings.warn('Timestamps in IBMQ backend properties, jobs, and job results '\n"
     ]
    }
   ],
   "source": [
    "provider = IBMQ.load_account()"
   ]
  },
  {
   "cell_type": "markdown",
   "metadata": {},
   "source": [
    "- Initialization of qubits is done in the |0> state always \n",
    "- We may initialize it with a random state too but by default qubits are initialized as |0>."
   ]
  },
  {
   "cell_type": "markdown",
   "metadata": {},
   "source": [
    "## Takeaways \n",
    "*Basics lab, not really needed to code again*\n",
    "- STATEVECTORS for an *n qubit* state has 2^n basis vectors\n",
    "- Each qubit is initialized as |0> \n",
    "- UNITARY SIMULATOR : gives you the final matrix representing the operations you do on your circuit\n",
    "- STATE VECTOR SIMULATOR : gives you the final state of your circuit \n",
    "- QASM SIMULATOR : only with measurements "
   ]
  },
  {
   "cell_type": "code",
   "execution_count": 41,
   "metadata": {
    "ExecuteTime": {
     "end_time": "2021-02-23T14:37:30.914574Z",
     "start_time": "2021-02-23T14:37:30.752010Z"
    }
   },
   "outputs": [
    {
     "data": {
      "image/png": "[encoded data removed]",
      "text/plain": [
       "<Figure size 267.052x204.68 with 1 Axes>"
      ]
     },
     "execution_count": 41,
     "metadata": {},
     "output_type": "execute_result"
    }
   ],
   "source": [
    "q = QuantumCircuit(2,2)\n",
    "q.x(1)\n",
    "q.barrier()\n",
    "q.h([0,1])\n",
    "# q.measure([0,1],[0,1])\n",
    "q.draw(output='mpl')\n"
   ]
  },
  {
   "cell_type": "code",
   "execution_count": 32,
   "metadata": {
    "ExecuteTime": {
     "end_time": "2021-02-23T14:32:11.056753Z",
     "start_time": "2021-02-23T14:32:10.752471Z"
    }
   },
   "outputs": [
    {
     "data": {
      "image/png": "[encoded data removed]",
      "text/plain": [
       "<Figure size 504x360 with 1 Axes>"
      ]
     },
     "execution_count": 32,
     "metadata": {},
     "output_type": "execute_result"
    }
   ],
   "source": [
    "plot_histogram(execute(q,backend = Aer.get_backend('statevector_simulator')).result().get_counts())"
   ]
  },
  {
   "cell_type": "code",
   "execution_count": 42,
   "metadata": {
    "ExecuteTime": {
     "end_time": "2021-02-23T14:37:33.647658Z",
     "start_time": "2021-02-23T14:37:33.618703Z"
    }
   },
   "outputs": [],
   "source": [
    "state = execute(q,backend = Aer.get_backend('statevector_simulator')).result().get_statevector()"
   ]
  },
  {
   "cell_type": "code",
   "execution_count": 43,
   "metadata": {
    "ExecuteTime": {
     "end_time": "2021-02-23T14:37:34.031435Z",
     "start_time": "2021-02-23T14:37:34.026447Z"
    }
   },
   "outputs": [
    {
     "name": "stdout",
     "output_type": "stream",
     "text": [
      "STATE VECTOR : [ 0.5-6.123234e-17j  0.5-6.123234e-17j -0.5+6.123234e-17j\n",
      " -0.5+6.123234e-17j]\n"
     ]
    }
   ],
   "source": [
    "print(\"STATE VECTOR :\",state)"
   ]
  },
  {
   "cell_type": "code",
   "execution_count": null,
   "metadata": {},
   "outputs": [],
   "source": []
  }
 ],
 "metadata": {
  "kernelspec": {
   "display_name": "Python 3",
   "language": "python",
   "name": "python3"
  },
  "language_info": {
   "codemirror_mode": {
    "name": "ipython",
    "version": 3
   },
   "file_extension": ".py",
   "mimetype": "text/x-python",
   "name": "python",
   "nbconvert_exporter": "python",
   "pygments_lexer": "ipython3",
   "version": "3.7.4"
  },
  "varInspector": {
   "cols": {
    "lenName": 16,
    "lenType": 16,
    "lenVar": 40
   },
   "kernels_config": {
    "python": {
     "delete_cmd_postfix": "",
     "delete_cmd_prefix": "del ",
     "library": "var_list.py",
     "varRefreshCmd": "print(var_dic_list())"
    },
    "r": {
     "delete_cmd_postfix": ") ",
     "delete_cmd_prefix": "rm(",
     "library": "var_list.r",
     "varRefreshCmd": "cat(var_dic_list()) "
    }
   },
   "types_to_exclude": [
    "module",
    "function",
    "builtin_function_or_method",
    "instance",
    "_Feature"
   ],
   "window_display": false
  }
 },
 "nbformat": 4,
 "nbformat_minor": 2
}
