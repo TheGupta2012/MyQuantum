{
 "cells": [
  {
   "cell_type": "markdown",
   "metadata": {},
   "source": [
    "## Quantum Key Distribution for a Channel\n",
    "- Quantum Key ditribution for this lab \n",
    "- **OBJECTIVES** : Generating random keys and sending it over through simulation"
   ]
  },
  {
   "cell_type": "code",
   "execution_count": 10,
   "metadata": {
    "ExecuteTime": {
     "end_time": "2021-04-05T08:50:21.705899Z",
     "start_time": "2021-04-05T08:50:21.696745Z"
    }
   },
   "outputs": [],
   "source": [
    "import numpy as np \n",
    "from qiskit import * \n",
    "from random import getrandbits"
   ]
  },
  {
   "cell_type": "markdown",
   "metadata": {},
   "source": [
    "- **KEY** : It is important for the sender and reciever to communicate through a KEY, something secret that is only known to them. KEY is used for encoding and decoding messages that are sent\n",
    "\n",
    "- QKD allows us to establish a shared key which is RANDOM.\n",
    "- Both have the same sequence of **0s and 1s**\n",
    "- Alice and Bob **DON'T HAVE TO MEET EACH OTHER EVEN ONCE**\n",
    "- This key is STILL TRANSFERRED SECRETLY."
   ]
  },
  {
   "cell_type": "markdown",
   "metadata": {},
   "source": [
    "### GOAL \n",
    "- To **ESTABLISH A CONNECTION WITH A SECRET and RANDOM KEY**\n",
    "- This is a **symmetric key distribution**\n",
    "​\n",
    "# This is a 100% secure key distribution technique\n",
    "​\n",
    "### It employs quantum mechanics to get the knowledge about whether your key was tampered with or not\n",
    "​\n",
    "Note : the information being transferred is just CLASSICAL but KEY BEING TRANSFERRED IS TRANSFERRED THROUGH A QUANTUM CHANNEL"
   ]
  },
  {
   "cell_type": "markdown",
   "metadata": {},
   "source": [
    "## STEPS \n",
    "\n",
    "### Pre - Knowledge \n",
    "- **You need to establish the length of the KEY**\n",
    "- Here -> **KEY : 500 bits**\n",
    "- Also we have a quantum and a classical channel"
   ]
  },
  {
   "cell_type": "code",
   "execution_count": 11,
   "metadata": {
    "ExecuteTime": {
     "end_time": "2021-04-05T08:50:23.896553Z",
     "start_time": "2021-04-05T08:50:23.889511Z"
    }
   },
   "outputs": [],
   "source": [
    "length_key = 600\n",
    "q_channel = []\n",
    "c_channel = []\n"
   ]
  },
  {
   "cell_type": "markdown",
   "metadata": {},
   "source": [
    "## Step1 : Alice selects bit-string and bases\n",
    "- Generate 500 bits that are random \n",
    "- Then generate another 500 bits to specify the **basis**"
   ]
  },
  {
   "cell_type": "code",
   "execution_count": 12,
   "metadata": {
    "ExecuteTime": {
     "end_time": "2021-04-05T08:50:24.330618Z",
     "start_time": "2021-04-05T08:50:24.317778Z"
    }
   },
   "outputs": [],
   "source": [
    "def select_encoding(length):\n",
    "    # To store the random 0 / 1\n",
    "    alice_bits = \"\"\n",
    "    # to store the random vertical or diagonal bases \n",
    "    alice_bases = \"\"\n",
    "    \n",
    "    for _ in range(length):\n",
    "        # just use randbits and append to the end of the string\n",
    "        alice_bits += str(getrandbits(1))\n",
    "        alice_bases += str(getrandbits(1))\n",
    "        \n",
    "    return alice_bits, alice_bases"
   ]
  },
  {
   "cell_type": "code",
   "execution_count": 13,
   "metadata": {
    "ExecuteTime": {
     "end_time": "2021-04-05T08:50:24.461994Z",
     "start_time": "2021-04-05T08:50:24.442898Z"
    }
   },
   "outputs": [
    {
     "name": "stdout",
     "output_type": "stream",
     "text": [
      "Alice's bits (first 20 bits) : 11000000000010110101 \n",
      "\n",
      "Alice's basis string (first 20 bits) : 11010101011010110110\n"
     ]
    }
   ],
   "source": [
    "alice_bits, alice_bases = select_encoding(length_key)\n",
    "print(\"Alice's bits (first 20 bits) :\",alice_bits[:20],\"\\n\")\n",
    "print(\"Alice's basis string (first 20 bits) :\",alice_bases[:20])"
   ]
  },
  {
   "cell_type": "markdown",
   "metadata": {},
   "source": [
    "## Step2 : Bob selects bases\n",
    "- BOB NEEDS TO SELECT **only bases**\n",
    "- Why? **BOB ONLY SELECTS THE BASES IN WHICH HE NEEDS TO MEASURE**"
   ]
  },
  {
   "cell_type": "code",
   "execution_count": 14,
   "metadata": {
    "ExecuteTime": {
     "end_time": "2021-04-05T08:50:49.825159Z",
     "start_time": "2021-04-05T08:50:49.819264Z"
    }
   },
   "outputs": [],
   "source": [
    "def select_bob_measurement(length):\n",
    "    bob_bases = \"\"\n",
    "    # bob selects the bases in which he wants to measure\n",
    "    for _ in range(length):\n",
    "        bob_bases += str(getrandbits(1))\n",
    "        \n",
    "    return bob_bases"
   ]
  },
  {
   "cell_type": "code",
   "execution_count": 15,
   "metadata": {
    "ExecuteTime": {
     "end_time": "2021-04-05T08:51:02.473344Z",
     "start_time": "2021-04-05T08:51:02.453462Z"
    }
   },
   "outputs": [
    {
     "name": "stdout",
     "output_type": "stream",
     "text": [
      "Bob's string: 11100101011110110111\n"
     ]
    }
   ],
   "source": [
    "bob_bases = select_bob_measurement(length_key)\n",
    "print(\"Bob's string:\",bob_bases[:20])"
   ]
  },
  {
   "cell_type": "markdown",
   "metadata": {},
   "source": [
    "## Step 3: Encode : All alice\n",
    "\n",
    "Alice now uses her random list of numbers to generate a bunch of quantum states:\n",
    "In this excercise we are going to represent the creation of a qubit as an individual `QuantumCircuit` object.\n",
    "\n",
    "The table below summarizes the qubit states Alice sends, based on the bit of Alice's `alice_bitstring` the corresponding bit of `selected_bases`:\n",
    "\n",
    "| Bit in Alice's `alice_bitstring` | Corresponding bit in `selected_bases` | Encoding basis | Qubit state sent |\n",
    "|:----------------:|:--------------------------:|:--------------------------:|:---------------:|\n",
    "| 0 | 0 | $$|0\\rangle,|1\\rangle$$ |$$|0\\rangle$$ |\n",
    "| 0 | 1 | $$|+\\rangle,|-\\rangle$$ |$$|+\\rangle$$ |\n",
    "| 1 | 0 | $$|0\\rangle,|1\\rangle$$ |$$|1\\rangle$$ |\n",
    "| 1 | 1 | $$|+\\rangle,|-\\rangle$$ |$$|-\\rangle$$ |"
   ]
  },
  {
   "cell_type": "code",
   "execution_count": 16,
   "metadata": {
    "ExecuteTime": {
     "end_time": "2021-04-05T08:51:40.597072Z",
     "start_time": "2021-04-05T08:51:40.578856Z"
    }
   },
   "outputs": [],
   "source": [
    "def generate_zqubit(q):\n",
    "    Q = QuantumCircuit(1,1)\n",
    "    if(int(q) == 1):\n",
    "        Q.x(0)\n",
    "    return Q\n",
    "    \n",
    "def generate_xqubit(q):\n",
    "    Q = QuantumCircuit(1,1)\n",
    "    if(int(q) == 0):\n",
    "        Q.h(0)\n",
    "    else:\n",
    "        Q.x(0)\n",
    "        Q.h(0)\n",
    "    return Q\n",
    "        "
   ]
  },
  {
   "cell_type": "code",
   "execution_count": 17,
   "metadata": {
    "ExecuteTime": {
     "end_time": "2021-04-05T08:51:48.892231Z",
     "start_time": "2021-04-05T08:51:48.875960Z"
    }
   },
   "outputs": [],
   "source": [
    "def encoded_qubits(alice_bits,alice_bases):\n",
    "    '''Encoded qubits : returns a list of QuantumCircuits with \n",
    "                         each QuantumCircuit representing a qubit'''\n",
    "    encoded = []\n",
    "    for i,k in zip(alice_bits,alice_bases):\n",
    "        \n",
    "#         print(\" Alice bit :\",i,\"Basis :\",k)\n",
    "\n",
    "        if(i == '0' and k == '0'):\n",
    "            # encoding is + and qubit would be |0>\n",
    "            q = generate_zqubit(i)\n",
    "        if(i == '1' and k == '0'):\n",
    "            # encoding is + and qubit would be |1> \n",
    "            q = generate_zqubit(i)\n",
    "        if(i == '0' and k == '1'):\n",
    "            # encoding is x and qubit would be |+>\n",
    "            q = generate_xqubit(i) \n",
    "        if(i == '1' and k == '1'):\n",
    "            q = generate_xqubit(i)\n",
    "#         display(q.draw('mpl'))\n",
    "        # now append the qubit in the channel \n",
    "        encoded.append(q)\n",
    "    \n",
    "    return encoded  \n",
    "    "
   ]
  },
  {
   "cell_type": "code",
   "execution_count": 18,
   "metadata": {
    "ExecuteTime": {
     "end_time": "2021-04-05T08:51:55.940758Z",
     "start_time": "2021-04-05T08:51:55.887189Z"
    }
   },
   "outputs": [],
   "source": [
    "encoded_alice_bits = encoded_qubits(alice_bits,alice_bases)"
   ]
  },
  {
   "cell_type": "markdown",
   "metadata": {},
   "source": [
    "## Step4 : All alice\n",
    "- Send the qubits that you have to the **q_channel** \n",
    "- These qubits are just assigned to the quantum channel"
   ]
  },
  {
   "cell_type": "code",
   "execution_count": 19,
   "metadata": {
    "ExecuteTime": {
     "end_time": "2021-04-05T08:52:31.309987Z",
     "start_time": "2021-04-05T08:52:29.192417Z"
    }
   },
   "outputs": [
    {
     "data": {
      "image/png": "[encoded data removed]",
      "text/plain": [
       "<Figure size 193.726x144.48 with 1 Axes>"
      ]
     },
     "metadata": {},
     "output_type": "display_data"
    },
    {
     "data": {
      "image/png": "[encoded data removed]",
      "text/plain": [
       "<Figure size 193.726x144.48 with 1 Axes>"
      ]
     },
     "metadata": {},
     "output_type": "display_data"
    },
    {
     "data": {
      "image/png": "[encoded data removed]",
      "text/plain": [
       "<Figure size 73.326x144.48 with 1 Axes>"
      ]
     },
     "metadata": {},
     "output_type": "display_data"
    },
    {
     "data": {
      "image/png": "[encoded data removed]",
      "text/plain": [
       "<Figure size 133.526x144.48 with 1 Axes>"
      ]
     },
     "metadata": {},
     "output_type": "display_data"
    },
    {
     "data": {
      "image/png": "[encoded data removed]",
      "text/plain": [
       "<Figure size 73.326x144.48 with 1 Axes>"
      ]
     },
     "metadata": {},
     "output_type": "display_data"
    },
    {
     "data": {
      "image/png": "[encoded data removed]",
      "text/plain": [
       "<Figure size 133.526x144.48 with 1 Axes>"
      ]
     },
     "metadata": {},
     "output_type": "display_data"
    },
    {
     "data": {
      "image/png": "[encoded data removed]",
      "text/plain": [
       "<Figure size 73.326x144.48 with 1 Axes>"
      ]
     },
     "metadata": {},
     "output_type": "display_data"
    }
   ],
   "source": [
    "q_channel = encoded_alice_bits\n",
    "for k in q_channel[:7]:\n",
    "    display(k.draw('mpl'))"
   ]
  },
  {
   "cell_type": "markdown",
   "metadata": {},
   "source": [
    "## EVE intercepts\n",
    "\n",
    "## E1. Eve selects bases"
   ]
  },
  {
   "cell_type": "code",
   "execution_count": 20,
   "metadata": {
    "ExecuteTime": {
     "end_time": "2021-04-05T08:53:04.109025Z",
     "start_time": "2021-04-05T08:53:04.094063Z"
    }
   },
   "outputs": [],
   "source": [
    "def select_eve_bases(length):\n",
    "    eve_bases = \"\"\n",
    "    for _ in range(length):\n",
    "        b = getrandbits(1)\n",
    "        eve_bases+=(str(b))\n",
    "    \n",
    "    return eve_bases"
   ]
  },
  {
   "cell_type": "code",
   "execution_count": 21,
   "metadata": {
    "ExecuteTime": {
     "end_time": "2021-04-05T08:54:31.477349Z",
     "start_time": "2021-04-05T08:54:31.460085Z"
    }
   },
   "outputs": [
    {
     "name": "stdout",
     "output_type": "stream",
     "text": [
      "First 20 random bases that Eve selected : 10100101101110001101\n"
     ]
    }
   ],
   "source": [
    "eve_bases = select_eve_bases(length_key)\n",
    "print(\"First 20 random bases that Eve selected :\",eve_bases[:20])"
   ]
  },
  {
   "cell_type": "markdown",
   "metadata": {},
   "source": [
    "## E2. Eve intercepts the Channel"
   ]
  },
  {
   "cell_type": "code",
   "execution_count": 22,
   "metadata": {
    "ExecuteTime": {
     "end_time": "2021-04-05T08:55:21.586006Z",
     "start_time": "2021-04-05T08:55:21.568304Z"
    }
   },
   "outputs": [],
   "source": [
    "def measure_eve(eve_bases,encoded_qubits,backend):\n",
    "    # Eve would perform a measurement on the recieved state in the quantum channel \n",
    "    \n",
    "    eves_bitstring = \"\"\n",
    "    \n",
    "    for i in range(len(eve_bases)):\n",
    "        b = eve_bases[i]\n",
    "        q = encoded_qubits[i]\n",
    "        \n",
    "        # see which basis did Eve select\n",
    "        if b == '0':\n",
    "            # means Eve chose Z basis \n",
    "            q.measure(0,0)\n",
    "        else:\n",
    "            # means Eve chose the X basis\n",
    "            # applying a hadamard transform to measure in the x basis\n",
    "            q.h(0)\n",
    "            q.measure(0,0)\n",
    "            \n",
    "        counts = execute(q,backend=backend,shots=1).result().get_counts()\n",
    "        # get the counts of values measured\n",
    "        measure_bit = max(counts, key = counts.get) \n",
    "        eves_bitstring+= str(measure_bit)\n",
    "    \n",
    "    return eves_bitstring\n",
    "            "
   ]
  },
  {
   "cell_type": "code",
   "execution_count": 23,
   "metadata": {
    "ExecuteTime": {
     "end_time": "2021-04-05T08:55:39.570671Z",
     "start_time": "2021-04-05T08:55:36.622752Z"
    }
   },
   "outputs": [
    {
     "name": "stdout",
     "output_type": "stream",
     "text": [
      "Eve measured : 110000000100100011110010110111 ...\n"
     ]
    }
   ],
   "source": [
    "backend = Aer.get_backend('qasm_simulator')\n",
    "eve_bits = measure_eve(eve_bases,q_channel,backend)\n",
    "print(\"Eve measured :\",eve_bits[:30],\"...\")"
   ]
  },
  {
   "cell_type": "markdown",
   "metadata": {},
   "source": [
    "## E3. Now Eve encodes"
   ]
  },
  {
   "cell_type": "code",
   "execution_count": 24,
   "metadata": {
    "ExecuteTime": {
     "end_time": "2021-04-05T08:56:00.861169Z",
     "start_time": "2021-04-05T08:56:00.849022Z"
    }
   },
   "outputs": [],
   "source": [
    "def encode_eve(eve_bitstring, eve_bases):\n",
    "    # encode the bit string that you measured \n",
    "    encoded_bits = []\n",
    "    for i in range(len(eve_bases)):\n",
    "        bit = eve_bitstring[i]\n",
    "        base = eve_bases[i]\n",
    "        # check the base\n",
    "        if(base == '0'): # z basis\n",
    "            q = generate_zqubit(bit)\n",
    "        else: # x basis\n",
    "            q = generate_xqubit(bit)\n",
    "        # append qubit to channel\n",
    "        encoded_bits.append(q)\n",
    "    \n",
    "    return encoded_bits\n"
   ]
  },
  {
   "cell_type": "code",
   "execution_count": 25,
   "metadata": {
    "ExecuteTime": {
     "end_time": "2021-04-05T08:56:11.866795Z",
     "start_time": "2021-04-05T08:56:11.813855Z"
    }
   },
   "outputs": [],
   "source": [
    "encoded_eve_bits = encode_eve(eve_bits,eve_bases)\n",
    "q_channel = encoded_eve_bits"
   ]
  },
  {
   "cell_type": "code",
   "execution_count": 26,
   "metadata": {
    "ExecuteTime": {
     "end_time": "2021-04-05T08:56:17.570939Z",
     "start_time": "2021-04-05T08:56:17.562901Z"
    }
   },
   "outputs": [
    {
     "name": "stdout",
     "output_type": "stream",
     "text": [
      "Eve intercepted, Let us see what Bob does now\n"
     ]
    }
   ],
   "source": [
    "print(\"Eve intercepted, Let us see what Bob does now\")"
   ]
  },
  {
   "cell_type": "markdown",
   "metadata": {},
   "source": [
    "## Step5 : Bob Measures\n",
    "- Bob now has to measure the qubits in the **RANDOM BASES THAT HE CHOSE IN PART 2**\n",
    "- Note : At the end of the measurement at Bob's end, **he does not have the key, just HIS MEASUREMENTS**\n",
    "\n",
    "### SHOTS = 1 is important for simulation"
   ]
  },
  {
   "cell_type": "code",
   "execution_count": 27,
   "metadata": {
    "ExecuteTime": {
     "end_time": "2021-04-05T08:56:37.470286Z",
     "start_time": "2021-04-05T08:56:37.450276Z"
    }
   },
   "outputs": [],
   "source": [
    "def measure_key(bob_bases, encoded_qubits,backend):\n",
    "    # Perform the measurement on the qubits you recieved from Alice\n",
    "    \n",
    "    # This is because Bob is going to need to measure the qubit he \n",
    "    # has recieved \n",
    "    \n",
    "    # Bob's bases need not be the same as the bases of Alice\n",
    "    \n",
    "    bob_bitstring = \"\"\n",
    "    for i,k in zip(bob_bases,encoded_qubits):\n",
    "        if i == '0':\n",
    "            # bob chose the Z basis\n",
    "            k.measure(0,0)\n",
    "        else:\n",
    "            # bob chose the x basis\n",
    "            k.h(0) # why? because this is going to bring our |+> as a |0> # and it is going to bring |-> into |1>\n",
    "            k.measure(0,0) \n",
    "        \n",
    "        counts = execute(k,backend=backend,shots= 1).result().get_counts()\n",
    "        \n",
    "        # max with a key is just a max function which gets the key with the maximum value\n",
    "        measure_bit = max(counts, key = counts.get) \n",
    "        bob_bitstring += str(measure_bit)\n",
    "    \n",
    "    return bob_bitstring\n",
    "            "
   ]
  },
  {
   "cell_type": "code",
   "execution_count": 28,
   "metadata": {
    "ExecuteTime": {
     "end_time": "2021-04-05T08:56:46.546747Z",
     "start_time": "2021-04-05T08:56:44.268119Z"
    }
   },
   "outputs": [],
   "source": [
    "sim_backend = Aer.get_backend('qasm_simulator')\n",
    "bob_string = measure_key(bob_bases,q_channel,sim_backend)"
   ]
  },
  {
   "cell_type": "code",
   "execution_count": 29,
   "metadata": {
    "ExecuteTime": {
     "end_time": "2021-04-05T08:56:54.317292Z",
     "start_time": "2021-04-05T08:56:54.309726Z"
    }
   },
   "outputs": [
    {
     "data": {
      "text/plain": [
       "'1100000001001000011100111101111010100010100111001011010101100010000111010101101110111111100010011101'"
      ]
     },
     "execution_count": 29,
     "metadata": {},
     "output_type": "execute_result"
    }
   ],
   "source": [
    "bob_string[:100]"
   ]
  },
  {
   "cell_type": "code",
   "execution_count": 30,
   "metadata": {
    "ExecuteTime": {
     "end_time": "2021-04-05T08:57:01.879212Z",
     "start_time": "2021-04-05T08:57:01.869189Z"
    }
   },
   "outputs": [
    {
     "data": {
      "text/plain": [
       "False"
      ]
     },
     "execution_count": 30,
     "metadata": {},
     "output_type": "execute_result"
    }
   ],
   "source": [
    "alice_bits == bob_string"
   ]
  },
  {
   "cell_type": "markdown",
   "metadata": {},
   "source": [
    "## The above reasoning justifies that this result as Eve did intercept the call."
   ]
  },
  {
   "cell_type": "code",
   "execution_count": null,
   "metadata": {},
   "outputs": [],
   "source": []
  }
 ],
 "metadata": {
  "kernelspec": {
   "display_name": "Python 3",
   "language": "python",
   "name": "python3"
  },
  "language_info": {
   "codemirror_mode": {
    "name": "ipython",
    "version": 3
   },
   "file_extension": ".py",
   "mimetype": "text/x-python",
   "name": "python",
   "nbconvert_exporter": "python",
   "pygments_lexer": "ipython3",
   "version": "3.7.4"
  },
  "varInspector": {
   "cols": {
    "lenName": 16,
    "lenType": 16,
    "lenVar": 40
   },
   "kernels_config": {
    "python": {
     "delete_cmd_postfix": "",
     "delete_cmd_prefix": "del ",
     "library": "var_list.py",
     "varRefreshCmd": "print(var_dic_list())"
    },
    "r": {
     "delete_cmd_postfix": ") ",
     "delete_cmd_prefix": "rm(",
     "library": "var_list.r",
     "varRefreshCmd": "cat(var_dic_list()) "
    }
   },
   "types_to_exclude": [
    "module",
    "function",
    "builtin_function_or_method",
    "instance",
    "_Feature"
   ],
   "window_display": false
  }
 },
 "nbformat": 4,
 "nbformat_minor": 2
}
