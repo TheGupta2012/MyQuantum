{
 "cells": [
  {
   "cell_type": "markdown",
   "metadata": {},
   "source": [
    "## My Lab 19 \n",
    "- Quantum Key ditribution for this lab \n",
    "- **OBJECTIVES** : Generating random keys and sending it over through simulation"
   ]
  },
  {
   "cell_type": "code",
   "execution_count": 2,
   "metadata": {
    "ExecuteTime": {
     "end_time": "2021-03-16T12:45:12.665268Z",
     "start_time": "2021-03-16T12:45:12.658216Z"
    }
   },
   "outputs": [],
   "source": [
    "import numpy as np \n",
    "from qiskit import * \n",
    "import random"
   ]
  },
  {
   "cell_type": "markdown",
   "metadata": {},
   "source": [
    "### Generating Random Bits\n",
    "- WHY? Because Alice and Bob need to generate random bits to generate a KEY.\n",
    "- `getrandbits(n)` gives an **n - bit** random number\n",
    "- These random numbers are **pseudo random**\n",
    "- Can also use **quantum_states** to generate truly random numbers"
   ]
  },
  {
   "cell_type": "code",
   "execution_count": 38,
   "metadata": {
    "ExecuteTime": {
     "end_time": "2021-03-16T12:51:50.915410Z",
     "start_time": "2021-03-16T12:51:50.907814Z"
    }
   },
   "outputs": [
    {
     "name": "stdout",
     "output_type": "stream",
     "text": [
      "Random Key is : 50\n"
     ]
    }
   ],
   "source": [
    "rand_key = bin(random.getrandbits(50))\n",
    "print(\"Random Key is :\",len(rand_key))"
   ]
  },
  {
   "cell_type": "markdown",
   "metadata": {},
   "source": [
    "### Appending Strings\n",
    "- We generate keys in **python** by generating **1 random bit** and then append it to the key that we have for Alice"
   ]
  },
  {
   "cell_type": "code",
   "execution_count": 33,
   "metadata": {
    "ExecuteTime": {
     "end_time": "2021-03-16T12:51:41.147848Z",
     "start_time": "2021-03-16T12:51:41.138844Z"
    }
   },
   "outputs": [
    {
     "name": "stdout",
     "output_type": "stream",
     "text": [
      "0100110011010001001001100111000001100100\n",
      "Length of key : 40\n"
     ]
    }
   ],
   "source": [
    "alice_key = \"\"\n",
    "for _ in range(40):\n",
    "    alice_key += str(random.getrandbits(1))\n",
    "print(alice_key)\n",
    "print(\"Length of key :\",len(alice_key))"
   ]
  },
  {
   "cell_type": "markdown",
   "metadata": {},
   "source": [
    "### Appending to Lists\n",
    "- Store the list of qubits that Alice sends to Bob\n",
    "- Alice generates **list of qubits one-by-one**"
   ]
  },
  {
   "cell_type": "markdown",
   "metadata": {},
   "source": [
    "### Functions to create the qubits\n",
    "- The qubits are produced inside a function and thus help in reducing repetition of creating the qubits"
   ]
  },
  {
   "cell_type": "markdown",
   "metadata": {},
   "source": [
    "# Quantum Key Ditribution\n",
    "- **KEY** : It is important for the sender and reciever to communicate through a KEY, something secret that is only known to them. KEY is used for encoding and decoding messages that are sent\n",
    "\n",
    "- QKD allows us to establish a shared key which is RANDOM.\n",
    "- Both have the same sequence of **0s and 1s**\n",
    "- Alice and Bob **DON'T HAVE TO MEET EACH OTHER EVEN ONCE**\n",
    "- This key is STILL TRANSFERRED SECRETLY.\n",
    "\n",
    "### GOAL \n",
    "- To **ESTABLISH A CONNECTION WITH A SECRET and RANDOM KEY**\n",
    "- This is a **symmetric key distribution**\n",
    "\n",
    "# This is a 100% secure key distribution technique\n",
    "\n",
    "### It employs quantum mechanics to get the knowledge about whether your key was tampered with or not\n"
   ]
  },
  {
   "cell_type": "markdown",
   "metadata": {},
   "source": [
    "- Note : the information being transferred is just **CLASSICAL** but **KEY BEING TRANSFERRED IS TRANSFERRED THROUGH A QUANTUM CHANNEL**"
   ]
  },
  {
   "cell_type": "markdown",
   "metadata": {},
   "source": [
    "# STEPS"
   ]
  },
  {
   "cell_type": "markdown",
   "metadata": {},
   "source": [
    "## Step1 and Step2\n",
    "- Alice randomly selects a basis for each qubit : **(+ / x)**\n",
    "- Bob selects a random basis for each of the qubits : **(+ / x)**"
   ]
  },
  {
   "cell_type": "markdown",
   "metadata": {},
   "source": [
    "## Step3\n",
    "- Alice encodes her QUBITS ACCORDING TO THE BASES SHE CHOSE"
   ]
  },
  {
   "cell_type": "markdown",
   "metadata": {},
   "source": [
    "## LET'S START!!"
   ]
  },
  {
   "cell_type": "code",
   "execution_count": 62,
   "metadata": {
    "ExecuteTime": {
     "end_time": "2021-03-16T13:46:18.324829Z",
     "start_time": "2021-03-16T13:46:18.318782Z"
    }
   },
   "outputs": [],
   "source": [
    "from qiskit import * \n",
    "from random import getrandbits"
   ]
  },
  {
   "cell_type": "markdown",
   "metadata": {},
   "source": [
    "### Pre - Knowledge \n",
    "- **You need to establish the length of the KEY**\n",
    "- Here -> **KEY : 500 bits**\n",
    "- Also we have a quantum and a classical channel"
   ]
  },
  {
   "cell_type": "code",
   "execution_count": 63,
   "metadata": {
    "ExecuteTime": {
     "end_time": "2021-03-16T13:46:20.138325Z",
     "start_time": "2021-03-16T13:46:20.133486Z"
    }
   },
   "outputs": [],
   "source": [
    "length_key = 20\n",
    "q_channel = []\n",
    "c_channel = []\n"
   ]
  },
  {
   "cell_type": "markdown",
   "metadata": {},
   "source": [
    "## Step1 : Alice selects bit-string and bases\n",
    "- Generate 500 bits that are random \n",
    "- Then generate another 500 bits to specify the **basis**"
   ]
  },
  {
   "cell_type": "code",
   "execution_count": 64,
   "metadata": {
    "ExecuteTime": {
     "end_time": "2021-03-16T13:46:24.261379Z",
     "start_time": "2021-03-16T13:46:24.253491Z"
    }
   },
   "outputs": [],
   "source": [
    "def select_encoding(length):\n",
    "    # To store the random 0 / 1\n",
    "    alice_bits = \"\"\n",
    "    # to store the random vertical or diagonal bases \n",
    "    alice_bases = \"\"\n",
    "    \n",
    "    for _ in range(length):\n",
    "        # just use randbits and append to the end of the string\n",
    "        alice_bits += str(getrandbits(1))\n",
    "        alice_bases += str(getrandbits(1))\n",
    "        \n",
    "    return alice_bits, alice_bases"
   ]
  },
  {
   "cell_type": "code",
   "execution_count": 65,
   "metadata": {
    "ExecuteTime": {
     "end_time": "2021-03-16T13:46:32.588069Z",
     "start_time": "2021-03-16T13:46:32.579408Z"
    }
   },
   "outputs": [
    {
     "name": "stdout",
     "output_type": "stream",
     "text": [
      "Alice's bits : 10110010010001111101 \n",
      "\n",
      "Alice's basis string : 10000001111100011001\n"
     ]
    }
   ],
   "source": [
    "alice_bits, alice_bases = select_encoding(length_key)\n",
    "print(\"Alice's bits :\",alice_bits,\"\\n\")\n",
    "print(\"Alice's basis string :\",alice_bases)"
   ]
  },
  {
   "cell_type": "markdown",
   "metadata": {},
   "source": [
    "## Step2 : Bob selects bases\n",
    "- BOB NEEDS TO SELECT **only bases**\n",
    "- Why? **BOB ONLY SELECTS THE BASES IN WHICH HE NEEDS TO MEASURE**"
   ]
  },
  {
   "cell_type": "code",
   "execution_count": 66,
   "metadata": {
    "ExecuteTime": {
     "end_time": "2021-03-16T13:46:47.902479Z",
     "start_time": "2021-03-16T13:46:47.896604Z"
    }
   },
   "outputs": [],
   "source": [
    "def select_bob_measurement(length):\n",
    "    bob_bases = \"\"\n",
    "    # bob selects the bases in which he wants to measure\n",
    "    for _ in range(length):\n",
    "        bob_bases += str(getrandbits(1))\n",
    "        \n",
    "    return bob_bases"
   ]
  },
  {
   "cell_type": "code",
   "execution_count": 67,
   "metadata": {
    "ExecuteTime": {
     "end_time": "2021-03-16T13:46:49.798324Z",
     "start_time": "2021-03-16T13:46:49.792340Z"
    }
   },
   "outputs": [
    {
     "name": "stdout",
     "output_type": "stream",
     "text": [
      "Bob's string: 10110010001011111000\n"
     ]
    }
   ],
   "source": [
    "bob_bases = select_bob_measurement(length_key)\n",
    "print(\"Bob's string:\",bob_bases[:30])"
   ]
  },
  {
   "cell_type": "markdown",
   "metadata": {},
   "source": [
    "<a id=\"step3\"></a>\n",
    "## 2.3. Step 3: Encode : All alice\n",
    "\n",
    "Alice now uses her random list of numbers to generate a bunch of quantum states:\n",
    "In this excercise we are going to represent the creation of a qubit as an individual `QuantumCircuit` object.\n",
    "\n",
    "The table below summarizes the qubit states Alice sends, based on the bit of Alice's `alice_bitstring` the corresponding bit of `selected_bases`:\n",
    "\n",
    "| Bit in Alice's `alice_bitstring` | Corresponding bit in `selected_bases` | Encoding basis | Qubit state sent |\n",
    "|:----------------:|:--------------------------:|:--------------------------:|:---------------:|\n",
    "| 0 | 0 | $$|0\\rangle,|1\\rangle$$ |$$|0\\rangle$$ |\n",
    "| 0 | 1 | $$|+\\rangle,|-\\rangle$$ |$$|+\\rangle$$ |\n",
    "| 1 | 0 | $$|0\\rangle,|1\\rangle$$ |$$|1\\rangle$$ |\n",
    "| 1 | 1 | $$|+\\rangle,|-\\rangle$$ |$$|-\\rangle$$ |"
   ]
  },
  {
   "cell_type": "code",
   "execution_count": 74,
   "metadata": {
    "ExecuteTime": {
     "end_time": "2021-03-16T13:50:28.189525Z",
     "start_time": "2021-03-16T13:50:28.178711Z"
    }
   },
   "outputs": [],
   "source": [
    "def generate_zqubit(q):\n",
    "    Q = QuantumCircuit(1)\n",
    "    if(int(q) == 1):\n",
    "        Q.x(0)\n",
    "    return Q\n",
    "    \n",
    "def generate_xqubit(q):\n",
    "    Q = QuantumCircuit(1)\n",
    "    if(int(q) == 0):\n",
    "        Q.h(0)\n",
    "    else:\n",
    "        Q.x(0)\n",
    "        Q.h(0)\n",
    "    return Q\n",
    "        "
   ]
  },
  {
   "cell_type": "code",
   "execution_count": 75,
   "metadata": {
    "ExecuteTime": {
     "end_time": "2021-03-16T13:50:28.797344Z",
     "start_time": "2021-03-16T13:50:28.786278Z"
    }
   },
   "outputs": [],
   "source": [
    "def encoded_qubits(alice_bits,alice_bases):\n",
    "    encoded = []\n",
    "    for i,k in zip(alice_bits,alice_bases):\n",
    "        \n",
    "        print(\" Alice bit :\",i,\"Basis :\",k)\n",
    "\n",
    "        if(i == '0' and k == '0'):\n",
    "            # encoding is + and qubit would be |0>\n",
    "            q = generate_zqubit(i)\n",
    "        if(i == '1' and k == '0'):\n",
    "            # encoding is + and qubit would be |1> \n",
    "            q = generate_zqubit(i)\n",
    "        if(i == '0' and k == '1'):\n",
    "            # encoding is x and qubit would be |+>\n",
    "            q = generate_xqubit(i) \n",
    "        if(i == '1' and k == '1'):\n",
    "            q = generate_xqubit(i)\n",
    "        display(q.draw('mpl'))\n",
    "        # now append the qubit in the channel \n",
    "        encoded.append(q)\n",
    "    \n",
    "    return encoded  \n",
    "    "
   ]
  },
  {
   "cell_type": "code",
   "execution_count": 76,
   "metadata": {
    "ExecuteTime": {
     "end_time": "2021-03-16T13:50:34.295347Z",
     "start_time": "2021-03-16T13:50:29.697642Z"
    },
    "scrolled": false
   },
   "outputs": [
    {
     "name": "stdout",
     "output_type": "stream",
     "text": [
      " Alice bit : 1 Basis : 1\n"
     ]
    },
    {
     "data": {
      "image/png": "[encoded data removed]",
      "text/plain": [
       "<Figure size 193.726x84.28 with 1 Axes>"
      ]
     },
     "metadata": {},
     "output_type": "display_data"
    },
    {
     "name": "stdout",
     "output_type": "stream",
     "text": [
      " Alice bit : 0 Basis : 0\n"
     ]
    },
    {
     "data": {
      "image/png": "[encoded data removed]",
      "text/plain": [
       "<Figure size 73.326x84.28 with 1 Axes>"
      ]
     },
     "metadata": {},
     "output_type": "display_data"
    },
    {
     "name": "stdout",
     "output_type": "stream",
     "text": [
      " Alice bit : 1 Basis : 0\n"
     ]
    },
    {
     "data": {
      "image/png": "[encoded data removed]",
      "text/plain": [
       "<Figure size 133.526x84.28 with 1 Axes>"
      ]
     },
     "metadata": {},
     "output_type": "display_data"
    },
    {
     "name": "stdout",
     "output_type": "stream",
     "text": [
      " Alice bit : 1 Basis : 0\n"
     ]
    },
    {
     "data": {
      "image/png": "[encoded data removed]",
      "text/plain": [
       "<Figure size 133.526x84.28 with 1 Axes>"
      ]
     },
     "metadata": {},
     "output_type": "display_data"
    },
    {
     "name": "stdout",
     "output_type": "stream",
     "text": [
      " Alice bit : 0 Basis : 0\n"
     ]
    },
    {
     "data": {
      "image/png": "[encoded data removed]",
      "text/plain": [
       "<Figure size 73.326x84.28 with 1 Axes>"
      ]
     },
     "metadata": {},
     "output_type": "display_data"
    },
    {
     "name": "stdout",
     "output_type": "stream",
     "text": [
      " Alice bit : 0 Basis : 0\n"
     ]
    },
    {
     "data": {
      "image/png": "[encoded data removed]",
      "text/plain": [
       "<Figure size 73.326x84.28 with 1 Axes>"
      ]
     },
     "metadata": {},
     "output_type": "display_data"
    },
    {
     "name": "stdout",
     "output_type": "stream",
     "text": [
      " Alice bit : 1 Basis : 0\n"
     ]
    },
    {
     "data": {
      "image/png": "[encoded data removed]",
      "text/plain": [
       "<Figure size 133.526x84.28 with 1 Axes>"
      ]
     },
     "metadata": {},
     "output_type": "display_data"
    },
    {
     "name": "stdout",
     "output_type": "stream",
     "text": [
      " Alice bit : 0 Basis : 1\n"
     ]
    },
    {
     "data": {
      "image/png": "[encoded data removed]",
      "text/plain": [
       "<Figure size 133.526x84.28 with 1 Axes>"
      ]
     },
     "metadata": {},
     "output_type": "display_data"
    },
    {
     "name": "stdout",
     "output_type": "stream",
     "text": [
      " Alice bit : 0 Basis : 1\n"
     ]
    },
    {
     "data": {
      "image/png": "[encoded data removed]",
      "text/plain": [
       "<Figure size 133.526x84.28 with 1 Axes>"
      ]
     },
     "metadata": {},
     "output_type": "display_data"
    },
    {
     "name": "stdout",
     "output_type": "stream",
     "text": [
      " Alice bit : 1 Basis : 1\n"
     ]
    },
    {
     "data": {
      "image/png": "[encoded data removed]",
      "text/plain": [
       "<Figure size 193.726x84.28 with 1 Axes>"
      ]
     },
     "metadata": {},
     "output_type": "display_data"
    },
    {
     "name": "stdout",
     "output_type": "stream",
     "text": [
      " Alice bit : 0 Basis : 1\n"
     ]
    },
    {
     "data": {
      "image/png": "[encoded data removed]",
      "text/plain": [
       "<Figure size 133.526x84.28 with 1 Axes>"
      ]
     },
     "metadata": {},
     "output_type": "display_data"
    },
    {
     "name": "stdout",
     "output_type": "stream",
     "text": [
      " Alice bit : 0 Basis : 1\n"
     ]
    },
    {
     "data": {
      "image/png": "[encoded data removed]",
      "text/plain": [
       "<Figure size 133.526x84.28 with 1 Axes>"
      ]
     },
     "metadata": {},
     "output_type": "display_data"
    },
    {
     "name": "stdout",
     "output_type": "stream",
     "text": [
      " Alice bit : 0 Basis : 0\n"
     ]
    },
    {
     "data": {
      "image/png": "[encoded data removed]",
      "text/plain": [
       "<Figure size 73.326x84.28 with 1 Axes>"
      ]
     },
     "metadata": {},
     "output_type": "display_data"
    },
    {
     "name": "stdout",
     "output_type": "stream",
     "text": [
      " Alice bit : 1 Basis : 0\n"
     ]
    },
    {
     "data": {
      "image/png": "[encoded data removed]",
      "text/plain": [
       "<Figure size 133.526x84.28 with 1 Axes>"
      ]
     },
     "metadata": {},
     "output_type": "display_data"
    },
    {
     "name": "stdout",
     "output_type": "stream",
     "text": [
      " Alice bit : 1 Basis : 0\n"
     ]
    },
    {
     "data": {
      "image/png": "[encoded data removed]",
      "text/plain": [
       "<Figure size 133.526x84.28 with 1 Axes>"
      ]
     },
     "metadata": {},
     "output_type": "display_data"
    },
    {
     "name": "stdout",
     "output_type": "stream",
     "text": [
      " Alice bit : 1 Basis : 1\n"
     ]
    },
    {
     "data": {
      "image/png": "[encoded data removed]",
      "text/plain": [
       "<Figure size 193.726x84.28 with 1 Axes>"
      ]
     },
     "metadata": {},
     "output_type": "display_data"
    },
    {
     "name": "stdout",
     "output_type": "stream",
     "text": [
      " Alice bit : 1 Basis : 1\n"
     ]
    },
    {
     "data": {
      "image/png": "[encoded data removed]",
      "text/plain": [
       "<Figure size 193.726x84.28 with 1 Axes>"
      ]
     },
     "metadata": {},
     "output_type": "display_data"
    },
    {
     "name": "stdout",
     "output_type": "stream",
     "text": [
      " Alice bit : 1 Basis : 0\n"
     ]
    },
    {
     "data": {
      "image/png": "[encoded data removed]",
      "text/plain": [
       "<Figure size 133.526x84.28 with 1 Axes>"
      ]
     },
     "metadata": {},
     "output_type": "display_data"
    },
    {
     "name": "stdout",
     "output_type": "stream",
     "text": [
      " Alice bit : 0 Basis : 0\n"
     ]
    },
    {
     "data": {
      "image/png": "[encoded data removed]",
      "text/plain": [
       "<Figure size 73.326x84.28 with 1 Axes>"
      ]
     },
     "metadata": {},
     "output_type": "display_data"
    },
    {
     "name": "stdout",
     "output_type": "stream",
     "text": [
      " Alice bit : 1 Basis : 1\n"
     ]
    },
    {
     "data": {
      "image/png": "[encoded data removed]",
      "text/plain": [
       "<Figure size 193.726x84.28 with 1 Axes>"
      ]
     },
     "metadata": {},
     "output_type": "display_data"
    }
   ],
   "source": [
    "encoded_alice_bits = encoded_qubits(alice_bits,alice_bases)"
   ]
  },
  {
   "cell_type": "markdown",
   "metadata": {},
   "source": [
    "## Step4 : All alice\n",
    "- Send the qubits that you have to the **q_channel** \n",
    "- These qubits are just assigned to the quantum channel"
   ]
  },
  {
   "cell_type": "code",
   "execution_count": 73,
   "metadata": {
    "ExecuteTime": {
     "end_time": "2021-03-16T13:48:50.351711Z",
     "start_time": "2021-03-16T13:48:50.347751Z"
    }
   },
   "outputs": [],
   "source": [
    "q_channel = encoded_qubits"
   ]
  },
  {
   "cell_type": "markdown",
   "metadata": {},
   "source": [
    "## Step5 : Bob Measures\n",
    "\n",
    "### //to do"
   ]
  },
  {
   "cell_type": "code",
   "execution_count": null,
   "metadata": {},
   "outputs": [],
   "source": []
  },
  {
   "cell_type": "code",
   "execution_count": null,
   "metadata": {},
   "outputs": [],
   "source": []
  },
  {
   "cell_type": "code",
   "execution_count": null,
   "metadata": {},
   "outputs": [],
   "source": []
  },
  {
   "cell_type": "code",
   "execution_count": null,
   "metadata": {},
   "outputs": [],
   "source": []
  },
  {
   "cell_type": "code",
   "execution_count": null,
   "metadata": {},
   "outputs": [],
   "source": []
  },
  {
   "cell_type": "code",
   "execution_count": null,
   "metadata": {},
   "outputs": [],
   "source": []
  },
  {
   "cell_type": "code",
   "execution_count": null,
   "metadata": {},
   "outputs": [],
   "source": []
  },
  {
   "cell_type": "markdown",
   "metadata": {},
   "source": []
  }
 ],
 "metadata": {
  "kernelspec": {
   "display_name": "Python 3",
   "language": "python",
   "name": "python3"
  },
  "language_info": {
   "codemirror_mode": {
    "name": "ipython",
    "version": 3
   },
   "file_extension": ".py",
   "mimetype": "text/x-python",
   "name": "python",
   "nbconvert_exporter": "python",
   "pygments_lexer": "ipython3",
   "version": "3.7.4"
  },
  "varInspector": {
   "cols": {
    "lenName": 16,
    "lenType": 16,
    "lenVar": 40
   },
   "kernels_config": {
    "python": {
     "delete_cmd_postfix": "",
     "delete_cmd_prefix": "del ",
     "library": "var_list.py",
     "varRefreshCmd": "print(var_dic_list())"
    },
    "r": {
     "delete_cmd_postfix": ") ",
     "delete_cmd_prefix": "rm(",
     "library": "var_list.r",
     "varRefreshCmd": "cat(var_dic_list()) "
    }
   },
   "types_to_exclude": [
    "module",
    "function",
    "builtin_function_or_method",
    "instance",
    "_Feature"
   ],
   "window_display": false
  }
 },
 "nbformat": 4,
 "nbformat_minor": 2
}
