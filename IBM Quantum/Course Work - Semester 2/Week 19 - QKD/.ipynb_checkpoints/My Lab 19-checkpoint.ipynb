{
 "cells": [
  {
   "cell_type": "markdown",
   "metadata": {},
   "source": [
    "## My Lab 19 \n",
    "- Quantum Key ditribution for this lab \n",
    "- **OBJECTIVES** : Generating random keys and sending it over through simulation"
   ]
  },
  {
   "cell_type": "code",
   "execution_count": 1,
   "metadata": {
    "ExecuteTime": {
     "end_time": "2021-03-19T16:15:01.869880Z",
     "start_time": "2021-03-19T16:14:25.906466Z"
    }
   },
   "outputs": [],
   "source": [
    "import numpy as np \n",
    "from qiskit import * \n",
    "import random"
   ]
  },
  {
   "cell_type": "markdown",
   "metadata": {},
   "source": [
    "### Generating Random Bits\n",
    "- WHY? Because Alice and Bob need to generate random bits to generate a KEY.\n",
    "- `getrandbits(n)` gives an **n - bit** random number\n",
    "- These random numbers are **pseudo random**\n",
    "- Can also use **quantum_states** to generate truly random numbers"
   ]
  },
  {
   "cell_type": "code",
   "execution_count": 2,
   "metadata": {
    "ExecuteTime": {
     "end_time": "2021-03-19T16:15:01.884787Z",
     "start_time": "2021-03-19T16:15:01.879773Z"
    }
   },
   "outputs": [
    {
     "name": "stdout",
     "output_type": "stream",
     "text": [
      "Random Key is : 50\n"
     ]
    }
   ],
   "source": [
    "rand_key = bin(random.getrandbits(50))\n",
    "print(\"Random Key is :\",len(rand_key))"
   ]
  },
  {
   "cell_type": "markdown",
   "metadata": {},
   "source": [
    "### Appending Strings\n",
    "- We generate keys in **python** by generating **1 random bit** and then append it to the key that we have for Alice"
   ]
  },
  {
   "cell_type": "code",
   "execution_count": 3,
   "metadata": {
    "ExecuteTime": {
     "end_time": "2021-03-19T16:15:01.999456Z",
     "start_time": "2021-03-19T16:15:01.895731Z"
    }
   },
   "outputs": [
    {
     "name": "stdout",
     "output_type": "stream",
     "text": [
      "1100110100011101110111010001101110000101\n",
      "Length of key : 40\n"
     ]
    }
   ],
   "source": [
    "alice_key = \"\"\n",
    "for _ in range(40):\n",
    "    alice_key += str(random.getrandbits(1))\n",
    "print(alice_key)\n",
    "print(\"Length of key :\",len(alice_key))"
   ]
  },
  {
   "cell_type": "markdown",
   "metadata": {},
   "source": [
    "### Appending to Lists\n",
    "- Store the list of qubits that Alice sends to Bob\n",
    "- Alice generates **list of qubits one-by-one**"
   ]
  },
  {
   "cell_type": "markdown",
   "metadata": {},
   "source": [
    "### Functions to create the qubits\n",
    "- The qubits are produced inside a function and thus help in reducing repetition of creating the qubits"
   ]
  },
  {
   "cell_type": "markdown",
   "metadata": {},
   "source": [
    "# Quantum Key Ditribution\n",
    "- **KEY** : It is important for the sender and reciever to communicate through a KEY, something secret that is only known to them. KEY is used for encoding and decoding messages that are sent\n",
    "\n",
    "- QKD allows us to establish a shared key which is RANDOM.\n",
    "- Both have the same sequence of **0s and 1s**\n",
    "- Alice and Bob **DON'T HAVE TO MEET EACH OTHER EVEN ONCE**\n",
    "- This key is STILL TRANSFERRED SECRETLY.\n",
    "\n",
    "### GOAL \n",
    "- To **ESTABLISH A CONNECTION WITH A SECRET and RANDOM KEY**\n",
    "- This is a **symmetric key distribution**\n",
    "\n",
    "# This is a 100% secure key distribution technique\n",
    "\n",
    "### It employs quantum mechanics to get the knowledge about whether your key was tampered with or not\n"
   ]
  },
  {
   "cell_type": "markdown",
   "metadata": {},
   "source": [
    "- Note : the information being transferred is just **CLASSICAL** but **KEY BEING TRANSFERRED IS TRANSFERRED THROUGH A QUANTUM CHANNEL**"
   ]
  },
  {
   "cell_type": "markdown",
   "metadata": {},
   "source": [
    "# STEPS"
   ]
  },
  {
   "cell_type": "markdown",
   "metadata": {},
   "source": [
    "## Step1 and Step2\n",
    "- Alice randomly selects a basis for each qubit : **(+ / x)**\n",
    "- Bob selects a random basis for each of the qubits : **(+ / x)**"
   ]
  },
  {
   "cell_type": "markdown",
   "metadata": {},
   "source": [
    "## Step3\n",
    "- Alice encodes her QUBITS ACCORDING TO THE BASES SHE CHOSE"
   ]
  },
  {
   "cell_type": "markdown",
   "metadata": {},
   "source": [
    "## LET'S START!!"
   ]
  },
  {
   "cell_type": "code",
   "execution_count": 10,
   "metadata": {
    "ExecuteTime": {
     "end_time": "2021-03-19T16:15:17.173237Z",
     "start_time": "2021-03-19T16:15:17.169248Z"
    }
   },
   "outputs": [],
   "source": [
    "from qiskit import * \n",
    "from random import getrandbits"
   ]
  },
  {
   "cell_type": "markdown",
   "metadata": {},
   "source": [
    "### Pre - Knowledge \n",
    "- **You need to establish the length of the KEY**\n",
    "- Here -> **KEY : 500 bits**\n",
    "- Also we have a quantum and a classical channel"
   ]
  },
  {
   "cell_type": "code",
   "execution_count": 11,
   "metadata": {
    "ExecuteTime": {
     "end_time": "2021-03-19T16:15:17.571674Z",
     "start_time": "2021-03-19T16:15:17.567683Z"
    }
   },
   "outputs": [],
   "source": [
    "length_key = 200\n",
    "q_channel = []\n",
    "c_channel = []\n"
   ]
  },
  {
   "cell_type": "markdown",
   "metadata": {},
   "source": [
    "## Step1 : Alice selects bit-string and bases\n",
    "- Generate 500 bits that are random \n",
    "- Then generate another 500 bits to specify the **basis**"
   ]
  },
  {
   "cell_type": "code",
   "execution_count": 12,
   "metadata": {
    "ExecuteTime": {
     "end_time": "2021-03-19T16:15:18.354266Z",
     "start_time": "2021-03-19T16:15:18.350268Z"
    }
   },
   "outputs": [],
   "source": [
    "def select_encoding(length):\n",
    "    # To store the random 0 / 1\n",
    "    alice_bits = \"\"\n",
    "    # to store the random vertical or diagonal bases \n",
    "    alice_bases = \"\"\n",
    "    \n",
    "    for _ in range(length):\n",
    "        # just use randbits and append to the end of the string\n",
    "        alice_bits += str(getrandbits(1))\n",
    "        alice_bases += str(getrandbits(1))\n",
    "        \n",
    "    return alice_bits, alice_bases"
   ]
  },
  {
   "cell_type": "code",
   "execution_count": 13,
   "metadata": {
    "ExecuteTime": {
     "end_time": "2021-03-19T16:15:19.070707Z",
     "start_time": "2021-03-19T16:15:19.063720Z"
    }
   },
   "outputs": [
    {
     "name": "stdout",
     "output_type": "stream",
     "text": [
      "Alice's bits : 10111101101001011111 \n",
      "\n",
      "Alice's basis string : 11010011111110100010\n"
     ]
    }
   ],
   "source": [
    "alice_bits, alice_bases = select_encoding(length_key)\n",
    "print(\"Alice's bits :\",alice_bits[:20],\"\\n\")\n",
    "print(\"Alice's basis string :\",alice_bases[:20])"
   ]
  },
  {
   "cell_type": "markdown",
   "metadata": {},
   "source": [
    "## Step2 : Bob selects bases\n",
    "- BOB NEEDS TO SELECT **only bases**\n",
    "- Why? **BOB ONLY SELECTS THE BASES IN WHICH HE NEEDS TO MEASURE**"
   ]
  },
  {
   "cell_type": "code",
   "execution_count": 14,
   "metadata": {
    "ExecuteTime": {
     "end_time": "2021-03-19T16:15:21.319692Z",
     "start_time": "2021-03-19T16:15:21.316681Z"
    }
   },
   "outputs": [],
   "source": [
    "def select_bob_measurement(length):\n",
    "    bob_bases = \"\"\n",
    "    # bob selects the bases in which he wants to measure\n",
    "    for _ in range(length):\n",
    "        bob_bases += str(getrandbits(1))\n",
    "        \n",
    "    return bob_bases"
   ]
  },
  {
   "cell_type": "code",
   "execution_count": 15,
   "metadata": {
    "ExecuteTime": {
     "end_time": "2021-03-19T16:15:21.741099Z",
     "start_time": "2021-03-19T16:15:21.736146Z"
    }
   },
   "outputs": [
    {
     "name": "stdout",
     "output_type": "stream",
     "text": [
      "Bob's string: 10010001111011000111\n"
     ]
    }
   ],
   "source": [
    "bob_bases = select_bob_measurement(length_key)\n",
    "print(\"Bob's string:\",bob_bases[:20])"
   ]
  },
  {
   "cell_type": "markdown",
   "metadata": {},
   "source": [
    "<a id=\"step3\"></a>\n",
    "## 2.3. Step 3: Encode : All alice\n",
    "\n",
    "Alice now uses her random list of numbers to generate a bunch of quantum states:\n",
    "In this excercise we are going to represent the creation of a qubit as an individual `QuantumCircuit` object.\n",
    "\n",
    "The table below summarizes the qubit states Alice sends, based on the bit of Alice's `alice_bitstring` the corresponding bit of `selected_bases`:\n",
    "\n",
    "| Bit in Alice's `alice_bitstring` | Corresponding bit in `selected_bases` | Encoding basis | Qubit state sent |\n",
    "|:----------------:|:--------------------------:|:--------------------------:|:---------------:|\n",
    "| 0 | 0 | $$|0\\rangle,|1\\rangle$$ |$$|0\\rangle$$ |\n",
    "| 0 | 1 | $$|+\\rangle,|-\\rangle$$ |$$|+\\rangle$$ |\n",
    "| 1 | 0 | $$|0\\rangle,|1\\rangle$$ |$$|1\\rangle$$ |\n",
    "| 1 | 1 | $$|+\\rangle,|-\\rangle$$ |$$|-\\rangle$$ |"
   ]
  },
  {
   "cell_type": "code",
   "execution_count": 31,
   "metadata": {
    "ExecuteTime": {
     "end_time": "2021-03-19T16:26:15.151009Z",
     "start_time": "2021-03-19T16:26:15.138002Z"
    }
   },
   "outputs": [],
   "source": [
    "def generate_zqubit(q):\n",
    "    Q = QuantumCircuit(1,1)\n",
    "    if(int(q) == 1):\n",
    "        Q.x(0)\n",
    "    return Q\n",
    "    \n",
    "def generate_xqubit(q):\n",
    "    Q = QuantumCircuit(1,1)\n",
    "    if(int(q) == 0):\n",
    "        Q.h(0)\n",
    "    else:\n",
    "        Q.x(0)\n",
    "        Q.h(0)\n",
    "    return Q\n",
    "        "
   ]
  },
  {
   "cell_type": "code",
   "execution_count": 32,
   "metadata": {
    "ExecuteTime": {
     "end_time": "2021-03-19T16:26:18.045293Z",
     "start_time": "2021-03-19T16:26:18.035317Z"
    }
   },
   "outputs": [],
   "source": [
    "def encoded_qubits(alice_bits,alice_bases):\n",
    "    '''Encoded qubits : returns a list of QuantumCircuits with \n",
    "                         each QuantumCircuit representing a qubit'''\n",
    "    encoded = []\n",
    "    for i,k in zip(alice_bits,alice_bases):\n",
    "        \n",
    "#         print(\" Alice bit :\",i,\"Basis :\",k)\n",
    "\n",
    "        if(i == '0' and k == '0'):\n",
    "            # encoding is + and qubit would be |0>\n",
    "            q = generate_zqubit(i)\n",
    "        if(i == '1' and k == '0'):\n",
    "            # encoding is + and qubit would be |1> \n",
    "            q = generate_zqubit(i)\n",
    "        if(i == '0' and k == '1'):\n",
    "            # encoding is x and qubit would be |+>\n",
    "            q = generate_xqubit(i) \n",
    "        if(i == '1' and k == '1'):\n",
    "            q = generate_xqubit(i)\n",
    "#         display(q.draw('mpl'))\n",
    "        # now append the qubit in the channel \n",
    "        encoded.append(q)\n",
    "    \n",
    "    return encoded  \n",
    "    "
   ]
  },
  {
   "cell_type": "code",
   "execution_count": 33,
   "metadata": {
    "ExecuteTime": {
     "end_time": "2021-03-19T16:26:22.348729Z",
     "start_time": "2021-03-19T16:26:22.326789Z"
    },
    "scrolled": false
   },
   "outputs": [],
   "source": [
    "encoded_alice_bits = encoded_qubits(alice_bits,alice_bases)"
   ]
  },
  {
   "cell_type": "markdown",
   "metadata": {},
   "source": [
    "## Step4 : All alice\n",
    "- Send the qubits that you have to the **q_channel** \n",
    "- These qubits are just assigned to the quantum channel"
   ]
  },
  {
   "cell_type": "code",
   "execution_count": 34,
   "metadata": {
    "ExecuteTime": {
     "end_time": "2021-03-19T16:26:25.195534Z",
     "start_time": "2021-03-19T16:26:24.701848Z"
    }
   },
   "outputs": [
    {
     "data": {
      "image/png": "[encoded data removed]",
      "text/plain": [
       "<Figure size 193.726x144.48 with 1 Axes>"
      ]
     },
     "metadata": {},
     "output_type": "display_data"
    },
    {
     "data": {
      "image/png": "[encoded data removed]",
      "text/plain": [
       "<Figure size 133.526x144.48 with 1 Axes>"
      ]
     },
     "metadata": {},
     "output_type": "display_data"
    },
    {
     "data": {
      "image/png": "[encoded data removed]",
      "text/plain": [
       "<Figure size 133.526x144.48 with 1 Axes>"
      ]
     },
     "metadata": {},
     "output_type": "display_data"
    },
    {
     "data": {
      "image/png": "[encoded data removed]",
      "text/plain": [
       "<Figure size 193.726x144.48 with 1 Axes>"
      ]
     },
     "metadata": {},
     "output_type": "display_data"
    },
    {
     "data": {
      "image/png": "[encoded data removed]",
      "text/plain": [
       "<Figure size 133.526x144.48 with 1 Axes>"
      ]
     },
     "metadata": {},
     "output_type": "display_data"
    }
   ],
   "source": [
    "q_channel = encoded_alice_bits\n",
    "for k in q_channel[:5]:\n",
    "    display(k.draw('mpl'))"
   ]
  },
  {
   "cell_type": "markdown",
   "metadata": {},
   "source": [
    "## Step5 : Bob Measures\n",
    "- Bob now has to measure the qubits in the **RANDOM BASES THAT HE CHOSE IN PART 2**\n",
    "- Note : At the end of the measurement at Bob's end, **he does not have the key, just HIS MEASUREMENTS**\n",
    "\n",
    "### SHOTS = 1 is important for simulation"
   ]
  },
  {
   "cell_type": "code",
   "execution_count": 36,
   "metadata": {
    "ExecuteTime": {
     "end_time": "2021-03-19T16:39:45.317263Z",
     "start_time": "2021-03-19T16:39:45.307162Z"
    }
   },
   "outputs": [],
   "source": [
    "def measure_key(bob_bases, encoded_qubits,backend):\n",
    "    # Perform the measurement on the qubits you recieved from Alice\n",
    "    \n",
    "    # This is because Bob is going to need to measure the qubit he \n",
    "    # has recieved \n",
    "    \n",
    "    # Bob's bases need not be the same as the bases of Alice\n",
    "    \n",
    "    bob_bitstring = \"\"\n",
    "    for i,k in zip(bob_bases,encoded_qubits):\n",
    "        if i == '0':\n",
    "            # bob chose the Z basis\n",
    "            k.measure(0,0)\n",
    "        else:\n",
    "            # bob chose the x basis\n",
    "            k.h(0) # why? because this is going to bring our |+> as a |0> # and it is going to bring |-> into |1>\n",
    "            k.measure(0,0) \n",
    "        \n",
    "        counts = execute(k,backend=backend,shots= 1).result().get_counts()\n",
    "        \n",
    "        # max with a key is just a max function which gets the key with the maximum value\n",
    "        measure_bit = max(counts, key = counts.get) \n",
    "        bob_bitstring += str(measure_bit)\n",
    "    \n",
    "    return bob_bitstring\n",
    "            "
   ]
  },
  {
   "cell_type": "code",
   "execution_count": 37,
   "metadata": {
    "ExecuteTime": {
     "end_time": "2021-03-19T16:40:44.614791Z",
     "start_time": "2021-03-19T16:40:42.980343Z"
    }
   },
   "outputs": [],
   "source": [
    "sim_backend = Aer.get_backend('qasm_simulator')\n",
    "bob_string = measure_key(bob_bases,q_channel,sim_backend)"
   ]
  },
  {
   "cell_type": "code",
   "execution_count": 38,
   "metadata": {
    "ExecuteTime": {
     "end_time": "2021-03-19T16:40:47.933329Z",
     "start_time": "2021-03-19T16:40:47.919024Z"
    }
   },
   "outputs": [
    {
     "data": {
      "text/plain": [
       "'11111111101100011111101011101000010111001000111110101111111111010110000100111101110111000001110110011101100111111110000101000000000011001101100001110101010001111001101010011100000101101001111010110100'"
      ]
     },
     "execution_count": 38,
     "metadata": {},
     "output_type": "execute_result"
    }
   ],
   "source": [
    "bob_string"
   ]
  },
  {
   "cell_type": "markdown",
   "metadata": {},
   "source": [
    "- The measured string is **not** the same as Alice's key"
   ]
  },
  {
   "cell_type": "code",
   "execution_count": 39,
   "metadata": {
    "ExecuteTime": {
     "end_time": "2021-03-19T16:41:07.144819Z",
     "start_time": "2021-03-19T16:41:07.133558Z"
    }
   },
   "outputs": [
    {
     "data": {
      "text/plain": [
       "False"
      ]
     },
     "execution_count": 39,
     "metadata": {},
     "output_type": "execute_result"
    }
   ],
   "source": [
    "alice_bits == bob_string"
   ]
  },
  {
   "cell_type": "markdown",
   "metadata": {},
   "source": [
    "## Step 6 : All Alice\n",
    "- Announce the BASES to bob via a classical channel.\n",
    "    - Note: **This all happened AFTER THE STATE HAS BEEN SENT SO EVE, EVEN IF SHE HEARD THE BASIS, CAN'T SET UP HER BASES AND THEN MEASURE , BECAUSE THE STATE HAS ALREADY BEEN PASSED THROUGH**"
   ]
  },
  {
   "cell_type": "code",
   "execution_count": 40,
   "metadata": {
    "ExecuteTime": {
     "end_time": "2021-03-19T16:44:12.602630Z",
     "start_time": "2021-03-19T16:44:12.590916Z"
    }
   },
   "outputs": [],
   "source": [
    "c_channel = alice_bases"
   ]
  },
  {
   "cell_type": "markdown",
   "metadata": {},
   "source": [
    "## Step 7 : Find the symmetric key \n",
    "- Now , given you have the bases of ALICE with you, you may identify **which bases you had same as ALICE**"
   ]
  },
  {
   "cell_type": "code",
   "execution_count": 41,
   "metadata": {
    "ExecuteTime": {
     "end_time": "2021-03-19T16:48:02.185650Z",
     "start_time": "2021-03-19T16:48:02.171381Z"
    }
   },
   "outputs": [],
   "source": [
    "def compare_bases(bob_bases,alice_bases):\n",
    "    '''compare_bases function just returns the \n",
    "       list of indices that Bob and Alice agree on \n",
    "       AFTER ALICE ANNOUNCES her bases \n",
    "       '''\n",
    "    indices = []\n",
    "    \n",
    "    for i in range(len(bob_bases)):\n",
    "        if(bob_bases[i] == alice_bases[i]):\n",
    "            indices.append(i)\n",
    "            \n",
    "    return indices"
   ]
  },
  {
   "cell_type": "code",
   "execution_count": 42,
   "metadata": {
    "ExecuteTime": {
     "end_time": "2021-03-19T16:48:21.860735Z",
     "start_time": "2021-03-19T16:48:21.848888Z"
    }
   },
   "outputs": [],
   "source": [
    "indices = compare_bases(bob_bases,c_channel)\n",
    "c_channel = indices "
   ]
  },
  {
   "cell_type": "markdown",
   "metadata": {},
   "source": [
    " Now, Bob will send the information to Alice that **THEY AGREED ON SO AND SO INDICES**"
   ]
  },
  {
   "cell_type": "code",
   "execution_count": 43,
   "metadata": {
    "ExecuteTime": {
     "end_time": "2021-03-19T16:50:14.176614Z",
     "start_time": "2021-03-19T16:50:14.169047Z"
    }
   },
   "outputs": [],
   "source": [
    "def construct_key_from_index(bit_string,indices):\n",
    "    '''Returns the final key for both alice and bob\n",
    "       given that they both know where they agreed upon'''\n",
    "    final_key =\"\"\n",
    "    for k in indices:\n",
    "        final_key+= str(bit_string[k])\n",
    "        \n",
    "    return final_key"
   ]
  },
  {
   "cell_type": "code",
   "execution_count": 44,
   "metadata": {
    "ExecuteTime": {
     "end_time": "2021-03-19T16:50:30.938603Z",
     "start_time": "2021-03-19T16:50:30.932743Z"
    }
   },
   "outputs": [],
   "source": [
    "alice_key = construct_key_from_index(alice_bits,indices)"
   ]
  },
  {
   "cell_type": "code",
   "execution_count": 45,
   "metadata": {
    "ExecuteTime": {
     "end_time": "2021-03-19T16:50:58.020619Z",
     "start_time": "2021-03-19T16:50:58.004802Z"
    }
   },
   "outputs": [],
   "source": [
    "bob_key = construct_key_from_index(bob_string,indices)"
   ]
  },
  {
   "cell_type": "code",
   "execution_count": 47,
   "metadata": {
    "ExecuteTime": {
     "end_time": "2021-03-19T16:51:36.954681Z",
     "start_time": "2021-03-19T16:51:36.946804Z"
    }
   },
   "outputs": [
    {
     "name": "stdout",
     "output_type": "stream",
     "text": [
      "Alice's Key : 1111111010111111010000111011110110001101111001101001111110001100110111010010110010110000110011010110\n",
      "\n",
      "Bob's Key :   1111111010111111010000111011110110001101111001101001111110001100110111010010110010110000110011010110\n"
     ]
    }
   ],
   "source": [
    "print(\"Alice's Key :\",alice_key)\n",
    "print(\"\\nBob's Key :  \",bob_key)"
   ]
  },
  {
   "cell_type": "code",
   "execution_count": null,
   "metadata": {},
   "outputs": [],
   "source": []
  },
  {
   "cell_type": "code",
   "execution_count": null,
   "metadata": {},
   "outputs": [],
   "source": []
  },
  {
   "cell_type": "code",
   "execution_count": null,
   "metadata": {},
   "outputs": [],
   "source": []
  },
  {
   "cell_type": "code",
   "execution_count": null,
   "metadata": {},
   "outputs": [],
   "source": []
  },
  {
   "cell_type": "markdown",
   "metadata": {},
   "source": []
  }
 ],
 "metadata": {
  "kernelspec": {
   "display_name": "Python 3",
   "language": "python",
   "name": "python3"
  },
  "language_info": {
   "codemirror_mode": {
    "name": "ipython",
    "version": 3
   },
   "file_extension": ".py",
   "mimetype": "text/x-python",
   "name": "python",
   "nbconvert_exporter": "python",
   "pygments_lexer": "ipython3",
   "version": "3.7.4"
  },
  "varInspector": {
   "cols": {
    "lenName": 16,
    "lenType": 16,
    "lenVar": 40
   },
   "kernels_config": {
    "python": {
     "delete_cmd_postfix": "",
     "delete_cmd_prefix": "del ",
     "library": "var_list.py",
     "varRefreshCmd": "print(var_dic_list())"
    },
    "r": {
     "delete_cmd_postfix": ") ",
     "delete_cmd_prefix": "rm(",
     "library": "var_list.r",
     "varRefreshCmd": "cat(var_dic_list()) "
    }
   },
   "types_to_exclude": [
    "module",
    "function",
    "builtin_function_or_method",
    "instance",
    "_Feature"
   ],
   "window_display": false
  }
 },
 "nbformat": 4,
 "nbformat_minor": 2
}
