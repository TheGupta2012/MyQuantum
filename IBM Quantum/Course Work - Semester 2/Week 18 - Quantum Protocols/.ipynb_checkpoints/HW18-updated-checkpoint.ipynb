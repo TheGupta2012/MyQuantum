{
 "cells": [
  {
   "cell_type": "markdown",
   "metadata": {
    "id": "Ve4k8M4oUiJg"
   },
   "source": [
    "<div style=\"text-align: center; margin: 50px\">\n",
    "\n",
    "<h1 style=\"color: darkblue; text-align: center;\">Qubit by Qubit - Semester 2</h1>\n",
    "<h3>Quantum Teleporation HW 18</h3>\n",
    "</div>"
   ]
  },
  {
   "cell_type": "markdown",
   "metadata": {
    "id": "4LDTjqwgUiJj"
   },
   "source": [
    "#### Quantum Mechanics allows to do some super cool things, one of those is quantum teleportation.!\n",
    "\n",
    "First let's clarify what is being teleported - we are transfering a quantum state rather than an object of some sort. We can transfer $|\\Psi \\rangle$ from Alice to Bob without copying (cloning) the state $|\\Psi \\rangle$ and only sending two classical bits of information.\n",
    "\n",
    "In this homework we are going to work through the steps of creating a teleportation circuit that will send a state $|\\Psi\\rangle$ from Alice to Bob but also allow us to see the states of each of the qubits thanks to the wonders of simulation.\n",
    "\n",
    "In order to do create the circuit in a way that allows us to visualise teleportation across the qubits we need to use some fairly niche parts of qiskit. To save you from going through the depths of source code and/or documentation we have **largely completed this notebook for you**! It's your job to complete only a few functions and run everything, don't worry too much about any unusual syntax!\n",
    "\n",
    "Try instead to really understand what is going on at each point, feel free to add you own cells and test things out."
   ]
  },
  {
   "cell_type": "code",
   "execution_count": 1,
   "metadata": {
    "ExecuteTime": {
     "end_time": "2021-03-11T15:51:46.925293Z",
     "start_time": "2021-03-11T15:51:05.879568Z"
    },
    "id": "p6u4p3zUUiJl"
   },
   "outputs": [],
   "source": [
    "# As usual import qiskit as q\n",
    "from qiskit import *\n",
    "import numpy as np\n",
    "import matplotlib.pyplot as plt"
   ]
  },
  {
   "cell_type": "markdown",
   "metadata": {
    "id": "-BaqV46gvYdi"
   },
   "source": [
    "## Activity 1: Quantum teleportation pre-requisites\n",
    "\n",
    "A register is just a collection of bits, they can either be quantum or classical as shown below. They make the creation of quantum circuits easier. Let's learn how to make them! For this excercise we need to create two seperate single bit classical registers (this is non-standard qiskit but makes for a great demonstration)\n",
    "\n",
    "1. Let's create a quantum register named qr with 3 qubits and give it a **label 'q'**\n",
    "\n",
    "`qr = q.QuantumRegister(3,'q')`\n",
    "\n",
    "2. Let's create two classical registers, one named \"c_0\" and another named \"c_1\" each with 1 classical bit\n",
    "\n",
    "`c_0 = q.ClassicalRegister(1, 'c0')`\n",
    "\n",
    "`c_1 = q.ClassicalRegister(1, 'c1')`\n",
    "\n",
    "3. We can create a quantum circuit named qc, with a quantum register named qr with 3 qubits and a classical register named cr with 2 classical bits.\n",
    "\n",
    "`qc = q.QuantumCircuit(qr, cr_0, cr_1)`\n",
    "\n",
    "### 1a) Create a quantum circuit using the method described as above:\n",
    "Apply measurement gates on the $q_0$ to $c_0$ and the $q_1$ to $c_1$:\n",
    "\n",
    "`qc.measure([0,1],[0,1])`\n",
    "\n",
    "**N.B.** This should look like an empty circuit with only measurement gates"
   ]
  },
  {
   "cell_type": "code",
   "execution_count": 18,
   "metadata": {
    "ExecuteTime": {
     "end_time": "2021-03-11T16:17:03.894647Z",
     "start_time": "2021-03-11T16:17:03.884576Z"
    }
   },
   "outputs": [],
   "source": [
    "# TODO\n",
    "qr = QuantumRegister(3,name = 'q')\n",
    "cr0 = ClassicalRegister(1,name = 'c0')\n",
    "cr1 = ClassicalRegister(1,name = 'c1')\n",
    "Q = QuantumCircuit(qr,cr0,cr1,name = 'circuit_1')"
   ]
  },
  {
   "cell_type": "code",
   "execution_count": 19,
   "metadata": {
    "ExecuteTime": {
     "end_time": "2021-03-11T16:17:05.937427Z",
     "start_time": "2021-03-11T16:17:05.655082Z"
    }
   },
   "outputs": [
    {
     "data": {
      "image/png": "[encoded data removed]",
      "text/plain": [
       "<Figure size 86.5974x325.08 with 1 Axes>"
      ]
     },
     "execution_count": 19,
     "metadata": {},
     "output_type": "execute_result"
    }
   ],
   "source": [
    "Q.draw('mpl')"
   ]
  },
  {
   "cell_type": "markdown",
   "metadata": {},
   "source": [
    "## Conditional gates\n",
    "For us to correctly create the circuit we need to use a qiskit feature where we apply a controlled gate that depends on the state of a classical bit as the control:\n",
    "\n",
    "> `QuantumCircuit.z(2).c_if(cr_0, 1)`\n",
    "\n",
    "This means we apply a Z gate to qubit 2 only if classical bit 0 is equal to 1\n",
    "\n",
    "### 1b) On the circuit created above, place a conditional z gate on the $Q_2$ qubit, set the control to be classical $C_1$ on the condition that $C_1 = 1$."
   ]
  },
  {
   "cell_type": "code",
   "execution_count": 20,
   "metadata": {
    "ExecuteTime": {
     "end_time": "2021-03-11T16:17:15.742479Z",
     "start_time": "2021-03-11T16:17:15.730202Z"
    }
   },
   "outputs": [
    {
     "data": {
      "text/plain": [
       "<qiskit.circuit.instructionset.InstructionSet at 0x290a37fef88>"
      ]
     },
     "execution_count": 20,
     "metadata": {},
     "output_type": "execute_result"
    }
   ],
   "source": [
    "# TODO\n",
    "Q.z(2).c_if(cr0,1)"
   ]
  },
  {
   "cell_type": "code",
   "execution_count": 21,
   "metadata": {
    "ExecuteTime": {
     "end_time": "2021-03-11T16:17:28.518575Z",
     "start_time": "2021-03-11T16:17:28.220509Z"
    }
   },
   "outputs": [
    {
     "data": {
      "image/png": "[encoded data removed]",
      "text/plain": [
       "<Figure size 146.797x325.08 with 1 Axes>"
      ]
     },
     "execution_count": 21,
     "metadata": {},
     "output_type": "execute_result"
    }
   ],
   "source": [
    "Q.draw('mpl')"
   ]
  },
  {
   "cell_type": "markdown",
   "metadata": {},
   "source": [
    "- Nice!"
   ]
  },
  {
   "cell_type": "markdown",
   "metadata": {},
   "source": [
    "# Activity 2: State teleportation!\n",
    "\n",
    "In this experiment we are going to imagine we have two people, Alice and Bob. Alice has a state $|\\Psi \\rangle$ that she wants to send to Bob. Alice has qubit $Q_0$ and Bob has qubit $Q_2$, using teleportation we can show the state $|\\Psi \\rangle$ transfering from qubit $Q_0$ to qubit $Q_2$ on the same circuit. Unlike a swap operation, $Q_2$ and $Q_0$ never have a quantum gate connecting them - the only information transfered are two classical bits through the $C_0$ and $C_1$ registers.\n",
    "\n",
    "In order to teleport the state $|\\Psi \\rangle$, we must create an entagled pair of qubits and give one of them to Alice and the other to Bob. In the experiement we can imagine a third person Charlie creating the entangled pair to each of Alice and Bob, this is going to be qubit $Q_1$ and $Q_2$.\n",
    "\n",
    "Confused? Let me clarify:\n",
    "\n",
    "Alice starts with $Q_0$,\n",
    "Charlie creates and entagled pair: $Q_1$ and $Q_2$\n",
    "Charlie then distritbutes $Q_1$ to Alice and $Q_2$ to Bob\n",
    "\n",
    "At this point our teleportation circuit if prepared!\n",
    "\n",
    "In order for Alice to send the state $|\\Psi \\rangle$ of $Q_0$, she only needs to send two classical bits of data to Bob and Bob will be able to completely recreate the state $|\\Psi \\rangle$ on his $Q_2$!\n",
    "\n",
    "Amazing! But there's two more key parts we need to figure out: Alice needs to know what two classical bits to send to Bob, and Bob needs to know how to interpret those classical bit's as intructions to recreate $|\\Psi \\rangle$.\n",
    "\n",
    "### Let's first define a function that creates our abstracted teleportation protocol, we've done this for you:\n",
    "\n",
    "**N.B.** When reading through this function you may notice a unusual gate being applied called `qc.snapshot(\"1\")` this gate allows us to save the current value of the statevector at any stage of the circuit. It is only allowed to be used when simulating on the `statevector_simulator`, this is because the `statevector_simulator` is simulating the experiment by calculating probabilities at each point of the circuit. As it is a simulation and does not involve any real qubits, recording (and therefore measuring) does not alter the state of the qubits."
   ]
  },
  {
   "cell_type": "code",
   "execution_count": null,
   "metadata": {},
   "outputs": [],
   "source": [
    "def my_teleport(psi):\n",
    "    # make a random state \n",
    "    init_state = extensions.Initialize(psi)\n",
    "    init_state.label = \"random_state\"\n",
    "    \n",
    "    # creating the circuit \n",
    "    Q = QuantumCircuit(3,2)\n",
    "    # 1. create a shared entangled pair \n",
    "    Q.h(1)\n",
    "    Q.cx(1,2)\n",
    "    \n",
    "    #2. now initialize the unknown qubit with init_state\n",
    "    Q.append(init_state,[0])\n",
    "    \n",
    "    #3. now entangle the alice qubit and the initialized qubit \n",
    "    Q.cx(0,1)\n",
    "    Q.h(0)\n",
    "    \n",
    "    \n",
    "    #4. now perform the measurements\n",
    "    ## 00 - no change \n",
    "    ## 01 - unknown - 0, alice - 1, then X gate on Q2 \n",
    "    ## 10 - unknown - 1, alice - 0, then Z gate on Q2 \n",
    "    ## 11 - both 1, then first X, then Z on Q2 \n",
    "    \n",
    "    ## means "
   ]
  },
  {
   "cell_type": "code",
   "execution_count": 28,
   "metadata": {
    "ExecuteTime": {
     "end_time": "2021-03-11T16:30:20.202370Z",
     "start_time": "2021-03-11T16:30:20.188795Z"
    }
   },
   "outputs": [],
   "source": [
    "# Teleportation Protocol:\n",
    "\n",
    "def teleportation_circuit(psi):\n",
    "\n",
    "    # First we make our state Psi into a initialisation gate\n",
    "    init_gate = extensions.Initialize(psi)\n",
    "    init_gate.label = \"Secret Message!\"\n",
    "    \n",
    "    # Create our circuit!\n",
    "    qr = QuantumRegister(3, name=\"q\")   # Create a 3 qubit quantum register\n",
    "    c_0 = ClassicalRegister(1, name=\"c_0\") # Create 2 single bit classical registers\n",
    "    c_1 = ClassicalRegister(1, name=\"c_1\")\n",
    "    qc = QuantumCircuit(qr, c_0, c_1)\n",
    "\n",
    "    # Initialise Alice's Qubit to have state Psi\n",
    "    qc.append(init_gate, [0])\n",
    "    # We use barrier to split up each segment\n",
    "    qc.barrier()\n",
    "    \n",
    "    # Use snapshot magic to record the initial statevector\n",
    "    qc.snapshot('1')\n",
    "    # We use barrier to split up each segment\n",
    "    qc.barrier()\n",
    "\n",
    "    # Charlie creates the Bell pair\n",
    "    create_bell_pair(qc, 1, 2)\n",
    "    # We use barrier to split up each segment\n",
    "    qc.barrier()\n",
    "\n",
    "    # Alice does gate prep\n",
    "    alice_gates(qc, 0, 1)\n",
    "    # We use barrier to split up each segment\n",
    "    qc.barrier()\n",
    "\n",
    "    # Alice measures her state and sends to Bob\n",
    "    measure_and_send(qc, 0, 1)\n",
    "    # We use barrier to split up each segment\n",
    "    qc.barrier()\n",
    "\n",
    "    # Bob decodes the classical bits and re-creates Psi\n",
    "    bob_gates(qc, 2, c_0, c_1)\n",
    "    # We use barrier to split up each segment\n",
    "    qc.barrier()\n",
    "    \n",
    "    # Use snapshot magic to record the final statevector\n",
    "    qc.snapshot('2')  \n",
    "\n",
    "    # We want our function to return a fully prepared circuit\n",
    "    return qc"
   ]
  },
  {
   "cell_type": "markdown",
   "metadata": {},
   "source": [
    "# Alice, Bob, and Charlie steps:\n",
    "\n",
    "\n",
    "Charlie needs to make an entangled pair - we are going to create the $|\\Phi^+\\rangle$ state between the $q_1$ and $q_2$ qubits, where:\n",
    "\n",
    "$$\n",
    "| \\Phi^+ \\rangle = \\frac{1}{\\sqrt{2}}(|00\\rangle + |11\\rangle\n",
    "$$\n",
    "\n",
    "Alice is now going to apply a CNOT gate with $Q_0$ as control and $Q_1$ as target as well as a hadamard to $Q_0$.\n",
    "\n",
    "Then Alice will measure the $Q_0$ and $Q_1$ qubits and send the classical values to Bob via the classical register.\n",
    "\n",
    "Now with only two bits of classical information, Bob can completely recreate the state of $| \\Psi \\rangle$ on his end!\n",
    "\n",
    "To do this he can follow the following format:\n",
    "\n",
    "**If the first bit is 1, he applies a Z gate, if the second bit is 1 he applies an X gate.**\n",
    "\n",
    "00 = Nothing\n",
    "\n",
    "01 = $X$ gate\n",
    "\n",
    "10 = $Z$ gate\n",
    "\n",
    "11 = $ZX$ gate\n",
    "\n",
    "## 2a) Complete the `create_bell_pair()` and `alice_gate()` functions:\n",
    "Use the `measure_and_send()` and `bob_gates()` as templates!"
   ]
  },
  {
   "cell_type": "code",
   "execution_count": 22,
   "metadata": {
    "ExecuteTime": {
     "end_time": "2021-03-11T16:29:12.822066Z",
     "start_time": "2021-03-11T16:29:12.814194Z"
    }
   },
   "outputs": [],
   "source": [
    "def create_bell_pair(qc, a, b):\n",
    "    # Here we want to create the Phi+ bell state\n",
    "    # 1. Place a hadamard gate on 'a'\n",
    "    # 2. Place a CNOT gate with 'a' as control and 'b' as target\n",
    "    qc.h(a)\n",
    "    qc.cx(a,b)\n",
    "    \n",
    "    # TODO"
   ]
  },
  {
   "cell_type": "code",
   "execution_count": 25,
   "metadata": {
    "ExecuteTime": {
     "end_time": "2021-03-11T16:29:53.611415Z",
     "start_time": "2021-03-11T16:29:53.602622Z"
    }
   },
   "outputs": [],
   "source": [
    "def alice_gates(qc, a, b):\n",
    "    # 1. Place a CNOT gate with 'a' as control and 'b' as target\n",
    "    # 2. Place a hadamard gate on 'a'\n",
    "    qc.cx(a,b)\n",
    "    qc.h(a)\n",
    "    # TODO"
   ]
  },
  {
   "cell_type": "code",
   "execution_count": 24,
   "metadata": {
    "ExecuteTime": {
     "end_time": "2021-03-11T16:29:50.051149Z",
     "start_time": "2021-03-11T16:29:50.045270Z"
    }
   },
   "outputs": [],
   "source": [
    "def measure_and_send(qc, a, b):\n",
    "    # Measure a to 0 and b to 1\n",
    "    qc.measure(a,0)\n",
    "    qc.measure(b,1)"
   ]
  },
  {
   "cell_type": "code",
   "execution_count": 23,
   "metadata": {
    "ExecuteTime": {
     "end_time": "2021-03-11T16:29:48.251516Z",
     "start_time": "2021-03-11T16:29:48.246391Z"
    }
   },
   "outputs": [],
   "source": [
    "def bob_gates(qc, qubit, crz, crx):\n",
    "    # Here we use c_if to control our gates with a classical\n",
    "    # bit instead of a qubit\n",
    "    qc.x(qubit).c_if(crx, 1) # Apply gates if the registers \n",
    "    qc.z(qubit).c_if(crz, 1) # are in the state '1"
   ]
  },
  {
   "cell_type": "markdown",
   "metadata": {},
   "source": [
    "# Activity 3: Simulating Quantum Teleportation!\n",
    "\n",
    "Let's run a simulation on the `statevector_simulator`. We've created Alice's $| \\Psi \\rangle$ state for you:"
   ]
  },
  {
   "cell_type": "code",
   "execution_count": 26,
   "metadata": {
    "ExecuteTime": {
     "end_time": "2021-03-11T16:29:59.749898Z",
     "start_time": "2021-03-11T16:29:59.741495Z"
    }
   },
   "outputs": [],
   "source": [
    "psi = np.array([0.5533920757991503+0.3043529040180291j, 0.6147796854942953+0.4724113234904887j])"
   ]
  },
  {
   "cell_type": "markdown",
   "metadata": {},
   "source": [
    "Now we can create a teleporter circuit using the teleportation_circuit function we defined above:\n",
    "\n",
    "`circ = teleportation_circuit(psi)`\n",
    "\n",
    "### 3a) Create a `teleportation_circuit()` object called `circ` and draw it:"
   ]
  },
  {
   "cell_type": "code",
   "execution_count": 29,
   "metadata": {
    "ExecuteTime": {
     "end_time": "2021-03-11T16:30:23.405561Z",
     "start_time": "2021-03-11T16:30:23.373259Z"
    }
   },
   "outputs": [
    {
     "ename": "NameError",
     "evalue": "name 'q' is not defined",
     "output_type": "error",
     "traceback": [
      "\u001b[1;31m---------------------------------------------------------------------------\u001b[0m",
      "\u001b[1;31mNameError\u001b[0m                                 Traceback (most recent call last)",
      "\u001b[1;32m<ipython-input-29-d3c625a94074>\u001b[0m in \u001b[0;36m<module>\u001b[1;34m\u001b[0m\n\u001b[0;32m      1\u001b[0m \u001b[1;31m# Make a teleportation circuit called circ here:\u001b[0m\u001b[1;33m\u001b[0m\u001b[1;33m\u001b[0m\u001b[1;33m\u001b[0m\u001b[0m\n\u001b[1;32m----> 2\u001b[1;33m \u001b[0mcirc\u001b[0m \u001b[1;33m=\u001b[0m \u001b[0mteleportation_circuit\u001b[0m\u001b[1;33m(\u001b[0m\u001b[0mpsi\u001b[0m\u001b[1;33m)\u001b[0m\u001b[1;33m\u001b[0m\u001b[1;33m\u001b[0m\u001b[0m\n\u001b[0m\u001b[0;32m      3\u001b[0m \u001b[1;31m# TODO\u001b[0m\u001b[1;33m\u001b[0m\u001b[1;33m\u001b[0m\u001b[1;33m\u001b[0m\u001b[0m\n",
      "\u001b[1;32m<ipython-input-28-2abaa31ec77e>\u001b[0m in \u001b[0;36mteleportation_circuit\u001b[1;34m(psi)\u001b[0m\n\u001b[0;32m      4\u001b[0m \u001b[1;33m\u001b[0m\u001b[0m\n\u001b[0;32m      5\u001b[0m     \u001b[1;31m# First we make our state Psi into a initialisation gate\u001b[0m\u001b[1;33m\u001b[0m\u001b[1;33m\u001b[0m\u001b[1;33m\u001b[0m\u001b[0m\n\u001b[1;32m----> 6\u001b[1;33m     \u001b[0minit_gate\u001b[0m \u001b[1;33m=\u001b[0m \u001b[0mq\u001b[0m\u001b[1;33m.\u001b[0m\u001b[0mextensions\u001b[0m\u001b[1;33m.\u001b[0m\u001b[0mInitialize\u001b[0m\u001b[1;33m(\u001b[0m\u001b[0mpsi\u001b[0m\u001b[1;33m)\u001b[0m\u001b[1;33m\u001b[0m\u001b[1;33m\u001b[0m\u001b[0m\n\u001b[0m\u001b[0;32m      7\u001b[0m     \u001b[0minit_gate\u001b[0m\u001b[1;33m.\u001b[0m\u001b[0mlabel\u001b[0m \u001b[1;33m=\u001b[0m \u001b[1;34m\"Secret Message!\"\u001b[0m\u001b[1;33m\u001b[0m\u001b[1;33m\u001b[0m\u001b[0m\n\u001b[0;32m      8\u001b[0m \u001b[1;33m\u001b[0m\u001b[0m\n",
      "\u001b[1;31mNameError\u001b[0m: name 'q' is not defined"
     ]
    }
   ],
   "source": [
    "# Make a teleportation circuit called circ here: \n",
    "circ = teleportation_circuit(psi)\n",
    "# TODO"
   ]
  },
  {
   "cell_type": "markdown",
   "metadata": {},
   "source": [
    "### Test out your new teleportation circuit!\n",
    "\n",
    "First we can simulate it using the statvector_simulator:"
   ]
  },
  {
   "cell_type": "code",
   "execution_count": 11,
   "metadata": {},
   "outputs": [],
   "source": [
    "# Execute the circuit on the simulated backend\n",
    "backend = q.Aer.get_backend('statevector_simulator')\n",
    "result = q.execute(circ, backend).result()\n",
    "\n",
    "# Put our snapshots into a list\n",
    "snapshots = result.data()['snapshots']['statevector']\n",
    "\n",
    "# Get Alice's state:\n",
    "alice_state = snapshots['1']\n",
    "\n",
    "# Get Bob's final state:\n",
    "bob_state = snapshots['2']"
   ]
  },
  {
   "cell_type": "markdown",
   "metadata": {},
   "source": [
    "### Next we can use this cell to check if we've implemented the circuit correctly!\n",
    "\n",
    "Running this cell will print out Alice and Bob's states from the start and finish of the experiment!\n",
    "\n",
    "#### Further work: Try changing Psi and see if it still works! How would you expand this circuit to send more than one state to Bob?"
   ]
  },
  {
   "cell_type": "code",
   "execution_count": null,
   "metadata": {},
   "outputs": [],
   "source": [
    "def check_same_state(alice, bob, psi):\n",
    "    a = alice[0]\n",
    "    b = [c for c in bob[0] if c != 0]\n",
    "    print(\"Psi state: \", psi[0], psi[1])\n",
    "    print(\"Alice's state: \", a[0], a[1])\n",
    "    print(\"Bob's state: \", b[0], b[1])\n",
    "    # For simplicity I am rounding and summing to check for equality\n",
    "    if np.round(a[0]+a[1], 5) == np.round(b[0]+ b[1], 5):\n",
    "        print(\"State Successfully Teleported!\")\n",
    "    else:\n",
    "        print(\"Error: Bob did not get the right state!\")\n",
    "\n",
    "# Check if it's the same state\n",
    "check_same_state(alice_state, bob_state, psi)"
   ]
  },
  {
   "cell_type": "markdown",
   "metadata": {},
   "source": [
    "### © 2020 The Coding School\n",
    "\n",
    "**All rights reserved**\n",
    "\n",
    "*Use of this activity is for personal use only. Copying, reproducing, distributing, posting or sharing this activity in any manner with any third party are prohibited under the terms of this registration. All rights not specifically licensed under the registration are reserved.*"
   ]
  }
 ],
 "metadata": {
  "colab": {
   "name": "Quantum Teleportation Homework.ipynb",
   "provenance": []
  },
  "kernelspec": {
   "display_name": "Python 3",
   "language": "python",
   "name": "python3"
  },
  "language_info": {
   "codemirror_mode": {
    "name": "ipython",
    "version": 3
   },
   "file_extension": ".py",
   "mimetype": "text/x-python",
   "name": "python",
   "nbconvert_exporter": "python",
   "pygments_lexer": "ipython3",
   "version": "3.7.4"
  },
  "varInspector": {
   "cols": {
    "lenName": 16,
    "lenType": 16,
    "lenVar": 40
   },
   "kernels_config": {
    "python": {
     "delete_cmd_postfix": "",
     "delete_cmd_prefix": "del ",
     "library": "var_list.py",
     "varRefreshCmd": "print(var_dic_list())"
    },
    "r": {
     "delete_cmd_postfix": ") ",
     "delete_cmd_prefix": "rm(",
     "library": "var_list.r",
     "varRefreshCmd": "cat(var_dic_list()) "
    }
   },
   "types_to_exclude": [
    "module",
    "function",
    "builtin_function_or_method",
    "instance",
    "_Feature"
   ],
   "window_display": false
  }
 },
 "nbformat": 4,
 "nbformat_minor": 1
}
