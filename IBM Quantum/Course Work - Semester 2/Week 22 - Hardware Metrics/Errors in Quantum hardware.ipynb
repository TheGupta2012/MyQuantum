{
 "cells": [
  {
   "cell_type": "markdown",
   "metadata": {
    "ExecuteTime": {
     "end_time": "2021-04-20T16:32:36.058557Z",
     "start_time": "2021-04-20T16:32:35.292358Z"
    }
   },
   "source": [
    "## Simulation of Circuit on Yorktown and Belem"
   ]
  },
  {
   "cell_type": "markdown",
   "metadata": {},
   "source": [
    "- The goal is to make a CNOT gate between qubit 2 and 4 on a 5 qubit circuit\n",
    "- This circuit is then implemented on IBM - yorktown and IBM - Belem to verify that **does topology play a major role in defining errors?** "
   ]
  },
  {
   "cell_type": "code",
   "execution_count": 92,
   "metadata": {
    "ExecuteTime": {
     "end_time": "2021-04-20T17:07:10.228440Z",
     "start_time": "2021-04-20T17:07:03.592886Z"
    }
   },
   "outputs": [
    {
     "name": "stderr",
     "output_type": "stream",
     "text": [
      "E:\\ANACONDA\\lib\\site-packages\\qiskit\\providers\\ibmq\\ibmqfactory.py:192: UserWarning: Timestamps in IBMQ backend properties, jobs, and job results are all now in local time instead of UTC.\n",
      "  warnings.warn('Timestamps in IBMQ backend properties, jobs, and job results '\n",
      "ibmqfactory.load_account:WARNING:2021-04-20 22:37:04,732: Credentials are already in use. The existing account in the session will be replaced.\n"
     ]
    }
   ],
   "source": [
    "from qiskit import * \n",
    "from qiskit.tools.visualization import plot_histogram \n",
    "import qiskit.tools.jupyter\n",
    "from qiskit.providers.aer.noise import NoiseModel \n",
    "%matplotlib inline \n",
    "import matplotlib.pyplot as plt \n",
    "provider = IBMQ.load_account()"
   ]
  },
  {
   "cell_type": "code",
   "execution_count": 51,
   "metadata": {
    "ExecuteTime": {
     "end_time": "2021-04-20T16:44:53.144738Z",
     "start_time": "2021-04-20T16:44:44.908964Z"
    }
   },
   "outputs": [
    {
     "data": {
      "application/vnd.jupyter.widget-view+json": {
       "model_id": "a73afdc10aa74cbab7ce6b6435dd83b6",
       "version_major": 2,
       "version_minor": 0
      },
      "text/plain": [
       "VBox(children=(HTML(value=\"<h2 style ='color:#ffffff; background-color:#000000;padding-top: 1%; padding-bottom…"
      ]
     },
     "metadata": {},
     "output_type": "display_data"
    }
   ],
   "source": [
    "%qiskit_backend_overview"
   ]
  },
  {
   "cell_type": "markdown",
   "metadata": {},
   "source": [
    "### Getting the backend configurations\n",
    "- Use `get_backend()` method to get the configs of the backend you are trying to simulate"
   ]
  },
  {
   "cell_type": "code",
   "execution_count": 56,
   "metadata": {
    "ExecuteTime": {
     "end_time": "2021-04-20T16:46:52.392529Z",
     "start_time": "2021-04-20T16:46:52.388577Z"
    }
   },
   "outputs": [],
   "source": [
    "york_town = provider.get_backend('ibmq_5_yorktown')"
   ]
  },
  {
   "cell_type": "code",
   "execution_count": 65,
   "metadata": {
    "ExecuteTime": {
     "end_time": "2021-04-20T16:48:28.291866Z",
     "start_time": "2021-04-20T16:48:28.285882Z"
    }
   },
   "outputs": [],
   "source": [
    "belem = provider.get_backend('ibmq_belem')"
   ]
  },
  {
   "cell_type": "markdown",
   "metadata": {},
   "source": [
    "- Use these actual devices to make a simulator just like those original devices"
   ]
  },
  {
   "cell_type": "code",
   "execution_count": 77,
   "metadata": {
    "ExecuteTime": {
     "end_time": "2021-04-20T17:02:01.650695Z",
     "start_time": "2021-04-20T17:02:01.049771Z"
    }
   },
   "outputs": [],
   "source": [
    "noise_york = NoiseModel.from_backend(backend= york_town)\n",
    "noise_belem = NoiseModel.from_backend(backend=belem)"
   ]
  },
  {
   "cell_type": "markdown",
   "metadata": {},
   "source": [
    "## Making the circuit for testing"
   ]
  },
  {
   "cell_type": "code",
   "execution_count": 74,
   "metadata": {
    "ExecuteTime": {
     "end_time": "2021-04-20T17:01:42.205189Z",
     "start_time": "2021-04-20T17:01:41.991544Z"
    }
   },
   "outputs": [
    {
     "data": {
      "image/png": "[encoded data removed]",
      "text/plain": [
       "<Figure size 538.279x385.28 with 1 Axes>"
      ]
     },
     "metadata": {},
     "output_type": "display_data"
    }
   ],
   "source": [
    "qc = QuantumCircuit(5)\n",
    "qc.cx(2,4)\n",
    "qc.measure_all()\n",
    "display(qc.draw('mpl'))"
   ]
  },
  {
   "cell_type": "code",
   "execution_count": 89,
   "metadata": {
    "ExecuteTime": {
     "end_time": "2021-04-20T17:05:38.323352Z",
     "start_time": "2021-04-20T17:05:38.319363Z"
    }
   },
   "outputs": [],
   "source": [
    "def get_qc(i,draw = False):\n",
    "    qc = QuantumCircuit(5,name = 'circ'+str(i))\n",
    "    qc.cx(2,4)\n",
    "    qc.measure_all()\n",
    "    if draw:\n",
    "        display(qc.draw('mpl'))\n",
    "    return qc "
   ]
  },
  {
   "cell_type": "markdown",
   "metadata": {},
   "source": [
    "- This circuit is not simulated on both of the devices and a graph is plotted against the number of shots"
   ]
  },
  {
   "cell_type": "markdown",
   "metadata": {},
   "source": [
    "### Simulating original devices on QASM"
   ]
  },
  {
   "cell_type": "code",
   "execution_count": 102,
   "metadata": {
    "ExecuteTime": {
     "end_time": "2021-04-20T17:15:26.075498Z",
     "start_time": "2021-04-20T17:15:24.614726Z"
    }
   },
   "outputs": [
    {
     "name": "stdout",
     "output_type": "stream",
     "text": [
      "Executing for 256 shots...\n",
      "Executing for 512 shots...\n",
      "Executing for 768 shots...\n",
      "Executing for 1024 shots...\n",
      "Executing for 1280 shots...\n",
      "Executing for 1536 shots...\n",
      "Executing for 1792 shots...\n",
      "Executing for 2048 shots...\n",
      "Executing for 2304 shots...\n",
      "Executing for 2560 shots...\n",
      "Executing for 2816 shots...\n",
      "Executing for 3072 shots...\n",
      "Executing for 3328 shots...\n",
      "Executing for 3584 shots...\n",
      "Probabilities of |00000> on yorktown :  [0.75390625, 0.818359375, 0.78515625, 0.80859375, 0.79453125, 0.787109375, 0.7991071428571429, 0.775390625, 0.7829861111111112, 0.786328125, 0.7883522727272727, 0.7858072916666666, 0.7923677884615384, 0.8013392857142857] \n",
      "\n",
      "Probabilities of |00000> on belem :  [0.93359375, 0.935546875, 0.9361979166666666, 0.94140625, 0.940625, 0.9368489583333334, 0.9397321428571429, 0.92578125, 0.93359375, 0.931640625, 0.9300426136363636, 0.9348958333333334, 0.9308894230769231, 0.9347098214285714]\n"
     ]
    }
   ],
   "source": [
    "shots = [256*i for i in range(1,15)]\n",
    "probs_yorktown = []\n",
    "probs_belem = []\n",
    "backend = Aer.get_backend('qasm_simulator')\n",
    "for s in shots:\n",
    "    # get 2 quantum circuits\n",
    "    q1,q2 = get_qc(i=s//256,draw=False),get_qc(i=s//256 + 1,draw=False)\n",
    "    print(\"Executing for\",s,\"shots...\")\n",
    "    # simulate on the yorktown \n",
    "    job1 = execute(q1, backend= backend,noise_model = noise_york,shots = s)\n",
    "    res1 = job1.result()\n",
    "    c1 = res1.get_counts()['00000'] # should not be any affect as all are 0\n",
    "    probs_yorktown.append(c1/s)\n",
    "    \n",
    "    # simulate on the belem \n",
    "    job2 = execute(q2,backend= backend,noise_model = noise_belem,shots = s)\n",
    "    res2 = job2.result()\n",
    "    c2 = res2.get_counts()['00000'] # should not be any affect as all are 0\n",
    "    probs_belem.append(c2/s)\n",
    "    \n",
    "\n",
    "print(\"Probabilities of |00000> on yorktown : \",probs_yorktown,\"\\n\")\n",
    "print(\"Probabilities of |00000> on belem : \",probs_belem)\n",
    "\n",
    "    "
   ]
  },
  {
   "cell_type": "code",
   "execution_count": 103,
   "metadata": {
    "ExecuteTime": {
     "end_time": "2021-04-20T17:15:27.770072Z",
     "start_time": "2021-04-20T17:15:27.637352Z"
    }
   },
   "outputs": [
    {
     "data": {
      "image/png": "[encoded data removed]",
      "text/plain": [
       "<Figure size 432x288 with 1 Axes>"
      ]
     },
     "metadata": {
      "needs_background": "light"
     },
     "output_type": "display_data"
    }
   ],
   "source": [
    "plt.plot(shots,probs_yorktown,marker='o',label = \"York Town\")\n",
    "plt.plot(shots,probs_belem,marker='s',label = \"Belem\")\n",
    "plt.xlabel(\"Number of shots\",fontsize = 15)\n",
    "plt.ylabel(\"Probability of |00000>\",fontsize = 15)\n",
    "plt.legend()\n",
    "plt.show()"
   ]
  },
  {
   "cell_type": "markdown",
   "metadata": {},
   "source": [
    "- Since the **ibmq_belem** has a CNOT error of ~ 0.0098 which is lesser than the 0.0183 CNOT error of the **ibmq_yorktown**, thus **ibmq_belem** has a better probability of detecting the correct |00000> state with HIGHER PROBABILITY."
   ]
  },
  {
   "cell_type": "markdown",
   "metadata": {},
   "source": [
    "### Testing for actual flip too\n",
    "- The bit is now made 1 so that CX is actually executed! \n",
    "- Let's see errors now\n"
   ]
  },
  {
   "cell_type": "code",
   "execution_count": 105,
   "metadata": {
    "ExecuteTime": {
     "end_time": "2021-04-20T17:16:46.787404Z",
     "start_time": "2021-04-20T17:16:46.563290Z"
    }
   },
   "outputs": [
    {
     "data": {
      "image/png": "[encoded data removed]",
      "text/plain": [
       "<Figure size 598.479x385.28 with 1 Axes>"
      ]
     },
     "metadata": {},
     "output_type": "display_data"
    }
   ],
   "source": [
    "qc = QuantumCircuit(5)\n",
    "qc.x(2)\n",
    "qc.cx(2,4)\n",
    "qc.measure_all()\n",
    "display(qc.draw('mpl'))"
   ]
  },
  {
   "cell_type": "code",
   "execution_count": 108,
   "metadata": {
    "ExecuteTime": {
     "end_time": "2021-04-20T17:18:50.280453Z",
     "start_time": "2021-04-20T17:18:50.275469Z"
    }
   },
   "outputs": [],
   "source": [
    "def get_qc2(i):\n",
    "    qc = QuantumCircuit(5,name = 'circ'+str(i))\n",
    "    qc.x(2)\n",
    "    qc.cx(2,4)\n",
    "    qc.measure_all()\n",
    "    return qc "
   ]
  },
  {
   "cell_type": "markdown",
   "metadata": {},
   "source": [
    "### Simulating the circuit\n",
    "- Note : the target state is going to be '10100' as the most significant bit is flipped"
   ]
  },
  {
   "cell_type": "code",
   "execution_count": 109,
   "metadata": {
    "ExecuteTime": {
     "end_time": "2021-04-20T17:18:52.659620Z",
     "start_time": "2021-04-20T17:18:51.239299Z"
    }
   },
   "outputs": [
    {
     "name": "stdout",
     "output_type": "stream",
     "text": [
      "Executing for 256 shots...\n",
      "Executing for 512 shots...\n",
      "Executing for 768 shots...\n",
      "Executing for 1024 shots...\n",
      "Executing for 1280 shots...\n",
      "Executing for 1536 shots...\n",
      "Executing for 1792 shots...\n",
      "Executing for 2048 shots...\n",
      "Executing for 2304 shots...\n",
      "Executing for 2560 shots...\n",
      "Executing for 2816 shots...\n",
      "Executing for 3072 shots...\n",
      "Executing for 3328 shots...\n",
      "Executing for 3584 shots...\n",
      "Probabilities of |10100> on yorktown :  [0.71484375, 0.697265625, 0.7213541666666666, 0.72265625, 0.715625, 0.7115885416666666, 0.6897321428571429, 0.71044921875, 0.7174479166666666, 0.725390625, 0.7027698863636364, 0.712890625, 0.7154447115384616, 0.728515625] \n",
      "\n",
      "Probabilities of |10100> on belem :  [0.8515625, 0.84375, 0.88671875, 0.888671875, 0.865625, 0.87890625, 0.8655133928571429, 0.8779296875, 0.8715277777777778, 0.868359375, 0.8678977272727273, 0.8727213541666666, 0.8728966346153846, 0.8747209821428571]\n"
     ]
    }
   ],
   "source": [
    "shots = [256*i for i in range(1,15)]\n",
    "probs_yorktown = []\n",
    "probs_belem = []\n",
    "backend = Aer.get_backend('qasm_simulator')\n",
    "for s in shots:\n",
    "    # get 2 quantum circuits\n",
    "    q1,q2 = get_qc2(i=s//256),get_qc2(i=s//256 + 1)\n",
    "    print(\"Executing for\",s,\"shots...\")\n",
    "    # simulate on the yorktown \n",
    "    job1 = execute(q1, backend= backend,noise_model = noise_york,shots = s)\n",
    "    res1 = job1.result()\n",
    "    c1 = res1.get_counts()['10100'] # should not be any affect as all are 0\n",
    "    probs_yorktown.append(c1/s)\n",
    "    \n",
    "    # simulate on the belem \n",
    "    job2 = execute(q2,backend= backend,noise_model = noise_belem,shots = s)\n",
    "    res2 = job2.result()\n",
    "    c2 = res2.get_counts()['10100'] # should not be any affect as all are 0\n",
    "    probs_belem.append(c2/s)\n",
    "    \n",
    "\n",
    "print(\"Probabilities of |10100> on yorktown : \",probs_yorktown,\"\\n\")\n",
    "print(\"Probabilities of |10100> on belem : \",probs_belem)\n",
    "\n",
    "    "
   ]
  },
  {
   "cell_type": "code",
   "execution_count": 110,
   "metadata": {
    "ExecuteTime": {
     "end_time": "2021-04-20T17:19:03.754395Z",
     "start_time": "2021-04-20T17:19:03.619756Z"
    }
   },
   "outputs": [
    {
     "data": {
      "image/png": "[encoded data removed]",
      "text/plain": [
       "<Figure size 432x288 with 1 Axes>"
      ]
     },
     "metadata": {
      "needs_background": "light"
     },
     "output_type": "display_data"
    }
   ],
   "source": [
    "plt.plot(shots,probs_yorktown,marker='o',label = \"York Town\")\n",
    "plt.plot(shots,probs_belem,marker='s',label = \"Belem\")\n",
    "plt.xlabel(\"Number of shots\",fontsize = 15)\n",
    "plt.ylabel(\"Probability of |10100>\",fontsize = 15)\n",
    "plt.legend()\n",
    "plt.show()"
   ]
  },
  {
   "cell_type": "markdown",
   "metadata": {},
   "source": [
    "- Again , BELEM shines over york town as it has **lower CNOT error rate**!"
   ]
  },
  {
   "cell_type": "code",
   "execution_count": null,
   "metadata": {},
   "outputs": [],
   "source": []
  }
 ],
 "metadata": {
  "kernelspec": {
   "display_name": "Python 3",
   "language": "python",
   "name": "python3"
  },
  "language_info": {
   "codemirror_mode": {
    "name": "ipython",
    "version": 3
   },
   "file_extension": ".py",
   "mimetype": "text/x-python",
   "name": "python",
   "nbconvert_exporter": "python",
   "pygments_lexer": "ipython3",
   "version": "3.7.4"
  },
  "varInspector": {
   "cols": {
    "lenName": 16,
    "lenType": 16,
    "lenVar": 40
   },
   "kernels_config": {
    "python": {
     "delete_cmd_postfix": "",
     "delete_cmd_prefix": "del ",
     "library": "var_list.py",
     "varRefreshCmd": "print(var_dic_list())"
    },
    "r": {
     "delete_cmd_postfix": ") ",
     "delete_cmd_prefix": "rm(",
     "library": "var_list.r",
     "varRefreshCmd": "cat(var_dic_list()) "
    }
   },
   "types_to_exclude": [
    "module",
    "function",
    "builtin_function_or_method",
    "instance",
    "_Feature"
   ],
   "window_display": false
  }
 },
 "nbformat": 4,
 "nbformat_minor": 2
}
